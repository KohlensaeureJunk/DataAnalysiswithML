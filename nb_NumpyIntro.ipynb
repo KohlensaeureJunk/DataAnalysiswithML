{
 "cells": [
  {
   "cell_type": "markdown",
   "metadata": {
    "toc": true
   },
   "source": [
    "<h1>Table of Contents<span class=\"tocSkip\"></span></h1>\n",
    "<div class=\"toc\"><ul class=\"toc-item\"><li><span><a href=\"#Numpy,-Scipy-and-Matplotlib\" data-toc-modified-id=\"Numpy,-Scipy-and-Matplotlib-1\"><span class=\"toc-item-num\">1&nbsp;&nbsp;</span>Numpy, Scipy and Matplotlib</a></span></li><li><span><a href=\"#NumPy\" data-toc-modified-id=\"NumPy-2\"><span class=\"toc-item-num\">2&nbsp;&nbsp;</span>NumPy</a></span><ul class=\"toc-item\"><li><span><a href=\"#Numpy-arrays\" data-toc-modified-id=\"Numpy-arrays-2.1\"><span class=\"toc-item-num\">2.1&nbsp;&nbsp;</span>Numpy arrays</a></span><ul class=\"toc-item\"><li><span><a href=\"#Memory-layout---Python-list-vs-numpy-ndarray\" data-toc-modified-id=\"Memory-layout---Python-list-vs-numpy-ndarray-2.1.1\"><span class=\"toc-item-num\">2.1.1&nbsp;&nbsp;</span>Memory layout - Python list vs numpy ndarray</a></span></li><li><span><a href=\"#Creating-arrays\" data-toc-modified-id=\"Creating-arrays-2.1.2\"><span class=\"toc-item-num\">2.1.2&nbsp;&nbsp;</span>Creating arrays</a></span></li></ul></li><li><span><a href=\"#Numpy-datatypes\" data-toc-modified-id=\"Numpy-datatypes-2.2\"><span class=\"toc-item-num\">2.2&nbsp;&nbsp;</span>Numpy datatypes</a></span></li><li><span><a href=\"#Working-with-numpy-arrays\" data-toc-modified-id=\"Working-with-numpy-arrays-2.3\"><span class=\"toc-item-num\">2.3&nbsp;&nbsp;</span>Working with numpy arrays</a></span><ul class=\"toc-item\"><li><span><a href=\"#numpy-ufuncs\" data-toc-modified-id=\"numpy-ufuncs-2.3.1\"><span class=\"toc-item-num\">2.3.1&nbsp;&nbsp;</span>numpy ufuncs</a></span></li></ul></li><li><span><a href=\"#Array-indexing-and-slicing\" data-toc-modified-id=\"Array-indexing-and-slicing-2.4\"><span class=\"toc-item-num\">2.4&nbsp;&nbsp;</span>Array indexing and slicing</a></span><ul class=\"toc-item\"><li><span><a href=\"#Array-filtering\" data-toc-modified-id=\"Array-filtering-2.4.1\"><span class=\"toc-item-num\">2.4.1&nbsp;&nbsp;</span>Array filtering</a></span></li><li><span><a href=\"#Array-IO\" data-toc-modified-id=\"Array-IO-2.4.2\"><span class=\"toc-item-num\">2.4.2&nbsp;&nbsp;</span>Array IO</a></span></li><li><span><a href=\"#Basic-statistics\" data-toc-modified-id=\"Basic-statistics-2.4.3\"><span class=\"toc-item-num\">2.4.3&nbsp;&nbsp;</span>Basic statistics</a></span></li></ul></li><li><span><a href=\"#Linear-Algebra\" data-toc-modified-id=\"Linear-Algebra-2.5\"><span class=\"toc-item-num\">2.5&nbsp;&nbsp;</span>Linear Algebra</a></span><ul class=\"toc-item\"><li><ul class=\"toc-item\"><li><span><a href=\"#Solving-system-of-equations\" data-toc-modified-id=\"Solving-system-of-equations-2.5.0.1\"><span class=\"toc-item-num\">2.5.0.1&nbsp;&nbsp;</span>Solving system of equations</a></span></li></ul></li><li><span><a href=\"#numpy---many-more-features\" data-toc-modified-id=\"numpy---many-more-features-2.5.1\"><span class=\"toc-item-num\">2.5.1&nbsp;&nbsp;</span>numpy - many more features</a></span></li></ul></li></ul></li></ul></div>"
   ]
  },
  {
   "cell_type": "markdown",
   "metadata": {},
   "source": [
    "# Numpy, Scipy and Matplotlib\n",
    "There are numerous scientific programs, packages and libraries written in various programming languages: \n",
    "\n",
    "*Mathematica, Maple, Matlab, Root, R, Numerical Recipes, etc*\n",
    "\n",
    "For python the de-facto standard are the \n",
    "*Numpy, Scipy and Matplotlib* packages.\n",
    "They allow to combine the ease and flexibility of Python programming\n",
    "with efficient and powerful libraries, which provide state-of-the art functionality and fast execution also for large applications. \n",
    "\n"
   ]
  },
  {
   "cell_type": "markdown",
   "metadata": {},
   "source": [
    "# NumPy\n",
    "\n",
    "Applications in Science and Physics often require very cpu-intensive operations, e.g:\n",
    "\n",
    "* large equation systems\n",
    "* matrices \n",
    "* numerical integration\n",
    "* fourier-transformation\n",
    "* random number generation\n",
    "* ...\n",
    "\n",
    "Rich legacy of numerical libraries written e.g. in \n",
    " Fortran or C/C++ (e.g. Numerical Recipes). \n",
    "This is also used with *numpy*, which offers an interface to BLAS (Basic Linear Algebra Library) and ATLAS (Automatically Tuned Linear Algebra Software).\n",
    "\n",
    "Moreover, *numpy* offers a very efficient array datatype `ndarray` which provides a homogeneous store for numerical data types and operations and functions for it. The backend is written in **`C`** and allows efficient vectorised or parallelized operations on large array structures.\n"
   ]
  },
  {
   "cell_type": "code",
   "execution_count": 1,
   "metadata": {},
   "outputs": [],
   "source": [
    "import numpy as np"
   ]
  },
  {
   "cell_type": "code",
   "execution_count": 2,
   "metadata": {},
   "outputs": [
    {
     "name": "stdout",
     "output_type": "stream",
     "text": [
      "2.33 s ± 105 ms per loop (mean ± std. dev. of 7 runs, 1 loop each)\n"
     ]
    }
   ],
   "source": [
    "%%timeit\n",
    "# std pythons lists\n",
    "a = range(10000000)\n",
    "b = range(10000000)\n",
    "c = []\n",
    "for i in range(len(a)):\n",
    "  c.append(a[i] + b[i])\n"
   ]
  },
  {
   "cell_type": "code",
   "execution_count": 3,
   "metadata": {},
   "outputs": [
    {
     "name": "stdout",
     "output_type": "stream",
     "text": [
      "66.6 ms ± 1.62 ms per loop (mean ± std. dev. of 7 runs, 10 loops each)\n"
     ]
    }
   ],
   "source": [
    "%%timeit\n",
    "# same with numpy\n",
    "import numpy as np\n",
    "a = np.arange(10000000)\n",
    "b = np.arange(10000000) \n",
    "c = a + b\n"
   ]
  },
  {
   "cell_type": "markdown",
   "metadata": {},
   "source": [
    "## Numpy arrays\n",
    "The basis of numpy is the **`ndarray`**, this is a homogeneous array especially for numerical data types.\n",
    "* It supports many different kinds of integer, float and boolean data types\n",
    "* but homogeneous, all elements in array of same type\n",
    "  * *(not quite true, elements can also be Python objects and thereby any Python type, but that's exceptional case)*\n",
    "* not just a list, it contains additional information on *shape* (\"n-dimensional\")\n",
    "* many utility functions to create, fill, store, extract, manipulate\n"
   ]
  },
  {
   "cell_type": "code",
   "execution_count": 5,
   "metadata": {},
   "outputs": [
    {
     "data": {
      "text/plain": [
       "[0, 1, 2, 3, 4, 5, 6, 7, 8, 9]"
      ]
     },
     "execution_count": 5,
     "metadata": {},
     "output_type": "execute_result"
    }
   ],
   "source": [
    "# std python list very flexible\n",
    "L = list(range(10)) # homogeneous list\n",
    "L"
   ]
  },
  {
   "cell_type": "code",
   "execution_count": 6,
   "metadata": {},
   "outputs": [
    {
     "data": {
      "text/plain": [
       "[bool, str, float, int]"
      ]
     },
     "execution_count": 6,
     "metadata": {},
     "output_type": "execute_result"
    }
   ],
   "source": [
    "# but also arbitrary elements\n",
    "L3 = [True, \"2\", 3.0, 4]\n",
    "[type(item) for item in L3]"
   ]
  },
  {
   "cell_type": "code",
   "execution_count": 10,
   "metadata": {},
   "outputs": [
    {
     "data": {
      "text/plain": [
       "array(['True', '2', '3.0', '4'], dtype='<U32')"
      ]
     },
     "execution_count": 10,
     "metadata": {},
     "output_type": "execute_result"
    }
   ],
   "source": [
    "np.array(L3)"
   ]
  },
  {
   "cell_type": "code",
   "execution_count": 7,
   "metadata": {},
   "outputs": [
    {
     "data": {
      "text/plain": [
       "array([1, 4, 2, 5, 3])"
      ]
     },
     "execution_count": 7,
     "metadata": {},
     "output_type": "execute_result"
    }
   ],
   "source": [
    "# numpy array from python list\n",
    "np.array([1, 4, 2, 5, 3]) #  integer elements --> integer array"
   ]
  },
  {
   "cell_type": "code",
   "execution_count": 8,
   "metadata": {},
   "outputs": [
    {
     "data": {
      "text/plain": [
       "array([1. , 4.2, 2. , 5. , 3. ])"
      ]
     },
     "execution_count": 8,
     "metadata": {},
     "output_type": "execute_result"
    }
   ],
   "source": [
    "# numpy array from python list\n",
    "np.array([1, 4.2, 2, 5, 3]) #  one float --> float array"
   ]
  },
  {
   "cell_type": "code",
   "execution_count": 9,
   "metadata": {},
   "outputs": [
    {
     "data": {
      "text/plain": [
       "array([1., 4., 2., 5., 3.], dtype=float32)"
      ]
     },
     "execution_count": 9,
     "metadata": {},
     "output_type": "execute_result"
    }
   ],
   "source": [
    "# can also enforce data type\n",
    "np.array([1, 4, 2, 5, 3], dtype='float32')"
   ]
  },
  {
   "cell_type": "code",
   "execution_count": 12,
   "metadata": {},
   "outputs": [],
   "source": [
    "# will truncate\n",
    "d = np.array([1, 4, 2, 5.7, 3.4, 1000000], int)"
   ]
  },
  {
   "cell_type": "code",
   "execution_count": 13,
   "metadata": {},
   "outputs": [
    {
     "data": {
      "text/plain": [
       "dtype('int32')"
      ]
     },
     "execution_count": 13,
     "metadata": {},
     "output_type": "execute_result"
    }
   ],
   "source": [
    "# datatype as specified\n",
    "d.dtype"
   ]
  },
  {
   "cell_type": "code",
   "execution_count": 14,
   "metadata": {},
   "outputs": [
    {
     "data": {
      "text/plain": [
       "array([      1,       4,       2,       5,       3, 1000000])"
      ]
     },
     "execution_count": 14,
     "metadata": {},
     "output_type": "execute_result"
    }
   ],
   "source": [
    "# float → int\n",
    "d"
   ]
  },
  {
   "cell_type": "markdown",
   "metadata": {},
   "source": [
    "### Memory layout - Python list vs numpy ndarray\n",
    "* A python list is a list of **pointers/references** to the actual objects\n",
    "  * very flexible, but also inefficient when accessing large arrays\n",
    "* in contrast, numpy ndarray contains directly all elements\n",
    "  * efficient to process but needs to have specific data type"
   ]
  },
  {
   "cell_type": "markdown",
   "metadata": {},
   "source": [
    "![Array Memory Layout](figures/array_vs_list.png)"
   ]
  },
  {
   "cell_type": "markdown",
   "metadata": {},
   "source": [
    "### Creating arrays"
   ]
  },
  {
   "cell_type": "code",
   "execution_count": 15,
   "metadata": {},
   "outputs": [
    {
     "data": {
      "text/plain": [
       "array([0, 0, 0, 0, 0, 0, 0, 0, 0, 0])"
      ]
     },
     "execution_count": 15,
     "metadata": {},
     "output_type": "execute_result"
    }
   ],
   "source": [
    "# Create a length-10 integer array filled with zeros\n",
    "np.zeros(10, dtype=int)"
   ]
  },
  {
   "cell_type": "code",
   "execution_count": 16,
   "metadata": {},
   "outputs": [
    {
     "data": {
      "text/plain": [
       "array([[[1., 1.],\n",
       "        [1., 1.],\n",
       "        [1., 1.],\n",
       "        [1., 1.],\n",
       "        [1., 1.]],\n",
       "\n",
       "       [[1., 1.],\n",
       "        [1., 1.],\n",
       "        [1., 1.],\n",
       "        [1., 1.],\n",
       "        [1., 1.]],\n",
       "\n",
       "       [[1., 1.],\n",
       "        [1., 1.],\n",
       "        [1., 1.],\n",
       "        [1., 1.],\n",
       "        [1., 1.]]])"
      ]
     },
     "execution_count": 16,
     "metadata": {},
     "output_type": "execute_result"
    }
   ],
   "source": [
    "# Create a 3x5 floating-point array filled with ones\n",
    "np.ones((3, 5, 2), dtype=float)"
   ]
  },
  {
   "cell_type": "code",
   "execution_count": 17,
   "metadata": {},
   "outputs": [
    {
     "data": {
      "text/plain": [
       "array([ 2. ,  2.1,  2.2,  2.3,  2.4,  2.5,  2.6,  2.7,  2.8,  2.9,  3. ,\n",
       "        3.1,  3.2,  3.3,  3.4,  3.5,  3.6,  3.7,  3.8,  3.9,  4. ,  4.1,\n",
       "        4.2,  4.3,  4.4,  4.5,  4.6,  4.7,  4.8,  4.9,  5. ,  5.1,  5.2,\n",
       "        5.3,  5.4,  5.5,  5.6,  5.7,  5.8,  5.9,  6. ,  6.1,  6.2,  6.3,\n",
       "        6.4,  6.5,  6.6,  6.7,  6.8,  6.9,  7. ,  7.1,  7.2,  7.3,  7.4,\n",
       "        7.5,  7.6,  7.7,  7.8,  7.9,  8. ,  8.1,  8.2,  8.3,  8.4,  8.5,\n",
       "        8.6,  8.7,  8.8,  8.9,  9. ,  9.1,  9.2,  9.3,  9.4,  9.5,  9.6,\n",
       "        9.7,  9.8,  9.9, 10. , 10.1, 10.2, 10.3, 10.4, 10.5, 10.6, 10.7,\n",
       "       10.8, 10.9, 11. , 11.1, 11.2, 11.3, 11.4, 11.5, 11.6, 11.7, 11.8,\n",
       "       11.9, 12. , 12.1, 12.2, 12.3, 12.4, 12.5, 12.6, 12.7, 12.8, 12.9,\n",
       "       13. , 13.1, 13.2, 13.3, 13.4, 13.5, 13.6, 13.7, 13.8, 13.9, 14. ,\n",
       "       14.1, 14.2, 14.3, 14.4, 14.5, 14.6, 14.7, 14.8, 14.9, 15. , 15.1,\n",
       "       15.2, 15.3, 15.4, 15.5, 15.6, 15.7, 15.8, 15.9, 16. , 16.1, 16.2,\n",
       "       16.3, 16.4, 16.5, 16.6, 16.7, 16.8, 16.9, 17. , 17.1, 17.2, 17.3,\n",
       "       17.4, 17.5, 17.6, 17.7, 17.8, 17.9, 18. , 18.1, 18.2, 18.3, 18.4,\n",
       "       18.5, 18.6, 18.7, 18.8, 18.9, 19. , 19.1, 19.2, 19.3, 19.4, 19.5,\n",
       "       19.6, 19.7, 19.8, 19.9])"
      ]
     },
     "execution_count": 17,
     "metadata": {},
     "output_type": "execute_result"
    }
   ],
   "source": [
    "# Create an array filled with a linear sequence\n",
    "# Starting at 0, ending at 20, stepping by 2\n",
    "# (this is similar to the built-in range() function)\n",
    "np.arange(2, 20, 0.1)"
   ]
  },
  {
   "cell_type": "code",
   "execution_count": 18,
   "metadata": {},
   "outputs": [
    {
     "data": {
      "text/plain": [
       "array([0. , 0.1, 0.2, 0.3, 0.4, 0.5, 0.6, 0.7, 0.8, 0.9, 1. ])"
      ]
     },
     "execution_count": 18,
     "metadata": {},
     "output_type": "execute_result"
    }
   ],
   "source": [
    "# Create an array of 11 values evenly spaced between 0 and 1\n",
    "np.linspace(0, 1, 11)"
   ]
  },
  {
   "cell_type": "code",
   "execution_count": 19,
   "metadata": {},
   "outputs": [
    {
     "data": {
      "text/plain": [
       "array([1.00000000e+00, 3.59381366e+00, 1.29154967e+01, 4.64158883e+01,\n",
       "       1.66810054e+02, 5.99484250e+02, 2.15443469e+03, 7.74263683e+03,\n",
       "       2.78255940e+04, 1.00000000e+05])"
      ]
     },
     "execution_count": 19,
     "metadata": {},
     "output_type": "execute_result"
    }
   ],
   "source": [
    "# Create an array of 10 values logarithmically spaced between 10**0 and 10**5\n",
    "np.logspace(0, 5, 10)"
   ]
  },
  {
   "cell_type": "code",
   "execution_count": 20,
   "metadata": {},
   "outputs": [
    {
     "data": {
      "text/plain": [
       "array([ 1.,  2.,  4.,  8., 16., 32.])"
      ]
     },
     "execution_count": 20,
     "metadata": {},
     "output_type": "execute_result"
    }
   ],
   "source": [
    "# can use different base\n",
    "np.logspace(0, 5, 6, base = 2)"
   ]
  },
  {
   "cell_type": "code",
   "execution_count": 21,
   "metadata": {},
   "outputs": [
    {
     "data": {
      "text/plain": [
       "array([[0.02391227, 0.09786001, 0.73654411, 0.47366092, 0.53241183],\n",
       "       [0.0627105 , 0.5074695 , 0.34746208, 0.20707669, 0.72517209],\n",
       "       [0.77585958, 0.74574017, 0.49129774, 0.02718034, 0.58521213],\n",
       "       [0.4004125 , 0.408677  , 0.83897246, 0.805336  , 0.39828958],\n",
       "       [0.63298606, 0.69573085, 0.27710191, 0.35262417, 0.13751912],\n",
       "       [0.10801125, 0.78698532, 0.91215182, 0.41836952, 0.07102603],\n",
       "       [0.66700514, 0.39175818, 0.5870398 , 0.53601926, 0.17037621],\n",
       "       [0.53326677, 0.0250204 , 0.81169483, 0.20507208, 0.30517414],\n",
       "       [0.24972531, 0.2137573 , 0.60505342, 0.4148413 , 0.49132059],\n",
       "       [0.27016114, 0.98866302, 0.0028479 , 0.53031102, 0.52728891]])"
      ]
     },
     "execution_count": 21,
     "metadata": {},
     "output_type": "execute_result"
    }
   ],
   "source": [
    "# Create an array of 5 uniformly distributed\n",
    "# random values between 0 and 1\n",
    "np.random.random((10,5))"
   ]
  },
  {
   "cell_type": "code",
   "execution_count": 22,
   "metadata": {},
   "outputs": [
    {
     "data": {
      "text/plain": [
       "array([[0.58449485, 0.63650692, 0.37021875],\n",
       "       [0.68019832, 0.23802903, 0.71762406],\n",
       "       [0.74459235, 0.81330847, 0.90258111]])"
      ]
     },
     "execution_count": 22,
     "metadata": {},
     "output_type": "execute_result"
    }
   ],
   "source": [
    "# Create a 3x3 array of uniformly distributed\n",
    "# random values between 0 and 1\n",
    "np.random.random((3, 3))"
   ]
  },
  {
   "cell_type": "code",
   "execution_count": 23,
   "metadata": {},
   "outputs": [
    {
     "data": {
      "text/plain": [
       "array([[-0.05957696, -0.23972062, -0.6701933 ,  0.57451471, -0.59942721],\n",
       "       [-0.30718094, -0.56267614, -0.03928456,  0.42826296, -1.28826183],\n",
       "       [-0.39353739,  0.12537963,  1.66528206, -1.20561951, -0.14010057],\n",
       "       [ 1.13983895, -0.47171395, -0.12575969,  1.63544353, -1.2325688 ],\n",
       "       [-0.47662449, -0.68243176, -1.73599247, -2.22698478,  0.2209087 ],\n",
       "       [ 1.70444269,  1.36182197, -0.32596845, -0.69616538,  2.01681403],\n",
       "       [-0.63104006, -0.94098326,  0.30990804, -0.34976237,  1.60093925],\n",
       "       [ 0.03057956,  0.18287721, -2.14948462, -0.7597552 , -0.38114709],\n",
       "       [-0.99542464,  0.97706158, -0.85270153,  0.06746362,  0.91286731],\n",
       "       [-1.02166224,  1.33350345,  0.7679047 , -0.86268914,  0.38967006]])"
      ]
     },
     "execution_count": 23,
     "metadata": {},
     "output_type": "execute_result"
    }
   ],
   "source": [
    "# Create an array of 10 normal distributed\n",
    "# random values with mean 0 and std deviation 1\n",
    "np.random.normal(0, 1, (10,5))"
   ]
  },
  {
   "cell_type": "markdown",
   "metadata": {},
   "source": [
    "https://www-static.etp.physik.uni-muenchen.de/kurs/Computing/python/nb/nb_NumpyIntro.ipynb## Numpy datatypes\n",
    "In most cases Python/numpy automatically identifies suitable data-type, though sometimes it can be useful to explicitly specify the desired type.\n",
    "\n",
    "Here the list of supported types:\n",
    "\n",
    "\n",
    "| Data type\t    | Description |\n",
    "|---------------|-------------|\n",
    "| ``bool_``     | Boolean (True or False) stored as a byte |\n",
    "| ``int_``      | Default integer type (same as C ``long``; normally either ``int64`` or ``int32``)| \n",
    "| ``intc``      | Identical to C ``int`` (normally ``int32`` or ``int64``)| \n",
    "| ``intp``      | Integer used for indexing (same as C ``ssize_t``; normally either ``int32`` or ``int64``)| \n",
    "| ``int8``      | Byte (-128 to 127)| \n",
    "| ``int16``     | Integer (-32768 to 32767)|\n",
    "| ``int32``     | Integer (-2147483648 to 2147483647)|\n",
    "| ``int64``     | Integer (-9223372036854775808 to 9223372036854775807)| \n",
    "| ``uint8``     | Unsigned integer (0 to 255)| \n",
    "| ``uint16``    | Unsigned integer (0 to 65535)| \n",
    "| ``uint32``    | Unsigned integer (0 to 4294967295)| \n",
    "| ``uint64``    | Unsigned integer (0 to 18446744073709551615)| \n",
    "| ``float_``    | Shorthand for ``float64``.| \n",
    "| ``float16``   | Half precision float: sign bit, 5 bits exponent, 10 bits mantissa| \n",
    "| ``float32``   | Single precision float: sign bit, 8 bits exponent, 23 bits mantissa| \n",
    "| ``float64``   | Double precision float: sign bit, 11 bits exponent, 52 bits mantissa| \n",
    "| ``complex_``  | Shorthand for ``complex128``.| \n",
    "| ``complex64`` | Complex number, represented by two 32-bit floats| \n",
    "| ``complex128``| Complex number, represented by two 64-bit floats| "
   ]
  },
  {
   "cell_type": "code",
   "execution_count": null,
   "metadata": {},
   "outputs": [],
   "source": [
    "a=np.random.normal(0, 1, 10)\n",
    "a.dtype   # data type available as field in ndarray"
   ]
  },
  {
   "cell_type": "markdown",
   "metadata": {},
   "source": [
    "## Working with numpy arrays\n"
   ]
  },
  {
   "cell_type": "code",
   "execution_count": 24,
   "metadata": {},
   "outputs": [
    {
     "name": "stdout",
     "output_type": "stream",
     "text": [
      "[[ 1  2  3  4]\n",
      " [ 4  5  6  7]\n",
      " [ 9 10 11 12]]\n"
     ]
    }
   ],
   "source": [
    "a=np.array([[1,2,3,4],[4,5,6,7],[9,10,11,12]]) \n",
    "print(a)"
   ]
  },
  {
   "cell_type": "code",
   "execution_count": 25,
   "metadata": {},
   "outputs": [
    {
     "data": {
      "text/plain": [
       "['T',\n",
       " 'all',\n",
       " 'any',\n",
       " 'argmax',\n",
       " 'argmin',\n",
       " 'argpartition',\n",
       " 'argsort',\n",
       " 'astype',\n",
       " 'base',\n",
       " 'byteswap',\n",
       " 'choose',\n",
       " 'clip',\n",
       " 'compress',\n",
       " 'conj',\n",
       " 'conjugate',\n",
       " 'copy',\n",
       " 'ctypes',\n",
       " 'cumprod',\n",
       " 'cumsum',\n",
       " 'data',\n",
       " 'diagonal',\n",
       " 'dot',\n",
       " 'dtype',\n",
       " 'dump',\n",
       " 'dumps',\n",
       " 'fill',\n",
       " 'flags',\n",
       " 'flat',\n",
       " 'flatten',\n",
       " 'getfield',\n",
       " 'imag',\n",
       " 'item',\n",
       " 'itemset',\n",
       " 'itemsize',\n",
       " 'max',\n",
       " 'mean',\n",
       " 'min',\n",
       " 'nbytes',\n",
       " 'ndim',\n",
       " 'newbyteorder',\n",
       " 'nonzero',\n",
       " 'partition',\n",
       " 'prod',\n",
       " 'ptp',\n",
       " 'put',\n",
       " 'ravel',\n",
       " 'real',\n",
       " 'repeat',\n",
       " 'reshape',\n",
       " 'resize',\n",
       " 'round',\n",
       " 'searchsorted',\n",
       " 'setfield',\n",
       " 'setflags',\n",
       " 'shape',\n",
       " 'size',\n",
       " 'sort',\n",
       " 'squeeze',\n",
       " 'std',\n",
       " 'strides',\n",
       " 'sum',\n",
       " 'swapaxes',\n",
       " 'take',\n",
       " 'tobytes',\n",
       " 'tofile',\n",
       " 'tolist',\n",
       " 'tostring',\n",
       " 'trace',\n",
       " 'transpose',\n",
       " 'var',\n",
       " 'view']"
      ]
     },
     "execution_count": 25,
     "metadata": {},
     "output_type": "execute_result"
    }
   ],
   "source": [
    "# many fields and functions in ndarray\n",
    "[m for m in dir(a) if not m.startswith('__')] # or filter(dir(a), lambda m: ...)"
   ]
  },
  {
   "cell_type": "code",
   "execution_count": 26,
   "metadata": {},
   "outputs": [
    {
     "data": {
      "text/plain": [
       "(3, 4)"
      ]
     },
     "execution_count": 26,
     "metadata": {},
     "output_type": "execute_result"
    }
   ],
   "source": [
    "a.shape # layout stored in shape"
   ]
  },
  {
   "cell_type": "code",
   "execution_count": 27,
   "metadata": {},
   "outputs": [],
   "source": [
    "b=a.reshape(6,2) # can be changed"
   ]
  },
  {
   "cell_type": "code",
   "execution_count": 28,
   "metadata": {},
   "outputs": [
    {
     "name": "stdout",
     "output_type": "stream",
     "text": [
      "(3, 4)\n",
      "(6, 2)\n"
     ]
    }
   ],
   "source": [
    "print(a.shape) # original unchanged\n",
    "print(b.shape) "
   ]
  },
  {
   "cell_type": "code",
   "execution_count": 29,
   "metadata": {},
   "outputs": [
    {
     "data": {
      "text/plain": [
       "array([[ 1,  2],\n",
       "       [ 3,  4],\n",
       "       [ 4,  5],\n",
       "       [ 6,  7],\n",
       "       [ 9, 10],\n",
       "       [11, 12]])"
      ]
     },
     "execution_count": 29,
     "metadata": {},
     "output_type": "execute_result"
    }
   ],
   "source": [
    "b"
   ]
  },
  {
   "cell_type": "code",
   "execution_count": 30,
   "metadata": {},
   "outputs": [
    {
     "data": {
      "text/plain": [
       "array([[ 1,  4,  9],\n",
       "       [ 2,  5, 10],\n",
       "       [ 3,  6, 11],\n",
       "       [ 4,  7, 12]])"
      ]
     },
     "execution_count": 30,
     "metadata": {},
     "output_type": "execute_result"
    }
   ],
   "source": [
    "a.T # transpose"
   ]
  },
  {
   "cell_type": "code",
   "execution_count": 31,
   "metadata": {},
   "outputs": [
    {
     "data": {
      "text/plain": [
       "array([[ -1,  -2,  -3,  -4],\n",
       "       [ -4,  -5,  -6,  -7],\n",
       "       [ -9, -10, -11, -12]])"
      ]
     },
     "execution_count": 31,
     "metadata": {},
     "output_type": "execute_result"
    }
   ],
   "source": [
    "-1*a # multiply with scalar"
   ]
  },
  {
   "cell_type": "code",
   "execution_count": 32,
   "metadata": {},
   "outputs": [
    {
     "data": {
      "text/plain": [
       "array([[ 3.1,  4.1,  5.1,  6.1],\n",
       "       [ 6.1,  7.1,  8.1,  9.1],\n",
       "       [11.1, 12.1, 13.1, 14.1]])"
      ]
     },
     "execution_count": 32,
     "metadata": {},
     "output_type": "execute_result"
    }
   ],
   "source": [
    "a+2.1 # add scalar"
   ]
  },
  {
   "cell_type": "code",
   "execution_count": 33,
   "metadata": {},
   "outputs": [
    {
     "data": {
      "text/plain": [
       "array([[ 2,  4,  6,  8],\n",
       "       [ 8, 10, 12, 14],\n",
       "       [18, 20, 22, 24]])"
      ]
     },
     "execution_count": 33,
     "metadata": {},
     "output_type": "execute_result"
    }
   ],
   "source": [
    "a+a # adding arrays element-by-element"
   ]
  },
  {
   "cell_type": "code",
   "execution_count": 34,
   "metadata": {},
   "outputs": [
    {
     "ename": "ValueError",
     "evalue": "operands could not be broadcast together with shapes (3,4) (6,2) ",
     "output_type": "error",
     "traceback": [
      "\u001b[1;31m---------------------------------------------------------------------------\u001b[0m",
      "\u001b[1;31mValueError\u001b[0m                                Traceback (most recent call last)",
      "Cell \u001b[1;32mIn[34], line 1\u001b[0m\n\u001b[1;32m----> 1\u001b[0m \u001b[43ma\u001b[49m\u001b[38;5;241;43m+\u001b[39;49m\u001b[43mb\u001b[49m \u001b[38;5;66;03m# error - requires same shape\u001b[39;00m\n",
      "\u001b[1;31mValueError\u001b[0m: operands could not be broadcast together with shapes (3,4) (6,2) "
     ]
    }
   ],
   "source": [
    "a+b # error - requires same shape"
   ]
  },
  {
   "cell_type": "code",
   "execution_count": 35,
   "metadata": {},
   "outputs": [
    {
     "data": {
      "text/plain": [
       "array([[  1,   4,   9,  16],\n",
       "       [ 16,  25,  36,  49],\n",
       "       [ 81, 100, 121, 144]])"
      ]
     },
     "execution_count": 35,
     "metadata": {},
     "output_type": "execute_result"
    }
   ],
   "source": [
    "a*a # multiplying array element-by-element"
   ]
  },
  {
   "cell_type": "code",
   "execution_count": 36,
   "metadata": {},
   "outputs": [
    {
     "ename": "ValueError",
     "evalue": "shapes (3,4) and (3,4) not aligned: 4 (dim 1) != 3 (dim 0)",
     "output_type": "error",
     "traceback": [
      "\u001b[1;31m---------------------------------------------------------------------------\u001b[0m",
      "\u001b[1;31mValueError\u001b[0m                                Traceback (most recent call last)",
      "Cell \u001b[1;32mIn[36], line 1\u001b[0m\n\u001b[1;32m----> 1\u001b[0m \u001b[43ma\u001b[49m\u001b[38;5;241;43m.\u001b[39;49m\u001b[43mdot\u001b[49m\u001b[43m(\u001b[49m\u001b[43ma\u001b[49m\u001b[43m)\u001b[49m \u001b[38;5;66;03m# matrix multiplication -- error aligned shapes required\u001b[39;00m\n",
      "\u001b[1;31mValueError\u001b[0m: shapes (3,4) and (3,4) not aligned: 4 (dim 1) != 3 (dim 0)"
     ]
    }
   ],
   "source": [
    "a.dot(a) # matrix multiplication -- error aligned shapes required"
   ]
  },
  {
   "cell_type": "code",
   "execution_count": 37,
   "metadata": {},
   "outputs": [
    {
     "data": {
      "text/plain": [
       "array([[ 67,  75,  88],\n",
       "       [130, 147, 175],\n",
       "       [235, 267, 320]])"
      ]
     },
     "execution_count": 37,
     "metadata": {},
     "output_type": "execute_result"
    }
   ],
   "source": [
    "a.dot(a.reshape(4,3)) # matrix multiplication: 3x4 times 4x3 works ok"
   ]
  },
  {
   "cell_type": "code",
   "execution_count": 38,
   "metadata": {},
   "outputs": [
    {
     "data": {
      "text/plain": [
       "array([[ 30,  60, 110],\n",
       "       [ 60, 126, 236],\n",
       "       [110, 236, 446]])"
      ]
     },
     "execution_count": 38,
     "metadata": {},
     "output_type": "execute_result"
    }
   ],
   "source": [
    "a.dot(a.T)"
   ]
  },
  {
   "cell_type": "code",
   "execution_count": 39,
   "metadata": {},
   "outputs": [
    {
     "name": "stdout",
     "output_type": "stream",
     "text": [
      "[4 5 6 7] (4,)\n"
     ]
    }
   ],
   "source": [
    "c=np.arange(4,8)\n",
    "print(c, c.shape)"
   ]
  },
  {
   "cell_type": "code",
   "execution_count": 40,
   "metadata": {},
   "outputs": [
    {
     "data": {
      "text/plain": [
       "array([ 60, 126, 236])"
      ]
     },
     "execution_count": 40,
     "metadata": {},
     "output_type": "execute_result"
    }
   ],
   "source": [
    "a.dot(c) # 3x4 matrix times 4-vec ok"
   ]
  },
  {
   "cell_type": "markdown",
   "metadata": {},
   "source": [
    "### numpy ufuncs\n",
    "[**ufunc**](https://numpy.org/doc/stable/reference/ufuncs.html) = universal function\n",
    "* operates on `ndarrays` element by element\n",
    "* supports array broadcasting and type casting\n",
    "* “vectorized” wrapper for a function\n",
    "Commonly used mathematical functions reimplemented in `numpy` as universal functions, e.g. `math.sqrt` → `numpy.sqrt`."
   ]
  },
  {
   "cell_type": "code",
   "execution_count": null,
   "metadata": {},
   "outputs": [],
   "source": [
    "np.sqrt(a) # can apply std maths functions"
   ]
  },
  {
   "cell_type": "code",
   "execution_count": null,
   "metadata": {},
   "outputs": [],
   "source": [
    "a**0.5 # and operators"
   ]
  },
  {
   "cell_type": "code",
   "execution_count": null,
   "metadata": {},
   "outputs": [],
   "source": [
    "np.sin(a)"
   ]
  },
  {
   "cell_type": "code",
   "execution_count": null,
   "metadata": {},
   "outputs": [],
   "source": [
    "import math\n",
    "math.sin(a[0,0])"
   ]
  },
  {
   "cell_type": "markdown",
   "metadata": {},
   "source": [
    "See here for detailed list of Numpy functions: \n",
    "https://scipy.github.io/old-wiki/pages/Numpy_Example_List_With_Doc.html"
   ]
  },
  {
   "cell_type": "markdown",
   "metadata": {},
   "source": [
    "## Array indexing and slicing\n",
    "As for Python lists there are many sophisticated ways how to access or extract elements or sub-arrays"
   ]
  },
  {
   "cell_type": "code",
   "execution_count": null,
   "metadata": {},
   "outputs": [],
   "source": [
    "a=np.array([[1,2,3,4],[4,5,6,7],[9,10,11,12]])\n",
    "a"
   ]
  },
  {
   "cell_type": "code",
   "execution_count": null,
   "metadata": {},
   "outputs": [],
   "source": [
    "a[1,2] # 2nd line, 3rd colun (index starts at 0)"
   ]
  },
  {
   "cell_type": "code",
   "execution_count": null,
   "metadata": {},
   "outputs": [],
   "source": [
    "a[1] # 2nd line"
   ]
  },
  {
   "cell_type": "code",
   "execution_count": null,
   "metadata": {},
   "outputs": [],
   "source": [
    "a[-1] #  last line"
   ]
  },
  {
   "cell_type": "code",
   "execution_count": null,
   "metadata": {},
   "outputs": [],
   "source": [
    "a[:2] # 1st and 2nd line"
   ]
  },
  {
   "cell_type": "code",
   "execution_count": null,
   "metadata": {},
   "outputs": [],
   "source": [
    "a[:,2] # 3rd column"
   ]
  },
  {
   "cell_type": "code",
   "execution_count": null,
   "metadata": {},
   "outputs": [],
   "source": [
    "a[:2,1:3] # ..."
   ]
  },
  {
   "cell_type": "code",
   "execution_count": 41,
   "metadata": {},
   "outputs": [
    {
     "data": {
      "text/plain": [
       "array([(1, 2), (3, 4)], dtype=[('a', 'i1'), ('b', '<i2')])"
      ]
     },
     "execution_count": 41,
     "metadata": {},
     "output_type": "execute_result"
    }
   ],
   "source": [
    "# structured array (https://numpy.org/doc/stable/user/basics.rec.html)\n",
    "x = np.array([(1, 2), (3, 4)], dtype=[('a', np.int8), ('b', np.int16)])\n",
    "x"
   ]
  },
  {
   "cell_type": "code",
   "execution_count": 45,
   "metadata": {},
   "outputs": [
    {
     "data": {
      "text/plain": [
       "array([1, 3], dtype=int8)"
      ]
     },
     "execution_count": 45,
     "metadata": {},
     "output_type": "execute_result"
    }
   ],
   "source": [
    "x[\"a\"]"
   ]
  },
  {
   "cell_type": "code",
   "execution_count": 42,
   "metadata": {},
   "outputs": [
    {
     "data": {
      "text/plain": [
       "((1, 2), array([1, 3], dtype=int8), array([2, 4], dtype=int16))"
      ]
     },
     "execution_count": 42,
     "metadata": {},
     "output_type": "execute_result"
    }
   ],
   "source": [
    "x[0], x['a'], x['b']"
   ]
  },
  {
   "cell_type": "code",
   "execution_count": 43,
   "metadata": {},
   "outputs": [
    {
     "data": {
      "text/plain": [
       "('a', 'b')"
      ]
     },
     "execution_count": 43,
     "metadata": {},
     "output_type": "execute_result"
    }
   ],
   "source": [
    "x.dtype.names"
   ]
  },
  {
   "cell_type": "markdown",
   "metadata": {},
   "source": [
    "### Array filtering"
   ]
  },
  {
   "cell_type": "code",
   "execution_count": 46,
   "metadata": {},
   "outputs": [],
   "source": [
    "a=np.array(range(100))"
   ]
  },
  {
   "cell_type": "code",
   "execution_count": null,
   "metadata": {},
   "outputs": [],
   "source": [
    "a"
   ]
  },
  {
   "cell_type": "code",
   "execution_count": 47,
   "metadata": {},
   "outputs": [
    {
     "data": {
      "text/plain": [
       "(array([ 0,  3,  6,  9, 12, 15, 18, 21, 24, 27, 30, 33, 36, 39, 42, 45, 48,\n",
       "        51, 54, 57, 60, 63, 66, 69, 72, 75, 78, 81, 84, 87, 90, 93, 96, 99],\n",
       "       dtype=int64),)"
      ]
     },
     "execution_count": 47,
     "metadata": {},
     "output_type": "execute_result"
    }
   ],
   "source": [
    "np.where(a%3==0)"
   ]
  },
  {
   "cell_type": "code",
   "execution_count": 51,
   "metadata": {},
   "outputs": [
    {
     "data": {
      "text/plain": [
       "array([ 0,  3,  6,  9, 12, 15, 18, 21, 24, 27, 30, 33, 36, 39, 42, 45, 48,\n",
       "       51, 54, 57, 60, 63, 66, 69, 72, 75, 78, 81, 84, 87, 90, 93, 96, 99])"
      ]
     },
     "execution_count": 51,
     "metadata": {},
     "output_type": "execute_result"
    }
   ],
   "source": [
    "a[a%3==0]"
   ]
  },
  {
   "cell_type": "code",
   "execution_count": 48,
   "metadata": {},
   "outputs": [
    {
     "data": {
      "text/plain": [
       "array([ True, False,  True, False,  True, False,  True, False,  True,\n",
       "       False,  True, False,  True, False,  True, False,  True, False,\n",
       "        True, False,  True, False,  True, False,  True, False,  True,\n",
       "       False,  True, False,  True, False,  True, False,  True, False,\n",
       "        True, False,  True, False,  True, False,  True, False,  True,\n",
       "       False,  True, False,  True, False,  True, False,  True, False,\n",
       "        True, False,  True, False,  True, False,  True, False,  True,\n",
       "       False,  True, False,  True, False,  True, False,  True, False,\n",
       "        True, False,  True, False,  True, False,  True, False,  True,\n",
       "       False,  True, False,  True, False,  True, False,  True, False,\n",
       "        True, False,  True, False,  True, False,  True, False,  True,\n",
       "       False])"
      ]
     },
     "execution_count": 48,
     "metadata": {},
     "output_type": "execute_result"
    }
   ],
   "source": [
    "a%2==0 # returns boolean array if elements fullfill criteria"
   ]
  },
  {
   "cell_type": "code",
   "execution_count": 49,
   "metadata": {},
   "outputs": [
    {
     "data": {
      "text/plain": [
       "array([81, 82, 83, 84, 85, 86, 87, 88, 89, 90, 91, 92, 93, 94, 95, 96, 97,\n",
       "       98, 99])"
      ]
     },
     "execution_count": 49,
     "metadata": {},
     "output_type": "execute_result"
    }
   ],
   "source": [
    "a[a>80] # sub-array fullfilling criteria"
   ]
  },
  {
   "cell_type": "code",
   "execution_count": 50,
   "metadata": {},
   "outputs": [
    {
     "data": {
      "text/plain": [
       "(array([81, 82, 83, 84, 85, 86, 87, 88, 89, 90, 91, 92, 93, 94, 95, 96, 97,\n",
       "        98, 99], dtype=int64),)"
      ]
     },
     "execution_count": 50,
     "metadata": {},
     "output_type": "execute_result"
    }
   ],
   "source": [
    "np.where(a>80)"
   ]
  },
  {
   "cell_type": "markdown",
   "metadata": {},
   "source": [
    "### Array IO"
   ]
  },
  {
   "cell_type": "code",
   "execution_count": 52,
   "metadata": {},
   "outputs": [
    {
     "name": "stdout",
     "output_type": "stream",
     "text": [
      "[-1.52067e+00 -1.48203e+00  5.10425e-01  5.70107e-01  1.05585e+00\n",
      "  4.47174e-01 -1.31918e+00  2.24484e-01  7.20203e-01  5.66752e-01\n",
      "  7.32221e-01  6.27270e-01  1.14690e+00 -4.10935e-01  1.71971e-03\n",
      "  2.89106e-01  1.16715e+00  6.00226e-02 -1.85172e+00 -1.36731e+00\n",
      "  9.27019e-01 -7.23274e-01  6.31904e-01  7.93589e-01 -8.38816e-01\n",
      "  2.92658e-01  2.03994e+00 -1.55009e-01 -2.52656e-01  1.66713e+00\n",
      "  1.39237e+00  8.88801e-01 -1.07309e+00  4.48290e-01 -8.20842e-01\n",
      "  1.22037e-02  4.42460e-01 -1.66736e+00 -3.46392e-02 -9.99998e-01\n",
      "  4.81106e-02  5.65355e-01  1.25134e+00 -1.81597e-01  1.27181e+00\n",
      " -5.39457e-01 -3.36181e-01  1.47788e-01  1.51983e+00 -5.08325e-01\n",
      " -2.25669e+00 -6.95918e-01 -1.60538e+00 -1.68254e-01  1.51269e+00\n",
      "  1.03994e-01 -7.97516e-01 -5.53368e-01 -1.58439e+00  2.19591e+00\n",
      " -1.07066e+00  4.12019e-01  8.13246e-01 -1.23069e+00  6.15702e-01\n",
      " -1.34514e-01 -3.85264e-02 -9.90841e-01  1.47927e+00 -3.78047e-01\n",
      "  1.10984e+00  4.32740e-01 -5.19493e-01 -7.97149e-01 -3.50835e-01\n",
      " -2.45411e+00 -2.28203e-02  1.41325e+00 -2.46610e+00 -1.16071e+00\n",
      " -1.32663e+00  1.63909e+00  5.82177e-01 -4.76107e-01  1.05062e+00\n",
      " -1.51237e+00  1.24985e+00  6.76724e-01 -8.07443e-01  1.93182e+00\n",
      "  1.05112e+00  2.60528e-02 -1.24835e+00  1.92682e-01 -2.49836e-01\n",
      " -1.44006e+00 -9.78493e-01 -1.22932e+00 -7.83533e-01 -2.77329e-01]\n"
     ]
    }
   ],
   "source": [
    "#data = np.loadtxt('numbers.dat') # reads numbers from text file and stores in numpy array\n",
    "# also works for url\n",
    "data = np.loadtxt('http://www-static.etp.physik.uni-muenchen.de/kurs/Computing/python/source/numbers.dat')\n",
    "\n",
    "print(data)"
   ]
  },
  {
   "cell_type": "code",
   "execution_count": 53,
   "metadata": {},
   "outputs": [
    {
     "data": {
      "text/plain": [
       "(-0.0473979249, 1.0494338596029966, 1.1013114256812422, -2.4661, 2.19591)"
      ]
     },
     "execution_count": 53,
     "metadata": {},
     "output_type": "execute_result"
    }
   ],
   "source": [
    "data.mean(), data.std(), data.var(), data.min(), data.max()"
   ]
  },
  {
   "cell_type": "code",
   "execution_count": 58,
   "metadata": {},
   "outputs": [
    {
     "name": "stdout",
     "output_type": "stream",
     "text": [
      "a = [[1 2 3]\n",
      " [4 5 6]\n",
      " [7 8 9]]\n",
      "b = [540155953 540287027 540418101 540549175]\n"
     ]
    }
   ],
   "source": [
    "a = np.array(np.arange(1,10).reshape(3,3))\n",
    "print('a =',a)\n",
    "\n",
    "a.tofile('a.data', format=\"%d\", sep=\" \") # stored as binary data (can change with sep=\",\", format='%d')\n",
    "b = np.fromfile('a.data', dtype=int) # watch out, shape info lost\n",
    "print('b =',b)"
   ]
  },
  {
   "cell_type": "markdown",
   "metadata": {},
   "source": [
    "### Basic statistics\n"
   ]
  },
  {
   "cell_type": "code",
   "execution_count": null,
   "metadata": {},
   "outputs": [],
   "source": [
    "T=np.array([1, 2, 3])\n",
    "print (T.mean(), T.std(), T.var()) # Mean, std deviation, Variance"
   ]
  },
  {
   "cell_type": "code",
   "execution_count": null,
   "metadata": {},
   "outputs": [],
   "source": [
    "T.min()"
   ]
  },
  {
   "cell_type": "code",
   "execution_count": 59,
   "metadata": {},
   "outputs": [
    {
     "name": "stdout",
     "output_type": "stream",
     "text": [
      "10.017150713599877 1.9573184250897013 3.831095417195629\n"
     ]
    }
   ],
   "source": [
    "T=np.random.normal(10.,2.,1000) # 1000 normal distributed random numbers, mean 10, std 2\n",
    "print (T.mean(), T.std(), T.var())"
   ]
  },
  {
   "cell_type": "code",
   "execution_count": 60,
   "metadata": {},
   "outputs": [
    {
     "data": {
      "text/plain": [
       "array([[1.        , 0.98062258],\n",
       "       [0.98062258, 1.        ]])"
      ]
     },
     "execution_count": 60,
     "metadata": {},
     "output_type": "execute_result"
    }
   ],
   "source": [
    "# correlation\n",
    "TP = np.array(\n",
    "    [[1.3,4.5,2.8,3.9], \n",
    "     [2.7,8.7,4.7,8.2]]\n",
    ")\n",
    "np.corrcoef(TP)"
   ]
  },
  {
   "cell_type": "markdown",
   "metadata": {},
   "source": [
    "**Statistics per row, column, ...**\n",
    "\n",
    "All the statistics functions take as first argument the 'axis', if provided one gets statistics separate for each row, column, ..."
   ]
  },
  {
   "cell_type": "code",
   "execution_count": null,
   "metadata": {},
   "outputs": [],
   "source": [
    "a=np.arange(12).reshape(3,4)\n",
    "print(a.mean()) # overall mean\n",
    "print(a.mean(0)) # specify axis (0=per column)\n",
    "print(a.mean(1)) # specify axis (1=per row)\n"
   ]
  },
  {
   "cell_type": "markdown",
   "metadata": {},
   "source": [
    "## Linear Algebra"
   ]
  },
  {
   "cell_type": "code",
   "execution_count": null,
   "metadata": {},
   "outputs": [],
   "source": [
    "a=np.arange(12).reshape(3,4)\n",
    "print(a)"
   ]
  },
  {
   "cell_type": "code",
   "execution_count": null,
   "metadata": {},
   "outputs": [],
   "source": [
    "a.diagonal() # Diagonalwerte"
   ]
  },
  {
   "cell_type": "code",
   "execution_count": null,
   "metadata": {},
   "outputs": [],
   "source": [
    "# standard matrices\n",
    "print(np.ones(3))\n",
    "print(np.zeros(3))\n",
    "print(np.eye(3))"
   ]
  },
  {
   "cell_type": "markdown",
   "metadata": {},
   "source": [
    "#### Solving system of equations"
   ]
  },
  {
   "cell_type": "code",
   "execution_count": null,
   "metadata": {},
   "outputs": [],
   "source": [
    "import numpy as np\n",
    "from numpy.linalg import inv\n",
    "a=np.array([[3,1,5],[1,0,8],[2,1,4]])\n",
    "inva=inv(a) # matrix inversion\n",
    "print(a)\n",
    "print(inva)\n",
    "np.dot(a,inva) # should give unity matrix"
   ]
  },
  {
   "cell_type": "code",
   "execution_count": null,
   "metadata": {},
   "outputs": [],
   "source": [
    "# check with \"isclose\"\n",
    "np.isclose(np.dot(a,inva), np.eye(3))"
   ]
  },
  {
   "cell_type": "code",
   "execution_count": null,
   "metadata": {},
   "outputs": [],
   "source": [
    "from numpy.linalg import solve\n",
    "print(a)\n",
    "b=np.array([6,7,8])\n",
    "x=solve(a,b) # solve equation a*x = b\n",
    "print(x)\n",
    "np.dot(a,x) # test: should give b\n"
   ]
  },
  {
   "cell_type": "markdown",
   "metadata": {},
   "source": [
    "### numpy - many more features\n",
    "* advanced Linalg tools \n",
    "* numerical methods, ..."
   ]
  }
 ],
 "metadata": {
  "@webio": {
   "lastCommId": null,
   "lastKernelId": null
  },
  "kernelspec": {
   "display_name": "Python 3 (ipykernel)",
   "language": "python",
   "name": "python3"
  },
  "language_info": {
   "codemirror_mode": {
    "name": "ipython",
    "version": 3
   },
   "file_extension": ".py",
   "mimetype": "text/x-python",
   "name": "python",
   "nbconvert_exporter": "python",
   "pygments_lexer": "ipython3",
   "version": "3.11.5"
  },
  "toc": {
   "base_numbering": 1,
   "nav_menu": {},
   "number_sections": true,
   "sideBar": true,
   "skip_h1_title": false,
   "title_cell": "Table of Contents",
   "title_sidebar": "Contents",
   "toc_cell": true,
   "toc_position": {},
   "toc_section_display": true,
   "toc_window_display": false
  }
 },
 "nbformat": 4,
 "nbformat_minor": 4
}
