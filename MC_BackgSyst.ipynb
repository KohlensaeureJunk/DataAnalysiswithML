{
 "cells": [
  {
   "cell_type": "markdown",
   "id": "2b420db8-3e23-45d2-b0d9-0d9585c519c7",
   "metadata": {},
   "source": [
    "## Counting experiment example\n",
    "\n",
    "* Assume an experiment where you select events with some specific properties.\n",
    "* You observe **6** events\n",
    "* And you have a predicted background of **2.3** events\n",
    "\n",
    "Is this a `significant` signal?\n",
    "\n",
    "\n",
    "### p-Values\n",
    "We can do hypothesis testing:\n",
    "* $H_0$ (=null Hypothesis) data results from background only\n",
    "* $H_1$ (=altenative Hypothesis) there is additional non-zero signal\n",
    "\n",
    "`p-value` : defined as probability under $H_0$ to observe at least as many events as observed. If `p-value` is `sufficiently small` reject  $H_0$\n"
   ]
  },
  {
   "cell_type": "code",
   "execution_count": 1,
   "id": "8915568b-ce9a-46a6-a01a-d3ff4725a7c6",
   "metadata": {
    "tags": []
   },
   "outputs": [],
   "source": [
    "import numpy as np\n",
    "import matplotlib.pyplot as plt\n",
    "import scipy.stats as stats"
   ]
  },
  {
   "cell_type": "code",
   "execution_count": 2,
   "id": "06040bf7-8ece-48e4-a253-e545126dd1ee",
   "metadata": {
    "tags": []
   },
   "outputs": [
    {
     "name": "stdout",
     "output_type": "stream",
     "text": [
      "\u001b[1;31mSignature:\u001b[0m       \u001b[0mstats\u001b[0m\u001b[1;33m.\u001b[0m\u001b[0mpoisson\u001b[0m\u001b[1;33m(\u001b[0m\u001b[1;33m*\u001b[0m\u001b[0margs\u001b[0m\u001b[1;33m,\u001b[0m \u001b[1;33m**\u001b[0m\u001b[0mkwds\u001b[0m\u001b[1;33m)\u001b[0m\u001b[1;33m\u001b[0m\u001b[1;33m\u001b[0m\u001b[0m\n",
      "\u001b[1;31mType:\u001b[0m            poisson_gen\n",
      "\u001b[1;31mString form:\u001b[0m     <scipy.stats._discrete_distns.poisson_gen object at 0x00000293D323CC10>\n",
      "\u001b[1;31mFile:\u001b[0m            c:\\users\\max\\appdata\\local\\packages\\pythonsoftwarefoundation.python.3.11_qbz5n2kfra8p0\\localcache\\local-packages\\python311\\site-packages\\scipy\\stats\\_discrete_distns.py\n",
      "\u001b[1;31mDocstring:\u001b[0m      \n",
      "A Poisson discrete random variable.\n",
      "\n",
      "As an instance of the `rv_discrete` class, `poisson` object inherits from it\n",
      "a collection of generic methods (see below for the full list),\n",
      "and completes them with details specific for this particular distribution.\n",
      "\n",
      "Methods\n",
      "-------\n",
      "rvs(mu, loc=0, size=1, random_state=None)\n",
      "    Random variates.\n",
      "pmf(k, mu, loc=0)\n",
      "    Probability mass function.\n",
      "logpmf(k, mu, loc=0)\n",
      "    Log of the probability mass function.\n",
      "cdf(k, mu, loc=0)\n",
      "    Cumulative distribution function.\n",
      "logcdf(k, mu, loc=0)\n",
      "    Log of the cumulative distribution function.\n",
      "sf(k, mu, loc=0)\n",
      "    Survival function  (also defined as ``1 - cdf``, but `sf` is sometimes more accurate).\n",
      "logsf(k, mu, loc=0)\n",
      "    Log of the survival function.\n",
      "ppf(q, mu, loc=0)\n",
      "    Percent point function (inverse of ``cdf`` --- percentiles).\n",
      "isf(q, mu, loc=0)\n",
      "    Inverse survival function (inverse of ``sf``).\n",
      "stats(mu, loc=0, moments='mv')\n",
      "    Mean('m'), variance('v'), skew('s'), and/or kurtosis('k').\n",
      "entropy(mu, loc=0)\n",
      "    (Differential) entropy of the RV.\n",
      "expect(func, args=(mu,), loc=0, lb=None, ub=None, conditional=False)\n",
      "    Expected value of a function (of one argument) with respect to the distribution.\n",
      "median(mu, loc=0)\n",
      "    Median of the distribution.\n",
      "mean(mu, loc=0)\n",
      "    Mean of the distribution.\n",
      "var(mu, loc=0)\n",
      "    Variance of the distribution.\n",
      "std(mu, loc=0)\n",
      "    Standard deviation of the distribution.\n",
      "interval(confidence, mu, loc=0)\n",
      "    Confidence interval with equal areas around the median.\n",
      "\n",
      "Notes\n",
      "-----\n",
      "The probability mass function for `poisson` is:\n",
      "\n",
      ".. math::\n",
      "\n",
      "    f(k) = \\exp(-\\mu) \\frac{\\mu^k}{k!}\n",
      "\n",
      "for :math:`k \\ge 0`.\n",
      "\n",
      "`poisson` takes :math:`\\mu \\geq 0` as shape parameter.\n",
      "When :math:`\\mu = 0`, the ``pmf`` method\n",
      "returns ``1.0`` at quantile :math:`k = 0`.\n",
      "\n",
      "The probability mass function above is defined in the \"standardized\" form.\n",
      "To shift distribution use the ``loc`` parameter.\n",
      "Specifically, ``poisson.pmf(k, mu, loc)`` is identically\n",
      "equivalent to ``poisson.pmf(k - loc, mu)``.\n",
      "\n",
      "Examples\n",
      "--------\n",
      ">>> import numpy as np\n",
      ">>> from scipy.stats import poisson\n",
      ">>> import matplotlib.pyplot as plt\n",
      ">>> fig, ax = plt.subplots(1, 1)\n",
      "\n",
      "Calculate the first four moments:\n",
      "\n",
      ">>> mu = 0.6\n",
      ">>> mean, var, skew, kurt = poisson.stats(mu, moments='mvsk')\n",
      "\n",
      "Display the probability mass function (``pmf``):\n",
      "\n",
      ">>> x = np.arange(poisson.ppf(0.01, mu),\n",
      "...               poisson.ppf(0.99, mu))\n",
      ">>> ax.plot(x, poisson.pmf(x, mu), 'bo', ms=8, label='poisson pmf')\n",
      ">>> ax.vlines(x, 0, poisson.pmf(x, mu), colors='b', lw=5, alpha=0.5)\n",
      "\n",
      "Alternatively, the distribution object can be called (as a function)\n",
      "to fix the shape and location. This returns a \"frozen\" RV object holding\n",
      "the given parameters fixed.\n",
      "\n",
      "Freeze the distribution and display the frozen ``pmf``:\n",
      "\n",
      ">>> rv = poisson(mu)\n",
      ">>> ax.vlines(x, 0, rv.pmf(x), colors='k', linestyles='-', lw=1,\n",
      "...         label='frozen pmf')\n",
      ">>> ax.legend(loc='best', frameon=False)\n",
      ">>> plt.show()\n",
      "\n",
      "Check accuracy of ``cdf`` and ``ppf``:\n",
      "\n",
      ">>> prob = poisson.cdf(x, mu)\n",
      ">>> np.allclose(x, poisson.ppf(prob, mu))\n",
      "True\n",
      "\n",
      "Generate random numbers:\n",
      "\n",
      ">>> r = poisson.rvs(mu, size=1000)\n",
      "\u001b[1;31mClass docstring:\u001b[0m\n",
      "A Poisson discrete random variable.\n",
      "\n",
      "%(before_notes)s\n",
      "\n",
      "Notes\n",
      "-----\n",
      "The probability mass function for `poisson` is:\n",
      "\n",
      ".. math::\n",
      "\n",
      "    f(k) = \\exp(-\\mu) \\frac{\\mu^k}{k!}\n",
      "\n",
      "for :math:`k \\ge 0`.\n",
      "\n",
      "`poisson` takes :math:`\\mu \\geq 0` as shape parameter.\n",
      "When :math:`\\mu = 0`, the ``pmf`` method\n",
      "returns ``1.0`` at quantile :math:`k = 0`.\n",
      "\n",
      "%(after_notes)s\n",
      "\n",
      "%(example)s\n",
      "\u001b[1;31mCall docstring:\u001b[0m \n",
      "Freeze the distribution for the given arguments.\n",
      "\n",
      "Parameters\n",
      "----------\n",
      "arg1, arg2, arg3,... : array_like\n",
      "    The shape parameter(s) for the distribution.  Should include all\n",
      "    the non-optional arguments, may include ``loc`` and ``scale``.\n",
      "\n",
      "Returns\n",
      "-------\n",
      "rv_frozen : rv_frozen instance\n",
      "    The frozen distribution."
     ]
    }
   ],
   "source": [
    "stats.poisson?"
   ]
  },
  {
   "cell_type": "markdown",
   "id": "ed05b5a4-bcd6-4e68-9c72-0dd722867acf",
   "metadata": {
    "tags": []
   },
   "source": [
    "### simple case without uncertainties\n",
    "Can directly use poisson from scipy.stats and calculate probability:"
   ]
  },
  {
   "cell_type": "code",
   "execution_count": 3,
   "id": "e8b1ae10-d55f-4e42-9d43-0e4b69e4ff85",
   "metadata": {
    "tags": []
   },
   "outputs": [
    {
     "data": {
      "text/plain": [
       "<BarContainer object of 10 artists>"
      ]
     },
     "execution_count": 3,
     "metadata": {},
     "output_type": "execute_result"
    },
    {
     "data": {
      "image/png": "[encoded data removed]",
      "text/plain": [
       "<Figure size 640x480 with 1 Axes>"
      ]
     },
     "metadata": {},
     "output_type": "display_data"
    }
   ],
   "source": [
    "mu = 2.3\n",
    "obs=6\n",
    "x = np.linspace(0,15,16)\n",
    "px = stats.poisson.pmf(x,mu)\n",
    "plt.bar(x[:obs],px[:obs]) # lt obs\n",
    "plt.bar(x[obs:],px[obs:]) # ge obs"
   ]
  },
  {
   "cell_type": "code",
   "execution_count": 4,
   "id": "e81912b9-dce2-4af9-9b27-47508b65dbe8",
   "metadata": {
    "tags": []
   },
   "outputs": [
    {
     "data": {
      "text/plain": [
       "np.float64(0.029975690303472413)"
      ]
     },
     "execution_count": 4,
     "metadata": {},
     "output_type": "execute_result"
    }
   ],
   "source": [
    "# simply add probabilities for x>=6\n",
    "px[x>=obs].sum()"
   ]
  },
  {
   "cell_type": "code",
   "execution_count": 5,
   "id": "939b891c-df66-483c-bfb7-37721c57eb38",
   "metadata": {
    "tags": []
   },
   "outputs": [
    {
     "data": {
      "text/plain": [
       "np.float64(0.029975693697454786)"
      ]
     },
     "execution_count": 5,
     "metadata": {},
     "output_type": "execute_result"
    }
   ],
   "source": [
    "# or use 1-cdf\n",
    "1-stats.poisson.cdf(obs-1,2.3)"
   ]
  },
  {
   "cell_type": "markdown",
   "id": "9d07ddf4-de53-407b-8281-f9d9cbc41557",
   "metadata": {},
   "source": [
    "#### Alternative : use random numbers = Toy MC\n",
    "Generate sample of Poisson distributed random numbers for estimate"
   ]
  },
  {
   "cell_type": "code",
   "execution_count": 6,
   "id": "e259d11c-e311-4b20-bc08-60a376592140",
   "metadata": {
    "tags": []
   },
   "outputs": [
    {
     "data": {
      "image/png": "[encoded data removed]",
      "text/plain": [
       "<Figure size 640x480 with 1 Axes>"
      ]
     },
     "metadata": {},
     "output_type": "display_data"
    }
   ],
   "source": [
    "# generate poisson distributed rns\n",
    "b=stats.poisson.rvs(mu,size=100000) # scipy.stats version\n",
    "plt.hist(b,bins=15,range=(0,15),density=True);"
   ]
  },
  {
   "cell_type": "code",
   "execution_count": 7,
   "id": "5ee0697a-2eba-4b5d-9470-29d733108fe2",
   "metadata": {
    "tags": []
   },
   "outputs": [
    {
     "name": "stdout",
     "output_type": "stream",
     "text": [
      "Fraction >= 6 : 0.03101\n"
     ]
    }
   ],
   "source": [
    "print(f\"Fraction >= {obs} : {np.sum(b>=obs)/b.shape[0]}\")"
   ]
  },
  {
   "cell_type": "code",
   "execution_count": 14,
   "id": "a3e5ea80-221f-49c8-989e-678ddf9c96ed",
   "metadata": {
    "tags": []
   },
   "outputs": [
    {
     "name": "stdout",
     "output_type": "stream",
     "text": [
      "Fraction >= 6 : 0.0300 =- 0.0017\n"
     ]
    }
   ],
   "source": [
    "# repeat several times\n",
    "bs = [stats.poisson.rvs(mu,size=10000) for _ in range(10000)]\n",
    "bm = np.array([np.sum(x>=obs)/x.shape[0] for x in bs])\n",
    "print(f\"Fraction >= {obs} : {bm.mean():.4f} =- {bm.std():.4f}\")\n",
    "              "
   ]
  },
  {
   "cell_type": "markdown",
   "id": "34a3be7a-ed14-402d-b836-07be943f4ced",
   "metadata": {},
   "source": [
    "### Background uncertainties\n",
    "In reality we need to consider uncertainties for background\n",
    "\n",
    "$\\rightarrow$ Toy MC\n",
    "\n",
    "* Let's assume we have XX% uncertainty on background prediction which is Gaussian distributed\n",
    "* Then we generate corresponding Gaussian distributed background-number and use that for sub-sequent Poisson random number"
   ]
  },
  {
   "cell_type": "code",
   "execution_count": 19,
   "id": "ae10158f-cc9c-4a94-b5f1-66234144c193",
   "metadata": {
    "tags": []
   },
   "outputs": [],
   "source": [
    "def bgpoisson(bg, dbg, n ):\n",
    "    bgs = np.random.normal(bg, dbg, n)\n",
    "    bgs = bgs[bgs>1e-6]\n",
    "    bres = np.array([ int(np.random.poisson(b,1)[0]) for b in bgs ])\n",
    "    return bres"
   ]
  },
  {
   "cell_type": "code",
   "execution_count": 21,
   "id": "d9f05304-b3d5-4a2a-832c-160c1229ba23",
   "metadata": {
    "tags": []
   },
   "outputs": [
    {
     "name": "stdout",
     "output_type": "stream",
     "text": [
      "14.9 ms ± 258 µs per loop (mean ± std. dev. of 7 runs, 100 loops each)\n"
     ]
    }
   ],
   "source": [
    "%timeit bgpoisson( mu, mu*0.3, 10000)"
   ]
  },
  {
   "cell_type": "code",
   "execution_count": 22,
   "id": "647e646f-9b11-47f6-8b09-5f90acded798",
   "metadata": {
    "tags": []
   },
   "outputs": [
    {
     "name": "stdout",
     "output_type": "stream",
     "text": [
      "Fraction >= 6 : 0.04391352149507653\n"
     ]
    }
   ],
   "source": [
    "br = bgpoisson( mu, mu*0.3, 1000000)\n",
    "print(f\"Fraction >= {obs} : {np.sum(br>=obs)/br.shape[0]}\")"
   ]
  },
  {
   "cell_type": "code",
   "execution_count": 23,
   "id": "4f5e475f-3774-4bdb-b573-048e7ea3bf0c",
   "metadata": {
    "tags": []
   },
   "outputs": [
    {
     "data": {
      "image/png": "[encoded data removed]",
      "text/plain": [
       "<Figure size 640x480 with 1 Axes>"
      ]
     },
     "metadata": {},
     "output_type": "display_data"
    }
   ],
   "source": [
    "kwargs = dict(histtype='step', alpha=0.9, density=True)\n",
    "plt.hist(b,bins=15,range=(0,15),**kwargs);\n",
    "plt.hist(br,bins=15,range=(0,15),**kwargs);"
   ]
  },
  {
   "cell_type": "markdown",
   "id": "af9c0349-98d6-45e7-8e40-3640bd664a8b",
   "metadata": {},
   "source": [
    "<div class=\"alert alert-block alert-info\">\n",
    "<b>Task 1</b><br>\n",
    "    \n",
    "Repeat above Poisson-counting with uncertainties for these Numbers:\n",
    "    $$ n_{obs} = 8, n_{bg} = 5.2$$\n",
    "    \n",
    "Determine the `p-value` for 0%, 15% and 25% uncertainty on $ n_{bg} $\n",
    "\n",
    "</div>"
   ]
  },
  {
   "cell_type": "code",
   "execution_count": 24,
   "id": "a6d24a3c-b804-4bbb-84de-fa8450b2dfee",
   "metadata": {},
   "outputs": [],
   "source": [
    "def poisson_counting(nobs, nbg, uncert):\n",
    "    \n",
    "    br = bgpoisson( nbg, nbg*uncert, 1000000)\n",
    "    print(f\"Fraction >= {nobs} : {np.sum(br>=nobs)/br.shape[0]}\")"
   ]
  },
  {
   "cell_type": "code",
   "execution_count": 27,
   "id": "bfb9eca4",
   "metadata": {},
   "outputs": [
    {
     "name": "stdout",
     "output_type": "stream",
     "text": [
      "Fraction >= 8 : 0.154894\n",
      "Fraction >= 8 : 0.166142\n",
      "Fraction >= 8 : 0.18452335117718413\n",
      "Fraction >= 8 : 0.1935577138558074\n",
      "Fraction >= 8 : 0.38088734120687523\n"
     ]
    }
   ],
   "source": [
    "for uncert in [0, 0.15, 0.25, 0.3, 1]:\n",
    "    poisson_counting(8, 5.2, uncert)"
   ]
  }
 ],
 "metadata": {
  "kernelspec": {
   "display_name": "Python 3 (ipykernel)",
   "language": "python",
   "name": "python3"
  },
  "language_info": {
   "codemirror_mode": {
    "name": "ipython",
    "version": 3
   },
   "file_extension": ".py",
   "mimetype": "text/x-python",
   "name": "python",
   "nbconvert_exporter": "python",
   "pygments_lexer": "ipython3",
   "version": "3.11.9"
  }
 },
 "nbformat": 4,
 "nbformat_minor": 5
}
