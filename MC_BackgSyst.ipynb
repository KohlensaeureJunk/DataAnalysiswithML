{
 "cells": [
  {
   "cell_type": "markdown",
   "id": "2b420db8-3e23-45d2-b0d9-0d9585c519c7",
   "metadata": {},
   "source": [
    "## Counting experiment example\n",
    "\n",
    "* Assume an experiment where you select events with some specific properties.\n",
    "* You observe **6** events\n",
    "* And you have a predicted background of **2.3** events\n",
    "\n",
    "Is this a `significant` signal?\n",
    "\n",
    "\n",
    "### p-Values\n",
    "We can do hypothesis testing:\n",
    "* $H_0$ (=null Hypothesis) data results from background only\n",
    "* $H_1$ (=altenative Hypothesis) there is additional non-zero signal\n",
    "\n",
    "`p-value` : defined as probability under $H_0$ to observe at least as many events as observed. If `p-value` is `sufficiently small` reject  $H_0$\n"
   ]
  },
  {
   "cell_type": "code",
   "execution_count": null,
   "id": "8915568b-ce9a-46a6-a01a-d3ff4725a7c6",
   "metadata": {
    "tags": []
   },
   "outputs": [],
   "source": [
    "import numpy as np\n",
    "import matplotlib.pyplot as plt\n",
    "import scipy.stats as stats"
   ]
  },
  {
   "cell_type": "code",
   "execution_count": null,
   "id": "06040bf7-8ece-48e4-a253-e545126dd1ee",
   "metadata": {
    "tags": []
   },
   "outputs": [],
   "source": [
    "stats.poisson?"
   ]
  },
  {
   "cell_type": "markdown",
   "id": "ed05b5a4-bcd6-4e68-9c72-0dd722867acf",
   "metadata": {
    "tags": []
   },
   "source": [
    "### simple case without uncertainties\n",
    "Can directly use poisson from scipy.stats and calculate probability:"
   ]
  },
  {
   "cell_type": "code",
   "execution_count": null,
   "id": "e8b1ae10-d55f-4e42-9d43-0e4b69e4ff85",
   "metadata": {
    "tags": []
   },
   "outputs": [],
   "source": [
    "mu = 2.3\n",
    "obs=6\n",
    "x = np.linspace(0,15,16)\n",
    "px = stats.poisson.pmf(x,mu)\n",
    "#plt.bar(x,px)\n",
    "plt.bar(x[:obs],px[:obs]) # lt obs\n",
    "plt.bar(x[obs:],px[obs:]) # ge obs\n"
   ]
  },
  {
   "cell_type": "code",
   "execution_count": null,
   "id": "e81912b9-dce2-4af9-9b27-47508b65dbe8",
   "metadata": {
    "tags": []
   },
   "outputs": [],
   "source": [
    "# simply add probabilities for x>=6\n",
    "px[x>=obs].sum()"
   ]
  },
  {
   "cell_type": "code",
   "execution_count": null,
   "id": "939b891c-df66-483c-bfb7-37721c57eb38",
   "metadata": {
    "tags": []
   },
   "outputs": [],
   "source": [
    "# or use 1-cdf\n",
    "1-stats.poisson.cdf(obs-1,2.3)"
   ]
  },
  {
   "cell_type": "markdown",
   "id": "9d07ddf4-de53-407b-8281-f9d9cbc41557",
   "metadata": {},
   "source": [
    "#### Alternative : use random numbers = Toy MC\n",
    "Generate sample of Poisson distributed random numbers for estimate"
   ]
  },
  {
   "cell_type": "code",
   "execution_count": null,
   "id": "e259d11c-e311-4b20-bc08-60a376592140",
   "metadata": {
    "tags": []
   },
   "outputs": [],
   "source": [
    "# generate poisson distributed rns\n",
    "b=stats.poisson.rvs(mu,size=100000) # scipy.stats version\n",
    "plt.hist(b,bins=15,range=(0,15),density=True);\n"
   ]
  },
  {
   "cell_type": "code",
   "execution_count": null,
   "id": "5ee0697a-2eba-4b5d-9470-29d733108fe2",
   "metadata": {
    "tags": []
   },
   "outputs": [],
   "source": [
    "print(f\"Fraction >= {obs} : {np.sum(b>=obs)/b.shape[0]}\")"
   ]
  },
  {
   "cell_type": "code",
   "execution_count": null,
   "id": "a3e5ea80-221f-49c8-989e-678ddf9c96ed",
   "metadata": {
    "tags": []
   },
   "outputs": [],
   "source": [
    "# repeat several times\n",
    "bs = [stats.poisson.rvs(mu,size=10000) for i in range(10)]\n",
    "bm = np.array([np.sum(x>=obs)/x.shape[0] for x in bs])\n",
    "print(f\"Fraction >= {obs} : {bm.mean():.4f} =- {bm.std():.4f}\")\n",
    "              "
   ]
  },
  {
   "cell_type": "markdown",
   "id": "34a3be7a-ed14-402d-b836-07be943f4ced",
   "metadata": {},
   "source": [
    "### Background uncertainties\n",
    "In reality we need to consider uncertainties for background\n",
    "\n",
    "$\\rightarrow$ Toy MC\n",
    "\n",
    "* Let's assume we have XX% uncertainty on background prediction which is Gaussian distributed\n",
    "* Then we generate corresponding Gaussian distributed background-number and use that for sub-sequent Poisson random number"
   ]
  },
  {
   "cell_type": "code",
   "execution_count": null,
   "id": "ae10158f-cc9c-4a94-b5f1-66234144c193",
   "metadata": {
    "tags": []
   },
   "outputs": [],
   "source": [
    "def bgpoisson( bg, dbg, n ):\n",
    "    bgs = np.random.normal( bg, dbg, n)\n",
    "    bgs = bgs[bgs>1e-6]\n",
    "    bres = np.array([ int(np.random.poisson(b,1)) for b in bgs ])\n",
    "    return bres"
   ]
  },
  {
   "cell_type": "code",
   "execution_count": null,
   "id": "d9f05304-b3d5-4a2a-832c-160c1229ba23",
   "metadata": {
    "tags": []
   },
   "outputs": [],
   "source": [
    "%timeit bgpoisson( mu, mu*0.3, 10000)"
   ]
  },
  {
   "cell_type": "code",
   "execution_count": null,
   "id": "647e646f-9b11-47f6-8b09-5f90acded798",
   "metadata": {
    "tags": []
   },
   "outputs": [],
   "source": [
    "br = bgpoisson( mu, mu*0.3, 1000000)\n",
    "print(f\"Fraction >= {obs} : {np.sum(br>=obs)/br.shape[0]}\")"
   ]
  },
  {
   "cell_type": "code",
   "execution_count": null,
   "id": "4f5e475f-3774-4bdb-b573-048e7ea3bf0c",
   "metadata": {
    "tags": []
   },
   "outputs": [],
   "source": [
    "kwargs = dict(histtype='step', alpha=0.9, density=True)\n",
    "plt.hist(b,bins=15,range=(0,15),**kwargs);\n",
    "plt.hist(br,bins=15,range=(0,15),**kwargs);\n"
   ]
  },
  {
   "cell_type": "code",
   "execution_count": null,
   "id": "403208e5-ad7f-43bb-aabe-c15d559c9cfd",
   "metadata": {},
   "outputs": [],
   "source": []
  },
  {
   "cell_type": "markdown",
   "id": "af9c0349-98d6-45e7-8e40-3640bd664a8b",
   "metadata": {},
   "source": [
    "<div class=\"alert alert-block alert-info\">\n",
    "<b>Task 1</b><br>\n",
    "    \n",
    "Repeat above Poisson-counting with uncertainties for these Numbers:\n",
    "    $$ n_{obs} = 8, n_{bg} = 5.2$$\n",
    "    \n",
    "Determine the `p-value` for 0%, 15% and 25% uncertainty on $ n_{bg} $\n",
    "\n",
    "</div>"
   ]
  },
  {
   "cell_type": "code",
   "execution_count": null,
   "id": "a6d24a3c-b804-4bbb-84de-fa8450b2dfee",
   "metadata": {},
   "outputs": [],
   "source": []
  }
 ],
 "metadata": {
  "kernelspec": {
   "display_name": "Python 3 (ipykernel)",
   "language": "python",
   "name": "python3"
  },
  "language_info": {
   "codemirror_mode": {
    "name": "ipython",
    "version": 3
   },
   "file_extension": ".py",
   "mimetype": "text/x-python",
   "name": "python",
   "nbconvert_exporter": "python",
   "pygments_lexer": "ipython3",
   "version": "3.11.5"
  }
 },
 "nbformat": 4,
 "nbformat_minor": 5
}
