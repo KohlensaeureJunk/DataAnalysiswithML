{
 "cells": [
  {
   "cell_type": "markdown",
   "id": "f156228e-617d-485f-8ed2-f1e602f18bb2",
   "metadata": {},
   "source": [
    "# Lorentz invariant networks\n",
    "\n",
    "In this exercise we will investigate neural network architectures that are\n",
    "- functions of a set of 4-(momentum)-vectors $p_1, p_2, \\dots, p_n$\n",
    "- permutation invariant\n",
    "- invariant under Lorentz transformations\n",
    "\n",
    "$$\n",
    "\\mathrm{net}(p_1, p_2, \\dots, p_n) = \\mathrm{net}(p_{\\sigma(1)}, p_{\\sigma(2)}, \\dots, p_{\\sigma(n)}) = \\mathrm{net}(\\Lambda p_1, \\Lambda p_2, \\dots, \\Lambda p_n)\n",
    "$$\n",
    "\n",
    "For permutations $\\sigma$ and Lorentz transformations $\\Lambda$, meaning rotations in space, e.g. in the x-y plane:\n",
    "\n",
    "$$\n",
    "\\Lambda_{\\mathrm{rot},xy}=\\begin{pmatrix}\n",
    "1 & 0 & 0 & 0\\\\\n",
    "0 & \\cos(\\phi) & -\\sin(\\phi) & 0\\\\\n",
    "0 & \\sin(\\phi) & \\cos(\\phi) & 0\\\\\n",
    "0 & 0 & 0 & 1\\\\\n",
    "\\end{pmatrix}\n",
    "$$\n",
    "\n",
    "and boosts, e.g. in x direction\n",
    "\n",
    "$$\n",
    "\\Lambda_{\\mathrm{boost},x}=\\begin{pmatrix}\n",
    "\\gamma & -\\beta\\gamma & 0 & 0\\\\\n",
    "-\\beta\\gamma & \\gamma & 0 & 0\\\\\n",
    "0 & 0 & 1 & 0\\\\\n",
    "0 & 0 & 0 & 1\\\\\n",
    "\\end{pmatrix}\n",
    "$$\n",
    "\n",
    "We will try to implement the PELICAN model (in particular the minimal variant *nanoPELICAN*) as an example for this. References:\n",
    "- [PELICAN](https://arxiv.org/abs/2307.16506)\n",
    "- [nanoPELICAN](https://arxiv.org/abs/2310.16121)\n",
    "- [ML4Jets2024 talsk](https://indico.cern.ch/event/1253794/contributions/5588625/attachments/2748386/4783069/ML4Jets23_PELICAN.pdf)\n",
    "- [nanoPELICAN code on github](https://github.com/abogatskiy/PELICAN-nano)"
   ]
  },
  {
   "cell_type": "markdown",
   "id": "d036f94a-e7f3-48fc-9820-42af0882e182",
   "metadata": {},
   "source": [
    "## Data loading"
   ]
  },
  {
   "cell_type": "code",
   "execution_count": 1,
   "id": "30de060c-8c73-4f24-adbd-1dff0a815c6f",
   "metadata": {},
   "outputs": [],
   "source": [
    "import fsspec\n",
    "import matplotlib.pyplot as plt\n",
    "import numpy as np\n",
    "import pandas as pd\n",
    "import torch\n",
    "import torch.nn.functional as F\n",
    "from torch import nn\n",
    "from torch.utils.data import DataLoader\n",
    "from tqdm.auto import tqdm"
   ]
  },
  {
   "cell_type": "markdown",
   "id": "2b0a70d5-cc57-42e1-b502-027d481eb526",
   "metadata": {},
   "source": [
    "We will use again the TopTagging dataset, this time with 100k events"
   ]
  },
  {
   "cell_type": "code",
   "execution_count": 2,
   "id": "81bd1fcd-734e-4aa4-94af-fdd7ba48871d",
   "metadata": {},
   "outputs": [],
   "source": [
    "url_train = \"https://syncandshare.lrz.de/dl/fi99w9JNTjbbYBmoK11oP3/train_100k.npz\""
   ]
  },
  {
   "cell_type": "code",
   "execution_count": 3,
   "id": "6c080729-13d1-4b63-addd-e03767bcdfa8",
   "metadata": {},
   "outputs": [],
   "source": [
    "def load(url):\n",
    "    with fsspec.open(url) as f:\n",
    "        data = {k: v[:] for k, v in np.load(f).items()}\n",
    "    arrays = []\n",
    "    start = 0\n",
    "    for size in data[\"sizes\"]:\n",
    "        stop = start + size\n",
    "        arrays.append(data[\"p4\"][start:stop])\n",
    "        start = stop\n",
    "    return arrays, data[\"y\"]"
   ]
  },
  {
   "cell_type": "markdown",
   "id": "f1afeb9e-c9b3-40c4-9c68-00ab95c8ea51",
   "metadata": {},
   "source": [
    "This time we will use a represantation without any padding and will do the padding dynamically instead:"
   ]
  },
  {
   "cell_type": "code",
   "execution_count": 7,
   "id": "4cbc9dbf-3b20-42a0-a2f8-fdb15a10668d",
   "metadata": {},
   "outputs": [],
   "source": [
    "arrays, y = load(url_train)"
   ]
  },
  {
   "cell_type": "code",
   "execution_count": 10,
   "id": "cd3c17e8-250e-402f-9e5e-e5f52429344b",
   "metadata": {},
   "outputs": [
    {
     "data": {
      "text/plain": [
       "100000"
      ]
     },
     "execution_count": 10,
     "metadata": {},
     "output_type": "execute_result"
    }
   ],
   "source": [
    "len(arrays)"
   ]
  },
  {
   "cell_type": "markdown",
   "id": "649e2d5f-5e6d-455d-98cf-35bd102313c8",
   "metadata": {},
   "source": [
    "The momentum vectors are given as (E, px, py, pz):"
   ]
  },
  {
   "cell_type": "code",
   "execution_count": 11,
   "id": "448c0db0-fa00-4ef3-85d1-0fe16dbb8e1c",
   "metadata": {},
   "outputs": [
    {
     "data": {
      "text/plain": [
       "(23, 4)"
      ]
     },
     "execution_count": 11,
     "metadata": {},
     "output_type": "execute_result"
    }
   ],
   "source": [
    "p4 = arrays[0]\n",
    "p4.shape"
   ]
  },
  {
   "cell_type": "code",
   "execution_count": 12,
   "id": "6c01aaea-1ba2-4503-b0b0-dc463ba7d6ac",
   "metadata": {},
   "outputs": [
    {
     "data": {
      "text/plain": [
       "array([0, 0, 0, ..., 1, 1, 1], dtype=int64)"
      ]
     },
     "execution_count": 12,
     "metadata": {},
     "output_type": "execute_result"
    }
   ],
   "source": [
    "y"
   ]
  },
  {
   "cell_type": "markdown",
   "id": "41898b0d-59cc-403d-90dd-1b1db50a46b5",
   "metadata": {},
   "source": [
    "We define a torch Dataset that retrieves data for a single event:"
   ]
  },
  {
   "cell_type": "code",
   "execution_count": 13,
   "id": "4dc658ae-8bd3-4a13-96ad-195fbe2d5341",
   "metadata": {},
   "outputs": [],
   "source": [
    "class Dataset(torch.utils.data.Dataset):\n",
    "    def __init__(self, arrays, y):\n",
    "        self.arrays = arrays\n",
    "        self.y = y\n",
    "\n",
    "    def __len__(self):\n",
    "        return len(self.arrays)\n",
    "\n",
    "    def __getitem__(self, i):\n",
    "        return self.arrays[i], self.y[i]"
   ]
  },
  {
   "cell_type": "code",
   "execution_count": 14,
   "id": "e667182d-84a7-43f6-9ad0-9dc78a56cd3e",
   "metadata": {},
   "outputs": [],
   "source": [
    "ds = Dataset(arrays, y)"
   ]
  },
  {
   "cell_type": "code",
   "execution_count": 15,
   "id": "f8586d67-b39f-4a03-9cbf-4add4fad0c40",
   "metadata": {},
   "outputs": [
    {
     "data": {
      "text/plain": [
       "((23, 4), 0)"
      ]
     },
     "execution_count": 15,
     "metadata": {},
     "output_type": "execute_result"
    }
   ],
   "source": [
    "event = ds[0]\n",
    "# x, y\n",
    "event[0].shape, event[1]"
   ]
  },
  {
   "cell_type": "markdown",
   "id": "29e922a9-6db4-4918-9b06-0e3f5e64bf6e",
   "metadata": {},
   "source": [
    "The torch DataLoader will take care of creating batches from it, but we have to tell it how by defining a `collate_fn` that does the padding for us and also determines which entries are masked:"
   ]
  },
  {
   "cell_type": "code",
   "execution_count": 16,
   "id": "ec3da0de-e10d-4d19-a9ac-48a863ad46e6",
   "metadata": {},
   "outputs": [],
   "source": [
    "def collate_fn(batch):\n",
    "    maxlen = max(len(x) for x, y in batch)\n",
    "    out = torch.zeros(len(batch), maxlen, 4, dtype=torch.float32)\n",
    "    mask = torch.zeros(len(batch), maxlen, dtype=bool)\n",
    "    for i, (x, y) in enumerate(batch):\n",
    "        out[i, :len(x)] = torch.from_numpy(x)\n",
    "        mask[i, len(x):] = True\n",
    "    return {\"x\": out, \"y\": torch.tensor([y for x, y in batch], dtype=torch.float32), \"mask\": mask}"
   ]
  },
  {
   "cell_type": "code",
   "execution_count": 17,
   "id": "c4fe568c-58ac-4012-a726-965317fec7c6",
   "metadata": {},
   "outputs": [],
   "source": [
    "dl = DataLoader(ds, batch_size=32, shuffle=True, collate_fn=collate_fn)"
   ]
  },
  {
   "cell_type": "code",
   "execution_count": 18,
   "id": "eaeb2a8f-1db4-42d5-b4d2-8cc05a9ccd09",
   "metadata": {},
   "outputs": [],
   "source": [
    "batch = next(iter(dl))"
   ]
  },
  {
   "cell_type": "markdown",
   "id": "362d2d02-1b01-4d18-83fa-1c6ef64a7003",
   "metadata": {},
   "source": [
    "The `x` inputs (the 4-vectors) have now dimensions `batch_size, max_n_particles, n_vector_components`"
   ]
  },
  {
   "cell_type": "code",
   "execution_count": 19,
   "id": "cd4e14a7-7d25-4149-b4fb-ea2d25dff5fd",
   "metadata": {},
   "outputs": [
    {
     "data": {
      "text/plain": [
       "(torch.Size([32, 84, 4]), torch.Size([32]), torch.Size([32, 84]))"
      ]
     },
     "execution_count": 19,
     "metadata": {},
     "output_type": "execute_result"
    }
   ],
   "source": [
    "batch[\"x\"].shape, batch[\"y\"].shape, batch[\"mask\"].shape"
   ]
  },
  {
   "cell_type": "markdown",
   "id": "bd30ba86-5494-4d8d-b301-959335f5c665",
   "metadata": {},
   "source": [
    "We will use the common convention in torch that entries that are masked are `True` in the mask and those that are valid `False`:"
   ]
  },
  {
   "cell_type": "code",
   "execution_count": 20,
   "id": "e6252ebe-e333-466c-8b9e-cc8dec2f620a",
   "metadata": {},
   "outputs": [
    {
     "data": {
      "text/plain": [
       "tensor([[False, False, False,  ...,  True,  True,  True],\n",
       "        [False, False, False,  ...,  True,  True,  True],\n",
       "        [False, False, False,  ...,  True,  True,  True],\n",
       "        ...,\n",
       "        [False, False, False,  ...,  True,  True,  True],\n",
       "        [False, False, False,  ...,  True,  True,  True],\n",
       "        [False, False, False,  ...,  True,  True,  True]])"
      ]
     },
     "execution_count": 20,
     "metadata": {},
     "output_type": "execute_result"
    }
   ],
   "source": [
    "batch[\"mask\"]"
   ]
  },
  {
   "cell_type": "markdown",
   "id": "900065fa-f017-4485-8e9e-97cff0f5497f",
   "metadata": {},
   "source": [
    "## Implement the model forward pass"
   ]
  },
  {
   "cell_type": "code",
   "execution_count": 21,
   "id": "5a3981f8-b749-4e55-9704-1632935166d6",
   "metadata": {},
   "outputs": [],
   "source": [
    "bx = batch[\"x\"]"
   ]
  },
  {
   "cell_type": "markdown",
   "id": "e110cdf7-3366-4fe7-8374-214ce94e5aac",
   "metadata": {},
   "source": [
    "PELICAN operates on pairs of minkowski inner products, so this is the first thing we need to calculate. We get the product of all pairwise vector components by creating a column vector and multiplying it with a row vector (outer product):"
   ]
  },
  {
   "cell_type": "code",
   "execution_count": 22,
   "id": "f0c189c0-c443-4568-8b91-6289a17b90de",
   "metadata": {},
   "outputs": [
    {
     "data": {
      "text/plain": [
       "torch.Size([32, 84, 84, 4])"
      ]
     },
     "execution_count": 22,
     "metadata": {},
     "output_type": "execute_result"
    }
   ],
   "source": [
    "prod = bx[:, :, np.newaxis] * bx[:, np.newaxis, :]\n",
    "prod.shape"
   ]
  },
  {
   "cell_type": "markdown",
   "id": "679f3e7a-3440-4701-b967-d36f3f32454e",
   "metadata": {},
   "source": [
    "From this we get the squared minkowski inner product of all pairs:"
   ]
  },
  {
   "cell_type": "code",
   "execution_count": 23,
   "id": "244361d5-5a66-4ddd-9416-81395843dd06",
   "metadata": {},
   "outputs": [
    {
     "data": {
      "text/plain": [
       "torch.Size([32, 84, 84])"
      ]
     },
     "execution_count": 23,
     "metadata": {},
     "output_type": "execute_result"
    }
   ],
   "source": [
    "dot2 = prod[..., 0] - prod[..., 1:].sum(axis=-1)\n",
    "dot2 = dot2.clamp(0)\n",
    "dot2.shape"
   ]
  },
  {
   "cell_type": "markdown",
   "id": "ee25ee77-a72a-4f65-a946-475a1901be02",
   "metadata": {},
   "source": [
    "That's quite a lot of numbers for one batch!"
   ]
  },
  {
   "cell_type": "code",
   "execution_count": 24,
   "id": "6e843a73-e290-438d-ad84-330f76f94859",
   "metadata": {},
   "outputs": [
    {
     "data": {
      "text/plain": [
       "225792"
      ]
     },
     "execution_count": 24,
     "metadata": {},
     "output_type": "execute_result"
    }
   ],
   "source": [
    "len(dot2.ravel())"
   ]
  },
  {
   "cell_type": "markdown",
   "id": "f23c775e-575b-4d15-a1e4-ffdbe7f04217",
   "metadata": {},
   "source": [
    "To get values in a more reasonable range for NN training we do a logarithmic transformation:"
   ]
  },
  {
   "cell_type": "code",
   "execution_count": 25,
   "id": "3a41a595-a33a-4286-98e2-77b693a48520",
   "metadata": {},
   "outputs": [],
   "source": [
    "logdot2 = torch.log(1 + dot2)"
   ]
  },
  {
   "cell_type": "code",
   "execution_count": 28,
   "id": "e5b6db8c",
   "metadata": {},
   "outputs": [
    {
     "data": {
      "image/png": "[encoded data removed]",
      "text/plain": [
       "<Figure size 640x480 with 1 Axes>"
      ]
     },
     "metadata": {},
     "output_type": "display_data"
    }
   ],
   "source": [
    "plt.hist(dot2[dot2>0].ravel().numpy(), bins=100);"
   ]
  },
  {
   "cell_type": "code",
   "execution_count": 26,
   "id": "433d7bc4-c697-4f41-b2f2-e06dfbfa8754",
   "metadata": {},
   "outputs": [
    {
     "data": {
      "image/png": "[encoded data removed]",
      "text/plain": [
       "<Figure size 640x480 with 1 Axes>"
      ]
     },
     "metadata": {},
     "output_type": "display_data"
    }
   ],
   "source": [
    "plt.hist(logdot2[logdot2>0].ravel().numpy(), bins=100);"
   ]
  },
  {
   "cell_type": "markdown",
   "id": "b20df9bb-ae21-4dd3-8437-a1732c539626",
   "metadata": {},
   "source": [
    "Now we can create the permutation equivariant aggregations of our matrix of minkowski inner products.\n",
    "\n",
    "In nanoPELICAN there is only a single such layer that operates on the inputs. Since for the top tagging dataset the individual constituents are treated as massless the diagonal of the dot matrix is 0 (traceless). Also it is symmetric. Therefore only 6 (out of 15) useful aggregations are left:"
   ]
  },
  {
   "attachments": {
    "88b26230-e1b0-4dbe-9648-c8b56634f4ea.png": {
     "image/png": "[encoded data removed]"
    }
   },
   "cell_type": "markdown",
   "id": "7cf2e441-2801-493b-91d3-4ec91d8843a8",
   "metadata": {},
   "source": [
    "![image.png](attachment:88b26230-e1b0-4dbe-9648-c8b56634f4ea.png)\n",
    "\n",
    "(from [ML4Jets2024 slides](https://indico.cern.ch/event/1253794/contributions/5588625/attachments/2748386/4783069/ML4Jets23_PELICAN.pdf))\n",
    "\n",
    "we will follow that graphic and choose row sums:"
   ]
  },
  {
   "cell_type": "code",
   "execution_count": 29,
   "id": "29f69b21-763c-4bfe-83df-e321f443cd5c",
   "metadata": {},
   "outputs": [
    {
     "data": {
      "text/plain": [
       "torch.Size([32, 84, 84])"
      ]
     },
     "execution_count": 29,
     "metadata": {},
     "output_type": "execute_result"
    }
   ],
   "source": [
    "logdot2.shape"
   ]
  },
  {
   "cell_type": "markdown",
   "id": "8bb41db0-a683-43a9-a899-3328be614cdd",
   "metadata": {},
   "source": [
    "After each aggregation we should apply a scalefactor to control the overall scale of the numbers coming out. In the original paper a learnable parameter is used. Here we will just roughly use the average number of particles to control the scale:"
   ]
  },
  {
   "cell_type": "code",
   "execution_count": 30,
   "id": "fe063439-d244-4bfa-bb41-e6cc41f93c7e",
   "metadata": {},
   "outputs": [
    {
     "data": {
      "text/plain": [
       "49.09737"
      ]
     },
     "execution_count": 30,
     "metadata": {},
     "output_type": "execute_result"
    }
   ],
   "source": [
    "# average number of particles - turns out to be roughly 50\n",
    "np.mean([len(x) for x in arrays])"
   ]
  },
  {
   "cell_type": "code",
   "execution_count": 31,
   "id": "9535f977-934f-4cdd-9dfa-2b934cb5b807",
   "metadata": {},
   "outputs": [],
   "source": [
    "sf = 1 / 50"
   ]
  },
  {
   "cell_type": "markdown",
   "id": "db729848-fbf4-42f9-96ac-4e2103d64976",
   "metadata": {},
   "source": [
    "All aggregations can be defined by the sum across all rows and the total sum:"
   ]
  },
  {
   "cell_type": "code",
   "execution_count": 34,
   "id": "0a4c1aa6-3319-47ed-9129-b95f4f265ce0",
   "metadata": {},
   "outputs": [
    {
     "data": {
      "text/plain": [
       "torch.Size([32, 1, 84])"
      ]
     },
     "execution_count": 34,
     "metadata": {},
     "output_type": "execute_result"
    }
   ],
   "source": [
    "rowsum = logdot2.sum(axis=1, keepdim=True) * sf\n",
    "rowsum.shape"
   ]
  },
  {
   "cell_type": "code",
   "execution_count": 38,
   "id": "4f37a184-fde2-4aa4-a4c8-7964830ed647",
   "metadata": {},
   "outputs": [
    {
     "data": {
      "text/plain": [
       "torch.Size([32, 1, 1])"
      ]
     },
     "execution_count": 38,
     "metadata": {},
     "output_type": "execute_result"
    }
   ],
   "source": [
    "totsum = logdot2.sum(axis=(1, 2), keepdim=True) * sf**2\n",
    "totsum.shape"
   ]
  },
  {
   "cell_type": "code",
   "execution_count": 36,
   "id": "eb8437e4-d999-4a91-b4a1-3b2477015fc9",
   "metadata": {},
   "outputs": [
    {
     "data": {
      "text/plain": [
       "84"
      ]
     },
     "execution_count": 36,
     "metadata": {},
     "output_type": "execute_result"
    }
   ],
   "source": [
    "N = batch[\"x\"].shape[1]\n",
    "N"
   ]
  },
  {
   "cell_type": "code",
   "execution_count": 39,
   "id": "84b0cdde",
   "metadata": {},
   "outputs": [
    {
     "data": {
      "text/plain": [
       "tensor([[[0.1328]],\n",
       "\n",
       "        [[1.1263]],\n",
       "\n",
       "        [[0.4028]],\n",
       "\n",
       "        [[1.1325]],\n",
       "\n",
       "        [[1.4547]],\n",
       "\n",
       "        [[0.4339]],\n",
       "\n",
       "        [[0.7635]],\n",
       "\n",
       "        [[1.4360]],\n",
       "\n",
       "        [[1.5877]],\n",
       "\n",
       "        [[2.0848]],\n",
       "\n",
       "        [[0.6046]],\n",
       "\n",
       "        [[0.0777]],\n",
       "\n",
       "        [[1.0502]],\n",
       "\n",
       "        [[1.7531]],\n",
       "\n",
       "        [[1.0345]],\n",
       "\n",
       "        [[1.2362]],\n",
       "\n",
       "        [[3.1433]],\n",
       "\n",
       "        [[1.5392]],\n",
       "\n",
       "        [[0.8707]],\n",
       "\n",
       "        [[1.0427]],\n",
       "\n",
       "        [[0.6275]],\n",
       "\n",
       "        [[1.1386]],\n",
       "\n",
       "        [[1.7288]],\n",
       "\n",
       "        [[1.6449]],\n",
       "\n",
       "        [[0.4837]],\n",
       "\n",
       "        [[0.2289]],\n",
       "\n",
       "        [[2.2271]],\n",
       "\n",
       "        [[2.3640]],\n",
       "\n",
       "        [[1.1386]],\n",
       "\n",
       "        [[2.1717]],\n",
       "\n",
       "        [[1.7533]],\n",
       "\n",
       "        [[1.6820]]])"
      ]
     },
     "execution_count": 39,
     "metadata": {},
     "output_type": "execute_result"
    }
   ],
   "source": [
    "totsum"
   ]
  },
  {
   "cell_type": "markdown",
   "id": "fd294521-ec79-4c97-b80c-5e6394c1f3c6",
   "metadata": {},
   "source": [
    "We can use `torch.expand` to broadcast along dimensions of size 1, e.g. this will create a column vector with the total sum on each column:"
   ]
  },
  {
   "cell_type": "code",
   "execution_count": 40,
   "id": "0f86b3ec-b9ee-4e3d-b6c3-0de760d6a708",
   "metadata": {},
   "outputs": [
    {
     "data": {
      "text/plain": [
       "tensor([[[0.1328],\n",
       "         [0.1328],\n",
       "         [0.1328],\n",
       "         ...,\n",
       "         [0.1328],\n",
       "         [0.1328],\n",
       "         [0.1328]],\n",
       "\n",
       "        [[1.1263],\n",
       "         [1.1263],\n",
       "         [1.1263],\n",
       "         ...,\n",
       "         [1.1263],\n",
       "         [1.1263],\n",
       "         [1.1263]],\n",
       "\n",
       "        [[0.4028],\n",
       "         [0.4028],\n",
       "         [0.4028],\n",
       "         ...,\n",
       "         [0.4028],\n",
       "         [0.4028],\n",
       "         [0.4028]],\n",
       "\n",
       "        ...,\n",
       "\n",
       "        [[2.1717],\n",
       "         [2.1717],\n",
       "         [2.1717],\n",
       "         ...,\n",
       "         [2.1717],\n",
       "         [2.1717],\n",
       "         [2.1717]],\n",
       "\n",
       "        [[1.7533],\n",
       "         [1.7533],\n",
       "         [1.7533],\n",
       "         ...,\n",
       "         [1.7533],\n",
       "         [1.7533],\n",
       "         [1.7533]],\n",
       "\n",
       "        [[1.6820],\n",
       "         [1.6820],\n",
       "         [1.6820],\n",
       "         ...,\n",
       "         [1.6820],\n",
       "         [1.6820],\n",
       "         [1.6820]]])"
      ]
     },
     "execution_count": 40,
     "metadata": {},
     "output_type": "execute_result"
    }
   ],
   "source": [
    "totsum.expand(-1, N, -1)"
   ]
  },
  {
   "cell_type": "markdown",
   "id": "46043435-79f7-4290-bae9-854c38746613",
   "metadata": {},
   "source": [
    "With this we can define all 6 aggregations:"
   ]
  },
  {
   "cell_type": "code",
   "execution_count": 42,
   "id": "a7f5cda5",
   "metadata": {},
   "outputs": [
    {
     "data": {
      "text/plain": [
       "tensor([[[1, 0, 0],\n",
       "         [0, 2, 0],\n",
       "         [0, 0, 3]],\n",
       "\n",
       "        [[4, 0, 0],\n",
       "         [0, 5, 0],\n",
       "         [0, 0, 6]]])"
      ]
     },
     "execution_count": 42,
     "metadata": {},
     "output_type": "execute_result"
    }
   ],
   "source": [
    "torch.diag_embed(torch.tensor([[1,2,3,],[4,5,6]]))"
   ]
  },
  {
   "cell_type": "code",
   "execution_count": 43,
   "id": "eb65db7d-3b6a-48cc-ac8f-03c02ceaa30b",
   "metadata": {},
   "outputs": [],
   "source": [
    "agg0 = logdot2\n",
    "agg1 = rowsum.expand(-1, N, -1)\n",
    "agg2 = agg1.transpose(-1, -2)\n",
    "agg3 = torch.diag_embed(rowsum.squeeze(1)) # put rowsum on diagonal\n",
    "agg4 = totsum.expand(-1, N, N)\n",
    "agg5 = torch.diag_embed(totsum.expand(-1, N, -1).squeeze(-1))"
   ]
  },
  {
   "cell_type": "code",
   "execution_count": 44,
   "id": "a10aab73-4889-424b-ab1b-edd04e4a05d8",
   "metadata": {},
   "outputs": [
    {
     "data": {
      "text/plain": [
       "torch.Size([32, 84, 84])"
      ]
     },
     "execution_count": 44,
     "metadata": {},
     "output_type": "execute_result"
    }
   ],
   "source": [
    "agg3.shape"
   ]
  },
  {
   "cell_type": "code",
   "execution_count": 45,
   "id": "0bc9963b-1d3f-47f8-a1a5-909bfb67b25a",
   "metadata": {},
   "outputs": [],
   "source": [
    "def six_aggs(x, sf=1/50):\n",
    "    rowsum = x.sum(axis=1, keepdim=True) * sf\n",
    "    totsum = x.sum(axis=(1, 2), keepdim=True) * sf**2\n",
    "    N = x.shape[1]\n",
    "    aggs = []\n",
    "    aggs.append(x)\n",
    "    aggs.append(rowsum.expand(-1, N, -1))\n",
    "    aggs.append(aggs[0].transpose(-1, -2))\n",
    "    aggs.append(torch.diag_embed(rowsum.squeeze(1)))\n",
    "    aggs.append(totsum.expand(-1, N, N))\n",
    "    aggs.append(torch.diag_embed(totsum.expand(-1, N, -1).squeeze(-1)))\n",
    "    return torch.stack(aggs, -1)"
   ]
  },
  {
   "cell_type": "code",
   "execution_count": 46,
   "id": "b73c5888-f6a0-4732-8472-e5f9f3db4304",
   "metadata": {},
   "outputs": [
    {
     "data": {
      "text/plain": [
       "torch.Size([32, 84, 84, 6])"
      ]
     },
     "execution_count": 46,
     "metadata": {},
     "output_type": "execute_result"
    }
   ],
   "source": [
    "aggs = six_aggs(logdot2)\n",
    "aggs.shape"
   ]
  },
  {
   "cell_type": "markdown",
   "id": "e1934081-6cd8-4a8d-aad0-374885f59074",
   "metadata": {},
   "source": [
    "This is now the tensor that will be fed into a Linear layer!\n",
    "\n",
    "After running it through the layer (before applying the global matrix to scalar aggregation) we need to set the masked values to 0 again. To do that we need to convert the mask square matrix form:"
   ]
  },
  {
   "cell_type": "code",
   "execution_count": 47,
   "id": "1eb78bbe-0cc0-4992-86ee-52e9e4ec0611",
   "metadata": {},
   "outputs": [
    {
     "data": {
      "text/plain": [
       "tensor([[False, False, False,  ...,  True,  True,  True],\n",
       "        [False, False, False,  ...,  True,  True,  True],\n",
       "        [False, False, False,  ...,  True,  True,  True],\n",
       "        ...,\n",
       "        [ True,  True,  True,  ...,  True,  True,  True],\n",
       "        [ True,  True,  True,  ...,  True,  True,  True],\n",
       "        [ True,  True,  True,  ...,  True,  True,  True]])"
      ]
     },
     "execution_count": 47,
     "metadata": {},
     "output_type": "execute_result"
    }
   ],
   "source": [
    "sq_mask = batch[\"mask\"][:, :, np.newaxis] | batch[\"mask\"][:, np.newaxis, :]\n",
    "sq_mask[0]"
   ]
  },
  {
   "cell_type": "code",
   "execution_count": 49,
   "id": "fa75b3ac-4db5-4faa-8691-5fafbb507f11",
   "metadata": {},
   "outputs": [
    {
     "data": {
      "text/plain": [
       "torch.Size([32, 84, 84])"
      ]
     },
     "execution_count": 49,
     "metadata": {},
     "output_type": "execute_result"
    }
   ],
   "source": [
    "sq_mask.shape"
   ]
  },
  {
   "cell_type": "markdown",
   "id": "c1196ec2-6c4f-4f03-8a71-acf257d41666",
   "metadata": {},
   "source": [
    "Now we can implement the complete forward pass, according to this diagram:"
   ]
  },
  {
   "attachments": {
    "fde72581-6064-4115-a82c-ac8a3409d60f.png": {
     "image/png": "[encoded data removed]"
    }
   },
   "cell_type": "markdown",
   "id": "a89f5181-f87a-4a84-94ff-7e57d170593f",
   "metadata": {},
   "source": [
    "![image.png](attachment:fde72581-6064-4115-a82c-ac8a3409d60f.png)"
   ]
  },
  {
   "cell_type": "markdown",
   "id": "9f692753-9d2e-459e-8928-016dbb4342a3",
   "metadata": {},
   "source": [
    "First Linear layer: it will reduce the 6 matrices with linear combinations resulting in 2 matrices and apply a relu activation function:"
   ]
  },
  {
   "cell_type": "code",
   "execution_count": 53,
   "id": "5275cb54-d658-415c-9056-08c5df0c600b",
   "metadata": {},
   "outputs": [
    {
     "data": {
      "text/plain": [
       "torch.Size([32, 84, 84, 2])"
      ]
     },
     "execution_count": 53,
     "metadata": {},
     "output_type": "execute_result"
    }
   ],
   "source": [
    "c = nn.Linear(6, 2)(aggs).relu()\n",
    "c.shape"
   ]
  },
  {
   "cell_type": "code",
   "execution_count": 54,
   "id": "7d820037",
   "metadata": {},
   "outputs": [
    {
     "data": {
      "text/plain": [
       "torch.Size([32, 84, 84, 2])"
      ]
     },
     "execution_count": 54,
     "metadata": {},
     "output_type": "execute_result"
    }
   ],
   "source": [
    "c = c.masked_fill(sq_mask[..., np.newaxis], 0) # set masked entries back to 0, new mask dimension\n",
    "c.shape"
   ]
  },
  {
   "cell_type": "markdown",
   "id": "d8735450-9e67-41c7-b2f5-58134924836a",
   "metadata": {},
   "source": [
    "Global matrix to scalar aggregation (sum and trace) for each of the 2 hidden matrices, resulting in 4 scalars:"
   ]
  },
  {
   "cell_type": "code",
   "execution_count": 56,
   "id": "9fb02654",
   "metadata": {},
   "outputs": [
    {
     "data": {
      "text/plain": [
       "torch.Size([32, 2])"
      ]
     },
     "execution_count": 56,
     "metadata": {},
     "output_type": "execute_result"
    }
   ],
   "source": [
    "c.diagonal(dim1=1, dim2=2).sum(-1).shape"
   ]
  },
  {
   "cell_type": "code",
   "execution_count": 57,
   "id": "9b648562-beb3-4d5a-8eea-285162ac44ec",
   "metadata": {},
   "outputs": [
    {
     "data": {
      "text/plain": [
       "torch.Size([32, 4])"
      ]
     },
     "execution_count": 57,
     "metadata": {},
     "output_type": "execute_result"
    }
   ],
   "source": [
    "ft = torch.cat(\n",
    "    [\n",
    "        (c.sum((1, 2)) * sf**2), # total sum\n",
    "        c.diagonal(dim1=1, dim2=2).sum(-1) # trace\n",
    "    ],\n",
    "    -1\n",
    ")\n",
    "ft.shape"
   ]
  },
  {
   "cell_type": "markdown",
   "id": "bdbde077-b375-410d-9017-115de74abcb8",
   "metadata": {},
   "source": [
    "These can then be fed trough the final layer where we skip the activation function (will apply it in the loss). We get a single scalar value for each event in the batch:"
   ]
  },
  {
   "cell_type": "code",
   "execution_count": 58,
   "id": "149630bb-4ee7-4a2d-a168-4976821cb9ca",
   "metadata": {},
   "outputs": [
    {
     "data": {
      "text/plain": [
       "tensor([[1.2855],\n",
       "        [0.4916],\n",
       "        [0.9827],\n",
       "        [0.4907],\n",
       "        [0.4873],\n",
       "        [0.7772],\n",
       "        [0.4952],\n",
       "        [0.4865],\n",
       "        [0.4811],\n",
       "        [0.4695],\n",
       "        [0.5170],\n",
       "        [1.3540],\n",
       "        [0.4925],\n",
       "        [0.4813],\n",
       "        [0.4937],\n",
       "        [0.4911],\n",
       "        [0.3888],\n",
       "        [0.4846],\n",
       "        [0.4938],\n",
       "        [0.4912],\n",
       "        [0.5012],\n",
       "        [0.4910],\n",
       "        [0.4803],\n",
       "        [0.4820],\n",
       "        [0.5521],\n",
       "        [1.2782],\n",
       "        [0.4710],\n",
       "        [0.4447],\n",
       "        [0.4910],\n",
       "        [0.4575],\n",
       "        [0.4806],\n",
       "        [0.4809]], grad_fn=<AddmmBackward0>)"
      ]
     },
     "execution_count": 58,
     "metadata": {},
     "output_type": "execute_result"
    }
   ],
   "source": [
    "nn.Linear(4, 1)(ft)"
   ]
  },
  {
   "cell_type": "markdown",
   "id": "8c85e252-50af-4b97-854e-a2b2fbf0be55",
   "metadata": {},
   "source": [
    "Putting everything together as a single torch module:"
   ]
  },
  {
   "cell_type": "code",
   "execution_count": 59,
   "id": "88b5af74-666b-42e7-9674-d4d0377af282",
   "metadata": {},
   "outputs": [],
   "source": [
    "class NanoPelican(nn.Module):\n",
    "    def __init__(self, sf=1/50):\n",
    "        super().__init__()\n",
    "        self.linear1 = nn.Linear(6, 2)\n",
    "        self.linear2 = nn.Linear(4, 1)\n",
    "        self.sf = sf\n",
    "\n",
    "    def forward(self, x, mask):\n",
    "        mask = mask[:, :, np.newaxis] | mask[:, np.newaxis, :] # squared mask\n",
    "        mask = mask[..., np.newaxis]\n",
    "        x = x[:, :, np.newaxis] * x[:, np.newaxis, :] # pairwise prod\n",
    "        x = x[..., 0] - x[..., 1:].sum(axis=-1) # minkowski dot squared\n",
    "        x = x.clamp(0)\n",
    "        x = torch.log(1 + x)\n",
    "        x = six_aggs(x, sf=self.sf)\n",
    "        x = self.linear1(x).relu().masked_fill(mask, 0)\n",
    "        x = torch.cat([x.sum((1, 2)) * sf**2, x.diagonal(dim1=1, dim2=2).sum(-1) * sf], -1)\n",
    "        x = self.linear2(x)\n",
    "        return x"
   ]
  },
  {
   "cell_type": "code",
   "execution_count": 60,
   "id": "ca6d7cc8-bd5c-4259-ab78-913efe0f6689",
   "metadata": {},
   "outputs": [],
   "source": [
    "model = NanoPelican()"
   ]
  },
  {
   "cell_type": "code",
   "execution_count": 61,
   "id": "c9997cf5-25bb-46b5-a31c-2e29a74ba766",
   "metadata": {},
   "outputs": [
    {
     "data": {
      "text/plain": [
       "tensor([[0.0505],\n",
       "        [0.4663],\n",
       "        [0.1905],\n",
       "        [0.4116],\n",
       "        [0.5870],\n",
       "        [0.1840],\n",
       "        [0.2800],\n",
       "        [0.6309],\n",
       "        [0.8412],\n",
       "        [0.9635],\n",
       "        [0.2361],\n",
       "        [0.0345],\n",
       "        [0.4346],\n",
       "        [0.7571],\n",
       "        [0.4896],\n",
       "        [0.5460],\n",
       "        [1.5726],\n",
       "        [0.6649],\n",
       "        [0.3431],\n",
       "        [0.3572],\n",
       "        [0.2600],\n",
       "        [0.4701],\n",
       "        [0.7946],\n",
       "        [0.8253],\n",
       "        [0.1694],\n",
       "        [0.0914],\n",
       "        [0.8839],\n",
       "        [1.2203],\n",
       "        [0.4617],\n",
       "        [1.1415],\n",
       "        [0.7795],\n",
       "        [0.7785]], grad_fn=<AddmmBackward0>)"
      ]
     },
     "execution_count": 61,
     "metadata": {},
     "output_type": "execute_result"
    }
   ],
   "source": [
    "model(batch[\"x\"], batch[\"mask\"])"
   ]
  },
  {
   "cell_type": "markdown",
   "id": "e02b0281-de03-4ab3-bb13-553bdf95343e",
   "metadata": {},
   "source": [
    "And we end up with the impressively small amount of 19 parameters:"
   ]
  },
  {
   "cell_type": "code",
   "execution_count": 62,
   "id": "20a28f99-fd0f-4f98-9588-eef8bec9ae88",
   "metadata": {},
   "outputs": [
    {
     "data": {
      "text/plain": [
       "19"
      ]
     },
     "execution_count": 62,
     "metadata": {},
     "output_type": "execute_result"
    }
   ],
   "source": [
    "sum(par.numel() for par in model.parameters())"
   ]
  },
  {
   "cell_type": "markdown",
   "id": "58ad9fb5-6671-4d56-a9bd-de5401b6e4cc",
   "metadata": {},
   "source": [
    "<div class=\"alert alert-block alert-success\">\n",
    "    <h2>Exercise 1: Check symmetries</h2>\n",
    "Now is a good time to check if our model actually respects the symmetries we want it to have:\n",
    "\n",
    "- invariance with/without padding (masking done correctly? no accidential cross batch operations?)\n",
    "- permutation invariance\n",
    "- lorentz invariance\n",
    "\n",
    "You can use the code suggestions below and fill in the \"...\"\n",
    "</div>"
   ]
  },
  {
   "cell_type": "markdown",
   "id": "cde4f0e3-a4b6-4cf8-9833-de308261f4a8",
   "metadata": {},
   "source": [
    "### Masking"
   ]
  },
  {
   "cell_type": "code",
   "execution_count": 86,
   "id": "9afc6173-961e-4d9a-83c4-4873560f301a",
   "metadata": {},
   "outputs": [
    {
     "data": {
      "text/plain": [
       "torch.Size([1, 20, 4])"
      ]
     },
     "execution_count": 86,
     "metadata": {},
     "output_type": "execute_result"
    }
   ],
   "source": [
    "x = batch[\"x\"][0][~batch[\"mask\"][0]][np.newaxis, :]\n",
    "x.shape"
   ]
  },
  {
   "cell_type": "code",
   "execution_count": 87,
   "id": "b72a6fc1-bdd6-4db4-bb97-6325320aedd2",
   "metadata": {},
   "outputs": [
    {
     "data": {
      "text/plain": [
       "tensor([[0.0505]], grad_fn=<AddmmBackward0>)"
      ]
     },
     "execution_count": 87,
     "metadata": {},
     "output_type": "execute_result"
    }
   ],
   "source": [
    "model(x, mask=torch.zeros((1, x.shape[1]), dtype=bool))"
   ]
  },
  {
   "cell_type": "code",
   "execution_count": 91,
   "id": "d5065ac7-e72e-4651-a01f-069eda5e1b28",
   "metadata": {},
   "outputs": [],
   "source": [
    "out = []\n",
    "for i in range(len(batch[\"x\"])):\n",
    "    x = batch[\"x\"][i][~batch[\"mask\"][i]][np.newaxis, :]\n",
    "    out.append(model(x, mask=torch.zeros((1, x.shape[1]), dtype=bool)))"
   ]
  },
  {
   "cell_type": "code",
   "execution_count": 93,
   "id": "9092f5dd-f4e4-4ed3-9d2b-99038cedeb45",
   "metadata": {},
   "outputs": [
    {
     "data": {
      "text/plain": [
       "tensor(True)"
      ]
     },
     "execution_count": 93,
     "metadata": {},
     "output_type": "execute_result"
    }
   ],
   "source": [
    "torch.isclose(torch.cat(out), model(batch[\"x\"], mask=batch[\"mask\"])).all()"
   ]
  },
  {
   "cell_type": "markdown",
   "id": "3ea44ae1-cf65-4d52-bc72-bc08d128bfba",
   "metadata": {},
   "source": [
    "### Permutation invariance"
   ]
  },
  {
   "cell_type": "code",
   "execution_count": 68,
   "id": "da538fab-3920-48b2-b00b-596fe9aa5216",
   "metadata": {},
   "outputs": [],
   "source": [
    "x = batch[\"x\"][10][np.newaxis, :]\n",
    "mask = batch[\"mask\"][10][np.newaxis, :]\n",
    "before = model(x, mask)"
   ]
  },
  {
   "cell_type": "code",
   "execution_count": 72,
   "id": "0a36eccd",
   "metadata": {},
   "outputs": [
    {
     "data": {
      "text/plain": [
       "torch.Size([1, 84, 4])"
      ]
     },
     "execution_count": 72,
     "metadata": {},
     "output_type": "execute_result"
    }
   ],
   "source": [
    "x.shape"
   ]
  },
  {
   "cell_type": "code",
   "execution_count": 70,
   "id": "388febd5",
   "metadata": {},
   "outputs": [
    {
     "data": {
      "text/plain": [
       "array([75, 36, 25,  7, 19, 67, 24,  3, 20, 15, 16,  4, 43, 35,  9, 37, 33,\n",
       "       28, 31, 70, 49, 69, 46, 44, 47,  1, 26, 27, 78, 52, 66, 71, 51, 56,\n",
       "       54,  2, 76, 22, 65, 50, 39, 72, 45, 81, 60, 64, 48, 55, 42, 17,  0,\n",
       "       83,  6, 32, 74, 73, 38, 77, 80, 79, 61, 29, 58, 14, 57, 41, 59, 18,\n",
       "        5, 23, 40, 13, 10, 62, 11, 34, 30, 68, 53, 21, 82, 63,  8, 12])"
      ]
     },
     "execution_count": 70,
     "metadata": {},
     "output_type": "execute_result"
    }
   ],
   "source": [
    "rnd = np.random.permutation(x.shape[1])\n",
    "rnd"
   ]
  },
  {
   "cell_type": "code",
   "execution_count": 74,
   "id": "057115df",
   "metadata": {},
   "outputs": [
    {
     "data": {
      "text/plain": [
       "torch.Size([1, 84, 4])"
      ]
     },
     "execution_count": 74,
     "metadata": {},
     "output_type": "execute_result"
    }
   ],
   "source": [
    "x_after = x[:, rnd, :]\n",
    "x_after.shape"
   ]
  },
  {
   "cell_type": "code",
   "execution_count": 79,
   "id": "83e4efed",
   "metadata": {},
   "outputs": [],
   "source": [
    "mask_after = mask[:, rnd]"
   ]
  },
  {
   "cell_type": "code",
   "execution_count": 80,
   "id": "9db4b34e",
   "metadata": {},
   "outputs": [],
   "source": [
    "after = model(x_after, mask_after)"
   ]
  },
  {
   "cell_type": "code",
   "execution_count": 81,
   "id": "d1941e9d-4da5-4471-b89d-604a7f3ec910",
   "metadata": {},
   "outputs": [
    {
     "data": {
      "text/plain": [
       "tensor([[True]])"
      ]
     },
     "execution_count": 81,
     "metadata": {},
     "output_type": "execute_result"
    }
   ],
   "source": [
    "torch.isclose(before, after)"
   ]
  },
  {
   "cell_type": "markdown",
   "id": "a0722a4e-6df1-4320-9a3b-da3759fcbd46",
   "metadata": {},
   "source": [
    "### Lorentz invariance"
   ]
  },
  {
   "cell_type": "markdown",
   "id": "548e8595-67d8-41b7-b1e0-187a58cc9535",
   "metadata": {},
   "source": [
    "#### Rotations"
   ]
  },
  {
   "cell_type": "code",
   "execution_count": 63,
   "id": "1355c5c1-04c2-4339-b632-87676303e722",
   "metadata": {},
   "outputs": [],
   "source": [
    "# e.g. x-y plane\n",
    "phi = torch.tensor(0.42)\n",
    "# replace 0s in the matrix below to perform a rotation in the x-y plane\n",
    "# by angle phi\n",
    "rot = torch.tensor([[ 1,  0,  0,  0],\n",
    "                    [ 0,  np.cos(phi),  -np.sin(phi),  0],\n",
    "                    [ 0,  np.sin(phi),  np.cos(phi),  0],\n",
    "                    [ 0,  0,  0,  1]])"
   ]
  },
  {
   "cell_type": "code",
   "execution_count": 64,
   "id": "02fd1847-0ab9-4f06-a420-18a94d2be306",
   "metadata": {},
   "outputs": [
    {
     "data": {
      "text/plain": [
       "tensor([1.2547e-05], grad_fn=<UnbindBackward0>)"
      ]
     },
     "execution_count": 64,
     "metadata": {},
     "output_type": "execute_result"
    }
   ],
   "source": [
    "# there may be numerical instabilities such that we don't get exact match\n",
    "# still the largest difference shouldn't be too large\n",
    "max(\n",
    "    model(batch[\"x\"], batch[\"mask\"])\n",
    "    - model(batch[\"x\"] @ rot.T, batch[\"mask\"])\n",
    ")"
   ]
  },
  {
   "cell_type": "markdown",
   "id": "6213c5ed-6053-4beb-96ba-2a7236125bc8",
   "metadata": {},
   "source": [
    "#### Boost"
   ]
  },
  {
   "cell_type": "code",
   "execution_count": 65,
   "id": "d6f3c943-f092-448e-9591-39fed524c522",
   "metadata": {},
   "outputs": [],
   "source": [
    "beta = torch.tensor(0.7)\n",
    "gamma = 1 / torch.sqrt(1 - beta**2)\n",
    "boost = torch.tensor([[ gamma,  -beta*gamma,  0,  0],\n",
    "                      [ -beta*gamma,  gamma,  0,  0],\n",
    "                      [ 0,  0,  1,  0],\n",
    "                      [ 0,  0,  0,  1]])"
   ]
  },
  {
   "cell_type": "code",
   "execution_count": 67,
   "id": "8452ba69-c515-4fff-b247-4e2b150923c5",
   "metadata": {},
   "outputs": [
    {
     "data": {
      "text/plain": [
       "tensor([3.7283e-05], grad_fn=<UnbindBackward0>)"
      ]
     },
     "execution_count": 67,
     "metadata": {},
     "output_type": "execute_result"
    }
   ],
   "source": [
    "max(\n",
    "    model(batch[\"x\"] @ boost.T, batch[\"mask\"])\n",
    "    - model(batch[\"x\"], batch[\"mask\"])\n",
    ")"
   ]
  },
  {
   "cell_type": "markdown",
   "id": "8a03b3df-6e1c-4d2c-a50d-5afc8705dc94",
   "metadata": {},
   "source": [
    "## Fit the model"
   ]
  },
  {
   "cell_type": "code",
   "execution_count": null,
   "id": "4c197bf0",
   "metadata": {},
   "outputs": [],
   "source": [
    "# if GPU available\n",
    "#model = NanoPelican()\n",
    "#device = \"cuda\"\n",
    "#model.to(device)"
   ]
  },
  {
   "cell_type": "code",
   "execution_count": 94,
   "id": "9b643d81-9cd2-4de6-a07a-571069b91275",
   "metadata": {},
   "outputs": [],
   "source": [
    "ds_train, ds_val = torch.utils.data.random_split(ds, [0.9, 0.1])\n",
    "kwargs = dict(batch_size=32, collate_fn=collate_fn)\n",
    "dl_train = DataLoader(ds_train, shuffle=True, **kwargs)\n",
    "dl_val = DataLoader(ds_val, **kwargs)"
   ]
  },
  {
   "cell_type": "code",
   "execution_count": 95,
   "id": "307d40fa-6df3-4089-a221-671e26115bf6",
   "metadata": {},
   "outputs": [],
   "source": [
    "optimizer = torch.optim.Adam(model.parameters())"
   ]
  },
  {
   "cell_type": "code",
   "execution_count": 96,
   "id": "65a93067-1033-4899-9f33-362ac5b5d341",
   "metadata": {},
   "outputs": [],
   "source": [
    "from tqdm.auto import tqdm"
   ]
  },
  {
   "cell_type": "code",
   "execution_count": 97,
   "id": "59ad158c-5ba1-4958-9845-9536160e23f4",
   "metadata": {},
   "outputs": [],
   "source": [
    "history = []"
   ]
  },
  {
   "cell_type": "code",
   "execution_count": 98,
   "id": "8c801f80-efd0-414f-a296-2bfa9a788869",
   "metadata": {},
   "outputs": [],
   "source": [
    "def fit(model, optimizer, dl_train, dl_val, history, epochs=1):\n",
    "    loss_fn = F.binary_cross_entropy_with_logits\n",
    "    def forward(model, batch):\n",
    "        return model(batch[\"x\"], batch[\"mask\"]).squeeze()\n",
    "\n",
    "    def train_step(batch):\n",
    "        #batch = {k: v.to(device) for k, v in batch.items()}\n",
    "        model.train()\n",
    "        optimizer.zero_grad()\n",
    "        logits = forward(model, batch)\n",
    "        loss = loss_fn(logits, batch[\"y\"])\n",
    "        loss.backward()\n",
    "        optimizer.step()\n",
    "        return loss.cpu().detach().item()\n",
    "\n",
    "    def val_step(batch):\n",
    "        #batch = {k: v.to(device) for k, v in batch.items()}\n",
    "        model.eval()\n",
    "        with torch.no_grad():\n",
    "            logits = forward(model, batch)\n",
    "            return loss_fn(logits, batch[\"y\"]).cpu().item()\n",
    "\n",
    "    for epoch in range(epochs):\n",
    "        losses = []\n",
    "        for batch in tqdm(dl_train):\n",
    "            losses.append(train_step(batch))\n",
    "        val_losses = []\n",
    "        for batch in dl_val:\n",
    "            val_losses.append(val_step(batch))\n",
    "        history.append({\"loss\": np.mean(losses), \"val_loss\": np.mean(val_losses)})\n",
    "        print(history[-1])\n",
    "\n",
    "    return losses"
   ]
  },
  {
   "cell_type": "code",
   "execution_count": 99,
   "id": "d6c90fae-769d-4bd7-aabf-3fd6a331a464",
   "metadata": {
    "scrolled": true
   },
   "outputs": [
    {
     "data": {
      "application/vnd.jupyter.widget-view+json": {
       "model_id": "8eed59572fb242df8e5557fd0fda9c2c",
       "version_major": 2,
       "version_minor": 0
      },
      "text/plain": [
       "  0%|          | 0/2813 [00:00<?, ?it/s]"
      ]
     },
     "metadata": {},
     "output_type": "display_data"
    },
    {
     "name": "stdout",
     "output_type": "stream",
     "text": [
      "{'loss': 0.5758227694513448, 'val_loss': 0.5030608772279356}\n"
     ]
    },
    {
     "data": {
      "application/vnd.jupyter.widget-view+json": {
       "model_id": "a783704c3d0b481b84fad10df63567ae",
       "version_major": 2,
       "version_minor": 0
      },
      "text/plain": [
       "  0%|          | 0/2813 [00:00<?, ?it/s]"
      ]
     },
     "metadata": {},
     "output_type": "display_data"
    },
    {
     "name": "stdout",
     "output_type": "stream",
     "text": [
      "{'loss': 0.4740509038352051, 'val_loss': 0.4515732661984599}\n"
     ]
    },
    {
     "data": {
      "application/vnd.jupyter.widget-view+json": {
       "model_id": "c85cfc99c76b41e483289ca69df4a103",
       "version_major": 2,
       "version_minor": 0
      },
      "text/plain": [
       "  0%|          | 0/2813 [00:00<?, ?it/s]"
      ]
     },
     "metadata": {},
     "output_type": "display_data"
    },
    {
     "name": "stdout",
     "output_type": "stream",
     "text": [
      "{'loss': 0.43670323666435434, 'val_loss': 0.4197290191254296}\n"
     ]
    },
    {
     "data": {
      "application/vnd.jupyter.widget-view+json": {
       "model_id": "efcd8c74bf904ee7a75da5d214791493",
       "version_major": 2,
       "version_minor": 0
      },
      "text/plain": [
       "  0%|          | 0/2813 [00:00<?, ?it/s]"
      ]
     },
     "metadata": {},
     "output_type": "display_data"
    },
    {
     "name": "stdout",
     "output_type": "stream",
     "text": [
      "{'loss': 0.40738949988539264, 'val_loss': 0.38762528208878855}\n"
     ]
    },
    {
     "data": {
      "application/vnd.jupyter.widget-view+json": {
       "model_id": "52a115c00bad456087bbc62bd226fb16",
       "version_major": 2,
       "version_minor": 0
      },
      "text/plain": [
       "  0%|          | 0/2813 [00:00<?, ?it/s]"
      ]
     },
     "metadata": {},
     "output_type": "display_data"
    },
    {
     "name": "stdout",
     "output_type": "stream",
     "text": [
      "{'loss': 0.3814476803978101, 'val_loss': 0.368210943933493}\n"
     ]
    },
    {
     "data": {
      "text/plain": [
       "[0.38449469208717346,\n",
       " 0.2986687421798706,\n",
       " 0.27620643377304077,\n",
       " 0.35617026686668396,\n",
       " 0.42972150444984436,\n",
       " 0.4612831473350525,\n",
       " 0.29113560914993286,\n",
       " 0.32173284888267517,\n",
       " 0.351016104221344,\n",
       " 0.469978004693985,\n",
       " 0.40793377161026,\n",
       " 0.4345032274723053,\n",
       " 0.29180586338043213,\n",
       " 0.465459406375885,\n",
       " 0.29230502247810364,\n",
       " 0.49271562695503235,\n",
       " 0.5398313403129578,\n",
       " 0.35014453530311584,\n",
       " 0.36690449714660645,\n",
       " 0.3717518448829651,\n",
       " 0.329468309879303,\n",
       " 0.30864715576171875,\n",
       " 0.3946511745452881,\n",
       " 0.34526413679122925,\n",
       " 0.3914710581302643,\n",
       " 0.5003491044044495,\n",
       " 0.5126889944076538,\n",
       " 0.4419477581977844,\n",
       " 0.4164893627166748,\n",
       " 0.24198180437088013,\n",
       " 0.42136454582214355,\n",
       " 0.4398709237575531,\n",
       " 0.2476191222667694,\n",
       " 0.3596840500831604,\n",
       " 0.3007570207118988,\n",
       " 0.3371506631374359,\n",
       " 0.5243300199508667,\n",
       " 0.36040544509887695,\n",
       " 0.4905571937561035,\n",
       " 0.3536812365055084,\n",
       " 0.5258269906044006,\n",
       " 0.3457033932209015,\n",
       " 0.3115957975387573,\n",
       " 0.3810637593269348,\n",
       " 0.4154540002346039,\n",
       " 0.42552104592323303,\n",
       " 0.45690977573394775,\n",
       " 0.4811069667339325,\n",
       " 0.36362504959106445,\n",
       " 0.29720455408096313,\n",
       " 0.4267684817314148,\n",
       " 0.3672964572906494,\n",
       " 0.45404067635536194,\n",
       " 0.43249088525772095,\n",
       " 0.2713000476360321,\n",
       " 0.3986401855945587,\n",
       " 0.32778313755989075,\n",
       " 0.3377917408943176,\n",
       " 0.5127081274986267,\n",
       " 0.4032674729824066,\n",
       " 0.5013585686683655,\n",
       " 0.4402526021003723,\n",
       " 0.3499508798122406,\n",
       " 0.2661043107509613,\n",
       " 0.49021822214126587,\n",
       " 0.3911316990852356,\n",
       " 0.41366371512413025,\n",
       " 0.327134907245636,\n",
       " 0.294821560382843,\n",
       " 0.4171556830406189,\n",
       " 0.4990865886211395,\n",
       " 0.3155095875263214,\n",
       " 0.2547004818916321,\n",
       " 0.5053156614303589,\n",
       " 0.30619439482688904,\n",
       " 0.467527836561203,\n",
       " 0.48304763436317444,\n",
       " 0.41873401403427124,\n",
       " 0.3420860469341278,\n",
       " 0.6413636803627014,\n",
       " 0.42050841450691223,\n",
       " 0.478030264377594,\n",
       " 0.530411958694458,\n",
       " 0.4086124300956726,\n",
       " 0.3774259686470032,\n",
       " 0.3925963342189789,\n",
       " 0.5254580974578857,\n",
       " 0.44311821460723877,\n",
       " 0.4633373022079468,\n",
       " 0.40442579984664917,\n",
       " 0.4220064878463745,\n",
       " 0.5001006722450256,\n",
       " 0.28666549921035767,\n",
       " 0.38818541169166565,\n",
       " 0.42533355951309204,\n",
       " 0.3105965852737427,\n",
       " 0.3880322277545929,\n",
       " 0.4826606214046478,\n",
       " 0.3864687979221344,\n",
       " 0.43783918023109436,\n",
       " 0.32162007689476013,\n",
       " 0.5192868113517761,\n",
       " 0.3991987407207489,\n",
       " 0.3468877673149109,\n",
       " 0.548622727394104,\n",
       " 0.38887178897857666,\n",
       " 0.33296799659729004,\n",
       " 0.33161112666130066,\n",
       " 0.3249843120574951,\n",
       " 0.40479379892349243,\n",
       " 0.49958598613739014,\n",
       " 0.3948683738708496,\n",
       " 0.4249928295612335,\n",
       " 0.4214024245738983,\n",
       " 0.5134008526802063,\n",
       " 0.7024955749511719,\n",
       " 0.33269333839416504,\n",
       " 0.41329145431518555,\n",
       " 0.29309991002082825,\n",
       " 0.3468262553215027,\n",
       " 0.3717375099658966,\n",
       " 0.35173168778419495,\n",
       " 0.23365482687950134,\n",
       " 0.3880784511566162,\n",
       " 0.421630859375,\n",
       " 0.3634493052959442,\n",
       " 0.41329407691955566,\n",
       " 0.4831187129020691,\n",
       " 0.290501207113266,\n",
       " 0.30759069323539734,\n",
       " 0.41478854417800903,\n",
       " 0.520474374294281,\n",
       " 0.5812541842460632,\n",
       " 0.23786775767803192,\n",
       " 0.4295036792755127,\n",
       " 0.31948038935661316,\n",
       " 0.26799991726875305,\n",
       " 0.4118231534957886,\n",
       " 0.40562915802001953,\n",
       " 0.3526075482368469,\n",
       " 0.32640403509140015,\n",
       " 0.23561763763427734,\n",
       " 0.2756907343864441,\n",
       " 0.37117862701416016,\n",
       " 0.3605612814426422,\n",
       " 0.35541635751724243,\n",
       " 0.4697657525539398,\n",
       " 0.2642931640148163,\n",
       " 0.5433826446533203,\n",
       " 0.2650963068008423,\n",
       " 0.27536600828170776,\n",
       " 0.39925864338874817,\n",
       " 0.3040855824947357,\n",
       " 0.39667853713035583,\n",
       " 0.5185206532478333,\n",
       " 0.3341082036495209,\n",
       " 0.4311389923095703,\n",
       " 0.3969729244709015,\n",
       " 0.5569897890090942,\n",
       " 0.2867946922779083,\n",
       " 0.46573206782341003,\n",
       " 0.33776581287384033,\n",
       " 0.37418103218078613,\n",
       " 0.3319719433784485,\n",
       " 0.29079997539520264,\n",
       " 0.38427233695983887,\n",
       " 0.3618088960647583,\n",
       " 0.34193509817123413,\n",
       " 0.37448790669441223,\n",
       " 0.46643251180648804,\n",
       " 0.4579242169857025,\n",
       " 0.26979464292526245,\n",
       " 0.4820692241191864,\n",
       " 0.3350571393966675,\n",
       " 0.6086221933364868,\n",
       " 0.3994589149951935,\n",
       " 0.40963608026504517,\n",
       " 0.2686317563056946,\n",
       " 0.4454895555973053,\n",
       " 0.45197761058807373,\n",
       " 0.3595937192440033,\n",
       " 0.21632327139377594,\n",
       " 0.33288174867630005,\n",
       " 0.4024181663990021,\n",
       " 0.3975047171115875,\n",
       " 0.5264477729797363,\n",
       " 0.22566905617713928,\n",
       " 0.49154460430145264,\n",
       " 0.33226990699768066,\n",
       " 0.577889084815979,\n",
       " 0.35058385133743286,\n",
       " 0.4075114130973816,\n",
       " 0.4428754150867462,\n",
       " 0.33172523975372314,\n",
       " 0.32518064975738525,\n",
       " 0.5018513202667236,\n",
       " 0.36508193612098694,\n",
       " 0.2267930805683136,\n",
       " 0.4253008961677551,\n",
       " 0.35286974906921387,\n",
       " 0.36119940876960754,\n",
       " 0.46078264713287354,\n",
       " 0.4074036478996277,\n",
       " 0.3430634140968323,\n",
       " 0.39998286962509155,\n",
       " 0.35249844193458557,\n",
       " 0.43208232522010803,\n",
       " 0.38874533772468567,\n",
       " 0.49248987436294556,\n",
       " 0.3766052722930908,\n",
       " 0.4224284887313843,\n",
       " 0.38699254393577576,\n",
       " 0.41712623834609985,\n",
       " 0.354694664478302,\n",
       " 0.37420400977134705,\n",
       " 0.4078128933906555,\n",
       " 0.37640076875686646,\n",
       " 0.23850496113300323,\n",
       " 0.393431156873703,\n",
       " 0.4250093102455139,\n",
       " 0.311274915933609,\n",
       " 0.3149675130844116,\n",
       " 0.46488356590270996,\n",
       " 0.3460574150085449,\n",
       " 0.38146889209747314,\n",
       " 0.3603939116001129,\n",
       " 0.3779640197753906,\n",
       " 0.532078742980957,\n",
       " 0.47002989053726196,\n",
       " 0.3488401770591736,\n",
       " 0.43382176756858826,\n",
       " 0.4338005483150482,\n",
       " 0.4882810115814209,\n",
       " 0.4289705157279968,\n",
       " 0.45903295278549194,\n",
       " 0.46183910965919495,\n",
       " 0.4392440915107727,\n",
       " 0.4929500222206116,\n",
       " 0.35888272523880005,\n",
       " 0.3467530310153961,\n",
       " 0.4252592623233795,\n",
       " 0.43921151757240295,\n",
       " 0.45277541875839233,\n",
       " 0.6170012950897217,\n",
       " 0.3311026692390442,\n",
       " 0.4191790521144867,\n",
       " 0.4524884521961212,\n",
       " 0.49596625566482544,\n",
       " 0.38217222690582275,\n",
       " 0.4174364507198334,\n",
       " 0.5204308032989502,\n",
       " 0.3524560332298279,\n",
       " 0.39104026556015015,\n",
       " 0.4720582067966461,\n",
       " 0.44847607612609863,\n",
       " 0.4028804302215576,\n",
       " 0.33738672733306885,\n",
       " 0.4467953145503998,\n",
       " 0.4163280129432678,\n",
       " 0.3261459469795227,\n",
       " 0.4885094463825226,\n",
       " 0.35466378927230835,\n",
       " 0.3931655287742615,\n",
       " 0.3653491139411926,\n",
       " 0.38058480620384216,\n",
       " 0.5428469181060791,\n",
       " 0.3598094880580902,\n",
       " 0.5024173855781555,\n",
       " 0.40684595704078674,\n",
       " 0.29898738861083984,\n",
       " 0.34250515699386597,\n",
       " 0.26746293902397156,\n",
       " 0.38284096121788025,\n",
       " 0.32895898818969727,\n",
       " 0.4199683666229248,\n",
       " 0.22872570157051086,\n",
       " 0.38210785388946533,\n",
       " 0.30882784724235535,\n",
       " 0.4456961154937744,\n",
       " 0.35412466526031494,\n",
       " 0.3349034786224365,\n",
       " 0.5171502828598022,\n",
       " 0.47466641664505005,\n",
       " 0.28043118119239807,\n",
       " 0.5229073762893677,\n",
       " 0.4539954364299774,\n",
       " 0.48729974031448364,\n",
       " 0.3630019426345825,\n",
       " 0.39850831031799316,\n",
       " 0.443254292011261,\n",
       " 0.30981311202049255,\n",
       " 0.3222190737724304,\n",
       " 0.35247963666915894,\n",
       " 0.37280917167663574,\n",
       " 0.4451413154602051,\n",
       " 0.27328935265541077,\n",
       " 0.4620435833930969,\n",
       " 0.30106595158576965,\n",
       " 0.44522586464881897,\n",
       " 0.418243408203125,\n",
       " 0.31872841715812683,\n",
       " 0.46880096197128296,\n",
       " 0.4568837583065033,\n",
       " 0.3981862962245941,\n",
       " 0.3329166769981384,\n",
       " 0.2396058589220047,\n",
       " 0.48215705156326294,\n",
       " 0.4656102657318115,\n",
       " 0.5814824104309082,\n",
       " 0.29873356223106384,\n",
       " 0.4195258915424347,\n",
       " 0.2719809412956238,\n",
       " 0.3884502053260803,\n",
       " 0.3736410140991211,\n",
       " 0.5341246128082275,\n",
       " 0.32717132568359375,\n",
       " 0.3179208040237427,\n",
       " 0.3700849115848541,\n",
       " 0.35816726088523865,\n",
       " 0.688309371471405,\n",
       " 0.33049246668815613,\n",
       " 0.378371000289917,\n",
       " 0.34357017278671265,\n",
       " 0.4940694570541382,\n",
       " 0.310420423746109,\n",
       " 0.40897488594055176,\n",
       " 0.3140903115272522,\n",
       " 0.45887041091918945,\n",
       " 0.3802785575389862,\n",
       " 0.4156494140625,\n",
       " 0.3535165786743164,\n",
       " 0.4253769516944885,\n",
       " 0.38311177492141724,\n",
       " 0.40656524896621704,\n",
       " 0.48188352584838867,\n",
       " 0.5291212797164917,\n",
       " 0.443010538816452,\n",
       " 0.38576453924179077,\n",
       " 0.2338976413011551,\n",
       " 0.22651024162769318,\n",
       " 0.42682206630706787,\n",
       " 0.5288413763046265,\n",
       " 0.31920889019966125,\n",
       " 0.38453125953674316,\n",
       " 0.4393787980079651,\n",
       " 0.2726626396179199,\n",
       " 0.36246457695961,\n",
       " 0.32167375087738037,\n",
       " 0.48853808641433716,\n",
       " 0.3942893445491791,\n",
       " 0.3708258867263794,\n",
       " 0.3517131209373474,\n",
       " 0.5479972958564758,\n",
       " 0.38804274797439575,\n",
       " 0.4336164593696594,\n",
       " 0.4018833041191101,\n",
       " 0.3728392720222473,\n",
       " 0.4866922199726105,\n",
       " 0.4414898753166199,\n",
       " 0.38724252581596375,\n",
       " 0.3821128010749817,\n",
       " 0.4471583366394043,\n",
       " 0.5310168266296387,\n",
       " 0.3867921829223633,\n",
       " 0.3955540359020233,\n",
       " 0.37288713455200195,\n",
       " 0.29877904057502747,\n",
       " 0.4693322479724884,\n",
       " 0.42395731806755066,\n",
       " 0.34260624647140503,\n",
       " 0.3759709596633911,\n",
       " 0.3814307451248169,\n",
       " 0.31081581115722656,\n",
       " 0.47648313641548157,\n",
       " 0.3116188645362854,\n",
       " 0.3785037398338318,\n",
       " 0.2858547270298004,\n",
       " 0.4709146320819855,\n",
       " 0.3149295449256897,\n",
       " 0.40284180641174316,\n",
       " 0.3511735796928406,\n",
       " 0.32406941056251526,\n",
       " 0.4055706262588501,\n",
       " 0.22583600878715515,\n",
       " 0.3426554501056671,\n",
       " 0.3303104043006897,\n",
       " 0.3966134190559387,\n",
       " 0.4084607660770416,\n",
       " 0.3378535211086273,\n",
       " 0.23077638447284698,\n",
       " 0.48973196744918823,\n",
       " 0.4617040157318115,\n",
       " 0.37033969163894653,\n",
       " 0.25528019666671753,\n",
       " 0.40266042947769165,\n",
       " 0.4036918580532074,\n",
       " 0.36367061734199524,\n",
       " 0.33137625455856323,\n",
       " 0.38551872968673706,\n",
       " 0.44410645961761475,\n",
       " 0.31597569584846497,\n",
       " 0.44311249256134033,\n",
       " 0.3985139727592468,\n",
       " 0.36302947998046875,\n",
       " 0.2661837935447693,\n",
       " 0.4470689296722412,\n",
       " 0.4802889823913574,\n",
       " 0.26256197690963745,\n",
       " 0.334806889295578,\n",
       " 0.4549087584018707,\n",
       " 0.3779931962490082,\n",
       " 0.5187098979949951,\n",
       " 0.3030691146850586,\n",
       " 0.41364896297454834,\n",
       " 0.3438533544540405,\n",
       " 0.40481626987457275,\n",
       " 0.46828755736351013,\n",
       " 0.32681962847709656,\n",
       " 0.41461241245269775,\n",
       " 0.39313942193984985,\n",
       " 0.40441006422042847,\n",
       " 0.40046170353889465,\n",
       " 0.33307090401649475,\n",
       " 0.29515546560287476,\n",
       " 0.37937211990356445,\n",
       " 0.38126346468925476,\n",
       " 0.3817167580127716,\n",
       " 0.4783608913421631,\n",
       " 0.4203289747238159,\n",
       " 0.26194578409194946,\n",
       " 0.2625542879104614,\n",
       " 0.38969874382019043,\n",
       " 0.5256979465484619,\n",
       " 0.4981846213340759,\n",
       " 0.347565233707428,\n",
       " 0.3703199625015259,\n",
       " 0.4697018563747406,\n",
       " 0.4037669897079468,\n",
       " 0.43144935369491577,\n",
       " 0.2757471799850464,\n",
       " 0.408538818359375,\n",
       " 0.5200042724609375,\n",
       " 0.2801407277584076,\n",
       " 0.44552987813949585,\n",
       " 0.22747236490249634,\n",
       " 0.42397868633270264,\n",
       " 0.26083090901374817,\n",
       " 0.2694469392299652,\n",
       " 0.3700065016746521,\n",
       " 0.46431490778923035,\n",
       " 0.4233723282814026,\n",
       " 0.44914868474006653,\n",
       " 0.504003643989563,\n",
       " 0.2687658667564392,\n",
       " 0.3391254246234894,\n",
       " 0.4479192793369293,\n",
       " 0.4337783753871918,\n",
       " 0.454080194234848,\n",
       " 0.34173858165740967,\n",
       " 0.4094592332839966,\n",
       " 0.3083542287349701,\n",
       " 0.393413245677948,\n",
       " 0.32958054542541504,\n",
       " 0.37182772159576416,\n",
       " 0.3722612261772156,\n",
       " 0.1798260360956192,\n",
       " 0.2529332637786865,\n",
       " 0.4325559735298157,\n",
       " 0.48945456743240356,\n",
       " 0.3672804832458496,\n",
       " 0.3587336540222168,\n",
       " 0.5127361416816711,\n",
       " 0.3073688745498657,\n",
       " 0.33191004395484924,\n",
       " 0.3830423355102539,\n",
       " 0.2836368978023529,\n",
       " 0.4452163577079773,\n",
       " 0.5512101054191589,\n",
       " 0.25250044465065,\n",
       " 0.591390073299408,\n",
       " 0.3537120223045349,\n",
       " 0.31988847255706787,\n",
       " 0.3963690400123596,\n",
       " 0.5388981103897095,\n",
       " 0.5370789766311646,\n",
       " 0.2688436806201935,\n",
       " 0.3295038044452667,\n",
       " 0.2533486485481262,\n",
       " 0.41787591576576233,\n",
       " 0.38754570484161377,\n",
       " 0.41664257645606995,\n",
       " 0.2953311800956726,\n",
       " 0.4727724492549896,\n",
       " 0.4323982000350952,\n",
       " 0.45488423109054565,\n",
       " 0.49720630049705505,\n",
       " 0.3247072994709015,\n",
       " 0.3717859387397766,\n",
       " 0.5365368723869324,\n",
       " 0.45569896697998047,\n",
       " 0.5396411418914795,\n",
       " 0.36470285058021545,\n",
       " 0.4138539135456085,\n",
       " 0.2839948534965515,\n",
       " 0.4746864438056946,\n",
       " 0.38134080171585083,\n",
       " 0.4305857717990875,\n",
       " 0.2920078635215759,\n",
       " 0.4294489026069641,\n",
       " 0.3700752556324005,\n",
       " 0.30480778217315674,\n",
       " 0.48926976323127747,\n",
       " 0.2659580707550049,\n",
       " 0.26133352518081665,\n",
       " 0.4091445207595825,\n",
       " 0.4684452712535858,\n",
       " 0.418781578540802,\n",
       " 0.5972026586532593,\n",
       " 0.49394482374191284,\n",
       " 0.4658694267272949,\n",
       " 0.40102532505989075,\n",
       " 0.5937979817390442,\n",
       " 0.3844853639602661,\n",
       " 0.4778190851211548,\n",
       " 0.3368228077888489,\n",
       " 0.4186059832572937,\n",
       " 0.3449617028236389,\n",
       " 0.3083209693431854,\n",
       " 0.3013693690299988,\n",
       " 0.2752782702445984,\n",
       " 0.47028276324272156,\n",
       " 0.3489282727241516,\n",
       " 0.5142602920532227,\n",
       " 0.3479006290435791,\n",
       " 0.1689450740814209,\n",
       " 0.40993836522102356,\n",
       " 0.286748468875885,\n",
       " 0.3908095061779022,\n",
       " 0.4206063151359558,\n",
       " 0.45736148953437805,\n",
       " 0.386502742767334,\n",
       " 0.2874811887741089,\n",
       " 0.43797188997268677,\n",
       " 0.2934415638446808,\n",
       " 0.35525116324424744,\n",
       " 0.29772892594337463,\n",
       " 0.38654229044914246,\n",
       " 0.38181713223457336,\n",
       " 0.5025463700294495,\n",
       " 0.39883843064308167,\n",
       " 0.4940231442451477,\n",
       " 0.22770342230796814,\n",
       " 0.41571101546287537,\n",
       " 0.2856479287147522,\n",
       " 0.3966452479362488,\n",
       " 0.46319639682769775,\n",
       " 0.5415678024291992,\n",
       " 0.45983031392097473,\n",
       " 0.3102361559867859,\n",
       " 0.4369700849056244,\n",
       " 0.41387590765953064,\n",
       " 0.5047444105148315,\n",
       " 0.40609973669052124,\n",
       " 0.3072217106819153,\n",
       " 0.3865744173526764,\n",
       " 0.36331284046173096,\n",
       " 0.4272823929786682,\n",
       " 0.3601017892360687,\n",
       " 0.27788519859313965,\n",
       " 0.4208519160747528,\n",
       " 0.33790361881256104,\n",
       " 0.35083115100860596,\n",
       " 0.3668634593486786,\n",
       " 0.2673676609992981,\n",
       " 0.4478835463523865,\n",
       " 0.5324304103851318,\n",
       " 0.4672110080718994,\n",
       " 0.4796965718269348,\n",
       " 0.30773431062698364,\n",
       " 0.4389472007751465,\n",
       " 0.3651866614818573,\n",
       " 0.40579280257225037,\n",
       " 0.2666645050048828,\n",
       " 0.44076213240623474,\n",
       " 0.43254542350769043,\n",
       " 0.36315682530403137,\n",
       " 0.4154244661331177,\n",
       " 0.5048945546150208,\n",
       " 0.38221701979637146,\n",
       " 0.41230660676956177,\n",
       " 0.380575031042099,\n",
       " 0.483484148979187,\n",
       " 0.37137365341186523,\n",
       " 0.4459812045097351,\n",
       " 0.31270644068717957,\n",
       " 0.5020534992218018,\n",
       " 0.3164907395839691,\n",
       " 0.5018202662467957,\n",
       " 0.5034101009368896,\n",
       " 0.4761889576911926,\n",
       " 0.30051636695861816,\n",
       " 0.29812467098236084,\n",
       " 0.3115009069442749,\n",
       " 0.4683825671672821,\n",
       " 0.290677011013031,\n",
       " 0.5395752191543579,\n",
       " 0.3100396990776062,\n",
       " 0.29217520356178284,\n",
       " 0.2626497149467468,\n",
       " 0.3419714570045471,\n",
       " 0.39158955216407776,\n",
       " 0.26036322116851807,\n",
       " 0.3622210621833801,\n",
       " 0.3643023669719696,\n",
       " 0.39752060174942017,\n",
       " 0.3775312900543213,\n",
       " 0.4879056215286255,\n",
       " 0.383819580078125,\n",
       " 0.36483925580978394,\n",
       " 0.2887566387653351,\n",
       " 0.3093453347682953,\n",
       " 0.42641937732696533,\n",
       " 0.25684261322021484,\n",
       " 0.3306707739830017,\n",
       " 0.5185469388961792,\n",
       " 0.42455214262008667,\n",
       " 0.4390491843223572,\n",
       " 0.3504849374294281,\n",
       " 0.31660887598991394,\n",
       " 0.3130221962928772,\n",
       " 0.36480551958084106,\n",
       " 0.4061988890171051,\n",
       " 0.3930968940258026,\n",
       " 0.3301734924316406,\n",
       " 0.3558376431465149,\n",
       " 0.44968682527542114,\n",
       " 0.389649897813797,\n",
       " 0.39940330386161804,\n",
       " 0.3299413323402405,\n",
       " 0.38270342350006104,\n",
       " 0.4279510974884033,\n",
       " 0.3104691803455353,\n",
       " 0.32265859842300415,\n",
       " 0.32683032751083374,\n",
       " 0.2722480893135071,\n",
       " 0.2351994812488556,\n",
       " 0.34350329637527466,\n",
       " 0.5091989040374756,\n",
       " 0.35009315609931946,\n",
       " 0.43511390686035156,\n",
       " 0.40125519037246704,\n",
       " 0.47701990604400635,\n",
       " 0.3547726273536682,\n",
       " 0.3166014552116394,\n",
       " 0.4247610569000244,\n",
       " 0.5546376705169678,\n",
       " 0.35825440287590027,\n",
       " 0.2477397918701172,\n",
       " 0.29112181067466736,\n",
       " 0.37923890352249146,\n",
       " 0.25025853514671326,\n",
       " 0.42216119170188904,\n",
       " 0.5561780333518982,\n",
       " 0.42333000898361206,\n",
       " 0.4643953740596771,\n",
       " 0.32943347096443176,\n",
       " 0.3963202238082886,\n",
       " 0.41299548745155334,\n",
       " 0.4071308374404907,\n",
       " 0.37299758195877075,\n",
       " 0.4408622980117798,\n",
       " 0.21745163202285767,\n",
       " 0.43003901839256287,\n",
       " 0.3087441623210907,\n",
       " 0.44222256541252136,\n",
       " 0.50775146484375,\n",
       " 0.3484117090702057,\n",
       " 0.4108133316040039,\n",
       " 0.3738383650779724,\n",
       " 0.4511037766933441,\n",
       " 0.39060643315315247,\n",
       " 0.3999916613101959,\n",
       " 0.47344493865966797,\n",
       " 0.4173491299152374,\n",
       " 0.36304616928100586,\n",
       " 0.5163400173187256,\n",
       " 0.3030758500099182,\n",
       " 0.3618774712085724,\n",
       " 0.30932632088661194,\n",
       " 0.3055954575538635,\n",
       " 0.636283278465271,\n",
       " 0.35936999320983887,\n",
       " 0.33098453283309937,\n",
       " 0.4121350646018982,\n",
       " 0.3466653823852539,\n",
       " 0.28028666973114014,\n",
       " 0.4122875928878784,\n",
       " 0.45054349303245544,\n",
       " 0.5239896178245544,\n",
       " 0.29131844639778137,\n",
       " 0.45568156242370605,\n",
       " 0.40101873874664307,\n",
       " 0.43941324949264526,\n",
       " 0.2812488377094269,\n",
       " 0.2701709270477295,\n",
       " 0.5734285116195679,\n",
       " 0.38851338624954224,\n",
       " 0.4113045334815979,\n",
       " 0.4458537697792053,\n",
       " 0.40573909878730774,\n",
       " 0.2020445168018341,\n",
       " 0.3019687831401825,\n",
       " 0.1946100890636444,\n",
       " 0.28284046053886414,\n",
       " 0.40579691529273987,\n",
       " 0.3906269669532776,\n",
       " 0.521291196346283,\n",
       " 0.3642820417881012,\n",
       " 0.43120628595352173,\n",
       " 0.3622533082962036,\n",
       " 0.341818630695343,\n",
       " 0.41858863830566406,\n",
       " 0.33277493715286255,\n",
       " 0.5713887214660645,\n",
       " 0.3751806616783142,\n",
       " 0.35447266697883606,\n",
       " 0.4050496220588684,\n",
       " 0.4474109709262848,\n",
       " 0.32286596298217773,\n",
       " 0.3327060043811798,\n",
       " 0.345065712928772,\n",
       " 0.38377320766448975,\n",
       " 0.40862226486206055,\n",
       " 0.46281492710113525,\n",
       " 0.268361896276474,\n",
       " 0.3885550796985626,\n",
       " 0.3581690788269043,\n",
       " 0.40099480748176575,\n",
       " 0.44547945261001587,\n",
       " 0.3491057753562927,\n",
       " 0.3271030783653259,\n",
       " 0.5496352314949036,\n",
       " 0.47493475675582886,\n",
       " 0.37267547845840454,\n",
       " 0.28448861837387085,\n",
       " 0.44081681966781616,\n",
       " 0.4362468719482422,\n",
       " 0.3455551862716675,\n",
       " 0.4043998122215271,\n",
       " 0.5037502646446228,\n",
       " 0.3652288317680359,\n",
       " 0.2982577979564667,\n",
       " 0.5014309883117676,\n",
       " 0.2956583499908447,\n",
       " 0.27401524782180786,\n",
       " 0.44984638690948486,\n",
       " 0.3315085172653198,\n",
       " 0.36961665749549866,\n",
       " 0.3082331418991089,\n",
       " 0.3445531129837036,\n",
       " 0.3653639554977417,\n",
       " 0.345109760761261,\n",
       " 0.5236911773681641,\n",
       " 0.2756281793117523,\n",
       " 0.3350743055343628,\n",
       " 0.34846603870391846,\n",
       " 0.4287945628166199,\n",
       " 0.5519192814826965,\n",
       " 0.42393240332603455,\n",
       " 0.4149116277694702,\n",
       " 0.5193390846252441,\n",
       " 0.5239602327346802,\n",
       " 0.3352699875831604,\n",
       " 0.3600764274597168,\n",
       " 0.6831318140029907,\n",
       " 0.2817859649658203,\n",
       " 0.31812015175819397,\n",
       " 0.3507390022277832,\n",
       " 0.5534144639968872,\n",
       " 0.43019527196884155,\n",
       " 0.42893633246421814,\n",
       " 0.2183780074119568,\n",
       " 0.3581196665763855,\n",
       " 0.3935074508190155,\n",
       " 0.45434510707855225,\n",
       " 0.44482728838920593,\n",
       " 0.3349493741989136,\n",
       " 0.5891700387001038,\n",
       " 0.31076809763908386,\n",
       " 0.4097975194454193,\n",
       " 0.3645267188549042,\n",
       " 0.27232638001441956,\n",
       " 0.3208323121070862,\n",
       " 0.4444989860057831,\n",
       " 0.3570979833602905,\n",
       " 0.4261782765388489,\n",
       " 0.29632169008255005,\n",
       " 0.5595219135284424,\n",
       " 0.30643215775489807,\n",
       " 0.39751651883125305,\n",
       " 0.483562707901001,\n",
       " 0.3330707848072052,\n",
       " 0.48191094398498535,\n",
       " 0.3356037139892578,\n",
       " 0.4986973702907562,\n",
       " 0.37870436906814575,\n",
       " 0.4203373193740845,\n",
       " 0.3052551746368408,\n",
       " 0.3274908661842346,\n",
       " 0.25845828652381897,\n",
       " 0.362090528011322,\n",
       " 0.512227475643158,\n",
       " 0.36935731768608093,\n",
       " 0.3792305588722229,\n",
       " 0.28654414415359497,\n",
       " 0.37514781951904297,\n",
       " 0.48148635029792786,\n",
       " 0.5055925846099854,\n",
       " 0.3987586200237274,\n",
       " 0.3166499137878418,\n",
       " 0.30531468987464905,\n",
       " 0.4410478472709656,\n",
       " 0.432464063167572,\n",
       " 0.4833448529243469,\n",
       " 0.2305302619934082,\n",
       " 0.34287911653518677,\n",
       " 0.3222559094429016,\n",
       " 0.5132486820220947,\n",
       " 0.4565707743167877,\n",
       " 0.20189471542835236,\n",
       " 0.3732936978340149,\n",
       " 0.31218698620796204,\n",
       " 0.30976372957229614,\n",
       " 0.33186838030815125,\n",
       " 0.4295462667942047,\n",
       " 0.35685408115386963,\n",
       " 0.5495434403419495,\n",
       " 0.33237189054489136,\n",
       " 0.2662140130996704,\n",
       " 0.20902970433235168,\n",
       " 0.33418506383895874,\n",
       " 0.3528728783130646,\n",
       " 0.2475755214691162,\n",
       " 0.4218655824661255,\n",
       " 0.35700127482414246,\n",
       " 0.3503173589706421,\n",
       " 0.38169145584106445,\n",
       " 0.3312191069126129,\n",
       " 0.3687314987182617,\n",
       " 0.2838650345802307,\n",
       " 0.27696552872657776,\n",
       " 0.31115442514419556,\n",
       " 0.44370222091674805,\n",
       " 0.23607642948627472,\n",
       " 0.4310161769390106,\n",
       " 0.28321972489356995,\n",
       " 0.3666788339614868,\n",
       " 0.6079301238059998,\n",
       " 0.37913864850997925,\n",
       " 0.4027387797832489,\n",
       " 0.3150113821029663,\n",
       " 0.37392041087150574,\n",
       " 0.2605026662349701,\n",
       " 0.3243063688278198,\n",
       " 0.3607262074947357,\n",
       " 0.42081910371780396,\n",
       " 0.3710770606994629,\n",
       " 0.2825401723384857,\n",
       " 0.3122204840183258,\n",
       " 0.2814772129058838,\n",
       " 0.3707478642463684,\n",
       " 0.29438868165016174,\n",
       " 0.4328286945819855,\n",
       " 0.4646146893501282,\n",
       " 0.526738166809082,\n",
       " 0.2705937623977661,\n",
       " 0.36724331974983215,\n",
       " 0.38688981533050537,\n",
       " 0.3134475350379944,\n",
       " 0.4381271302700043,\n",
       " 0.28904756903648376,\n",
       " 0.28743231296539307,\n",
       " 0.32573309540748596,\n",
       " 0.41225552558898926,\n",
       " 0.3974284827709198,\n",
       " 0.5279873609542847,\n",
       " 0.40566539764404297,\n",
       " 0.3747383654117584,\n",
       " 0.36918723583221436,\n",
       " 0.4949428141117096,\n",
       " 0.4490967094898224,\n",
       " 0.2337985634803772,\n",
       " 0.4257909655570984,\n",
       " 0.45877623558044434,\n",
       " 0.6278691291809082,\n",
       " 0.4992849826812744,\n",
       " 0.3071388006210327,\n",
       " 0.2853642404079437,\n",
       " 0.4292035698890686,\n",
       " 0.3012605905532837,\n",
       " 0.4223717749118805,\n",
       " 0.23376868665218353,\n",
       " 0.36812180280685425,\n",
       " 0.3253835439682007,\n",
       " 0.4210112988948822,\n",
       " 0.2929717004299164,\n",
       " 0.388201504945755,\n",
       " 0.3464444577693939,\n",
       " 0.35860636830329895,\n",
       " 0.2991924583911896,\n",
       " 0.34102490544319153,\n",
       " 0.33720800280570984,\n",
       " 0.3324534296989441,\n",
       " 0.43401533365249634,\n",
       " 0.4226529896259308,\n",
       " 0.27044209837913513,\n",
       " 0.2523101568222046,\n",
       " 0.38661977648735046,\n",
       " 0.3078257739543915,\n",
       " 0.41907799243927,\n",
       " 0.32211726903915405,\n",
       " 0.5062159299850464,\n",
       " 0.4322831630706787,\n",
       " 0.45142731070518494,\n",
       " 0.42464447021484375,\n",
       " 0.4174075126647949,\n",
       " 0.4533097743988037,\n",
       " 0.3364095091819763,\n",
       " 0.5317463874816895,\n",
       " 0.42147985100746155,\n",
       " 0.3629140555858612,\n",
       " 0.38209402561187744,\n",
       " 0.36225825548171997,\n",
       " 0.4316449761390686,\n",
       " 0.41168826818466187,\n",
       " 0.4753929376602173,\n",
       " 0.31597182154655457,\n",
       " 0.5059336423873901,\n",
       " 0.2759409546852112,\n",
       " 0.4671699106693268,\n",
       " 0.3151280879974365,\n",
       " 0.5092659592628479,\n",
       " 0.4009527266025543,\n",
       " 0.5164666175842285,\n",
       " 0.3896728754043579,\n",
       " 0.3533651828765869,\n",
       " 0.34753021597862244,\n",
       " 0.36408448219299316,\n",
       " 0.35036492347717285,\n",
       " 0.48841172456741333,\n",
       " 0.36608731746673584,\n",
       " 0.47011345624923706,\n",
       " 0.32627081871032715,\n",
       " 0.4550843834877014,\n",
       " 0.38350874185562134,\n",
       " 0.3048191964626312,\n",
       " 0.5273423790931702,\n",
       " 0.4212094247341156,\n",
       " 0.24377653002738953,\n",
       " 0.38136032223701477,\n",
       " 0.34796738624572754,\n",
       " 0.48657023906707764,\n",
       " 0.4525725543498993,\n",
       " 0.28406623005867004,\n",
       " 0.41222667694091797,\n",
       " 0.44320836663246155,\n",
       " 0.46640142798423767,\n",
       " 0.44222307205200195,\n",
       " 0.49454283714294434,\n",
       " 0.40719491243362427,\n",
       " 0.3398183584213257,\n",
       " 0.3849097192287445,\n",
       " 0.5460844039916992,\n",
       " 0.3363106846809387,\n",
       " 0.39313000440597534,\n",
       " 0.3560677468776703,\n",
       " 0.5946303606033325,\n",
       " 0.2688295543193817,\n",
       " 0.36298689246177673,\n",
       " 0.4628552198410034,\n",
       " 0.46771979331970215,\n",
       " 0.3267166316509247,\n",
       " 0.34934207797050476,\n",
       " 0.3488776683807373,\n",
       " 0.33879509568214417,\n",
       " 0.3020826280117035,\n",
       " 0.23183657228946686,\n",
       " 0.6065573692321777,\n",
       " 0.2826586961746216,\n",
       " 0.3862614929676056,\n",
       " 0.44801822304725647,\n",
       " 0.3339359760284424,\n",
       " 0.2486088126897812,\n",
       " 0.4786376953125,\n",
       " 0.27297136187553406,\n",
       " 0.3301181197166443,\n",
       " 0.37261176109313965,\n",
       " 0.41726231575012207,\n",
       " 0.36503294110298157,\n",
       " 0.32845619320869446,\n",
       " ...]"
      ]
     },
     "execution_count": 99,
     "metadata": {},
     "output_type": "execute_result"
    }
   ],
   "source": [
    "fit(model, optimizer, dl_train, dl_val, history, epochs=5)"
   ]
  },
  {
   "cell_type": "code",
   "execution_count": 100,
   "id": "f18e06c1-bba2-48c9-83e6-52b83e43a804",
   "metadata": {},
   "outputs": [
    {
     "data": {
      "text/plain": [
       "<Axes: >"
      ]
     },
     "execution_count": 100,
     "metadata": {},
     "output_type": "execute_result"
    },
    {
     "data": {
      "image/png": "[encoded data removed]",
      "text/plain": [
       "<Figure size 640x480 with 1 Axes>"
      ]
     },
     "metadata": {},
     "output_type": "display_data"
    }
   ],
   "source": [
    "pd.DataFrame(history).plot()"
   ]
  },
  {
   "cell_type": "markdown",
   "id": "991ef599-b092-4f25-922a-65afc4f0d532",
   "metadata": {},
   "source": [
    "## Evaluate performance"
   ]
  },
  {
   "cell_type": "code",
   "execution_count": 101,
   "id": "6eb88769-e64d-4c9c-a2c3-e5a68b9a3df4",
   "metadata": {},
   "outputs": [],
   "source": [
    "test_url = \"https://syncandshare.lrz.de/dl/fiCvcfkzFWUFcBnToTjEVM/test_100k.npz\""
   ]
  },
  {
   "cell_type": "code",
   "execution_count": 102,
   "id": "74204487-e098-4107-876f-43770defbaf7",
   "metadata": {},
   "outputs": [],
   "source": [
    "arrays_test, y_test = load(test_url)"
   ]
  },
  {
   "cell_type": "code",
   "execution_count": 103,
   "id": "1c7213c7-9580-4a6f-a043-8674ec210b3a",
   "metadata": {},
   "outputs": [],
   "source": [
    "def evaluate(model, dl):\n",
    "    y_pred = []\n",
    "    model.eval()\n",
    "    for batch in tqdm(dl):\n",
    "        with torch.no_grad():\n",
    "            # don't forget to apply sigmoid, as it's not in the model\n",
    "            y_pred.append(model(batch[\"x\"], mask=batch[\"mask\"]).sigmoid().squeeze(1))\n",
    "    return torch.cat(y_pred)"
   ]
  },
  {
   "cell_type": "code",
   "execution_count": 104,
   "id": "39d3c114-e8a6-4c02-973c-966e299c6db0",
   "metadata": {},
   "outputs": [],
   "source": [
    "ds_test = Dataset(arrays_test, y_test)"
   ]
  },
  {
   "cell_type": "code",
   "execution_count": 105,
   "id": "9c342261-943f-4dec-901c-d25b56f0097d",
   "metadata": {},
   "outputs": [
    {
     "data": {
      "application/vnd.jupyter.widget-view+json": {
       "model_id": "5edd86c3b15e4c65b2f7f1e88c5b25fa",
       "version_major": 2,
       "version_minor": 0
      },
      "text/plain": [
       "  0%|          | 0/3125 [00:00<?, ?it/s]"
      ]
     },
     "metadata": {},
     "output_type": "display_data"
    }
   ],
   "source": [
    "y_pred = evaluate(model, DataLoader(ds_test, batch_size=32, collate_fn=collate_fn))"
   ]
  },
  {
   "cell_type": "code",
   "execution_count": 106,
   "id": "7590e1be-99ed-4281-aa8b-e99961a39848",
   "metadata": {},
   "outputs": [],
   "source": [
    "from sklearn.metrics import roc_curve, auc"
   ]
  },
  {
   "cell_type": "code",
   "execution_count": 110,
   "id": "2e1f75b1-5043-4f5d-99fb-1afe2e616304",
   "metadata": {},
   "outputs": [],
   "source": [
    "fpr, tpr, thr = roc_curve(y_test, y_pred.numpy())"
   ]
  },
  {
   "cell_type": "code",
   "execution_count": 111,
   "id": "ffa91ab0-dc79-4222-9649-f0adff6e9a2f",
   "metadata": {},
   "outputs": [
    {
     "data": {
      "text/plain": [
       "0.9046506251952504"
      ]
     },
     "execution_count": 111,
     "metadata": {},
     "output_type": "execute_result"
    },
    {
     "data": {
      "image/png": "[encoded data removed]",
      "text/plain": [
       "<Figure size 640x480 with 1 Axes>"
      ]
     },
     "metadata": {},
     "output_type": "display_data"
    }
   ],
   "source": [
    "plt.plot(fpr, tpr)\n",
    "auc(fpr, tpr)"
   ]
  },
  {
   "cell_type": "code",
   "execution_count": 112,
   "id": "84aa8a5a-d10b-4212-9185-6edd6b30586e",
   "metadata": {},
   "outputs": [
    {
     "name": "stderr",
     "output_type": "stream",
     "text": [
      "C:\\Users\\maxge\\AppData\\Local\\Temp\\ipykernel_7280\\1269438745.py:1: RuntimeWarning: divide by zero encountered in divide\n",
      "  plt.plot(tpr, 1 / fpr)\n",
      "C:\\Users\\maxge\\AppData\\Local\\Temp\\ipykernel_7280\\1269438745.py:3: RuntimeWarning: divide by zero encountered in divide\n",
      "  (1 / fpr)[tpr>0.3].max()\n"
     ]
    },
    {
     "data": {
      "text/plain": [
       "27.954671088999447"
      ]
     },
     "execution_count": 112,
     "metadata": {},
     "output_type": "execute_result"
    },
    {
     "data": {
      "image/png": "[encoded data removed]",
      "text/plain": [
       "<Figure size 640x480 with 1 Axes>"
      ]
     },
     "metadata": {},
     "output_type": "display_data"
    }
   ],
   "source": [
    "plt.plot(tpr, 1 / fpr)\n",
    "plt.yscale(\"log\")\n",
    "(1 / fpr)[tpr>0.3].max()"
   ]
  },
  {
   "cell_type": "markdown",
   "id": "96b3862f-aa24-4416-a28c-4fb1f4243bd6",
   "metadata": {},
   "source": [
    "<div class=\"alert alert-block alert-success\">\n",
    "<h2>Exercise 2 (extra): modify the model</h2>\n",
    "You can now try to modify the model, e.g.\n",
    "\n",
    "- Add a Dropout layer after the hidden layer (in the original implementation a rate of 0.05 is used)\n",
    "- Increase or reduce the number of parameters\n",
    "</div>"
   ]
  }
 ],
 "metadata": {
  "kernelspec": {
   "display_name": "Python 3 (ipykernel)",
   "language": "python",
   "name": "python3"
  },
  "language_info": {
   "codemirror_mode": {
    "name": "ipython",
    "version": 3
   },
   "file_extension": ".py",
   "mimetype": "text/x-python",
   "name": "python",
   "nbconvert_exporter": "python",
   "pygments_lexer": "ipython3",
   "version": "3.11.9"
  }
 },
 "nbformat": 4,
 "nbformat_minor": 5
}
