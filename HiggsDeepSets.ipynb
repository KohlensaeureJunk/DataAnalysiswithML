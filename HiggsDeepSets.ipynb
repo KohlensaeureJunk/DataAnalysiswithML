{
 "cells": [
  {
   "cell_type": "markdown",
   "id": "6a22b861-fc2f-4a0d-a8cd-78c0813c8d53",
   "metadata": {},
   "source": [
    "# Deep sets \n",
    "\n",
    "Notebook based on [DeepSetsAndGraphNetworks.ipynb from LMU course](https://github.com/fuenfundachtzig/LMU_DA_ML/blob/master/DeepSetsAndGraphNetworks.ipynb)\n",
    "\n",
    "The ML models we have looked at so far make the assumption that we have a fixed-dimensional vector of input features. In reality that might not always be the case. Some examples:\n",
    "\n",
    "* Sequences (text, audio, video)\n",
    "* Point clouds (e.g. points in 3D space)\n",
    "* Lists of objects (e.g. particles in a collision)\n",
    "* Graphs with different numbers of nodes and different numbers of connections for each node\n",
    "\n",
    "For sequences one approach are recurrent neural networks (RNNs) that utilize a state that gets updated as it iteratively processes input. However, these still need a defined ordering of the inputs and they have certain disadvantages (most prominently difficulty to model \"long-range\" correlations between inputs and difficulty to parallelize since they are sequential in nature).\n",
    "\n",
    "Another approach are models that apply **permutation invariant** transformations on the inputs. Both deep sets and graph networks make use of this. The nowadays (2023) also very popular [**transformers**](https://arxiv.org/abs/1706.03762) can be viewed as graph networks where all nodes are connected to each other.\n",
    "\n",
    "## Deep sets\n",
    "\n",
    "The simplest approach for a permutation invariant transformation is a **per-point transformation** ($\\phi$) followed by a **permutation invariant aggregation**, typically taking the sum/mean or min/max whose output can then be transformed ($\\rho$) by any means, e.g. another MLP.\n",
    "\n",
    "![](figures/deep_set_transformation.png)\n",
    "\n",
    "See [arXiv:1703.06114](https://arxiv.org/abs/1703.06114) for a detailed discussion.\n",
    "\n",
    "\n",
    "### Application to jets in Higgs dataset\n",
    "\n",
    "Remember the missing values in the dataset for the [HiggsChallenge](HiggsChallenge.ipynb)? Those occurred since we had a non-fixed length list of jets in each event (0, 1 or 2). Maybe we can embed the jets into a fixed length vector using a permutation invariant transformation."
   ]
  },
  {
   "cell_type": "code",
   "execution_count": 1,
   "id": "7cbc7889-701f-4752-8909-91e59b083552",
   "metadata": {
    "tags": []
   },
   "outputs": [],
   "source": [
    "import pandas as pd\n",
    "import numpy as np\n",
    "import matplotlib.pyplot as plt\n",
    "from sklearn.preprocessing import RobustScaler\n",
    "from sklearn.model_selection import train_test_split\n",
    "import tensorflow as tf\n",
    "from tensorflow.keras.layers import Dense, Input, GlobalAveragePooling1D, Masking\n",
    "from tensorflow.keras.callbacks import History\n",
    "\n",
    "\n",
    "\n",
    "from pathlib import Path\n",
    "import urllib"
   ]
  },
  {
   "cell_type": "code",
   "execution_count": 2,
   "id": "8104ed0d-1f7f-4629-b31e-ad0bec71b756",
   "metadata": {
    "tags": []
   },
   "outputs": [],
   "source": [
    "path = Path(\"atlas-higgs-challenge-2014-v2.csv.gz\")\n",
    "\n",
    "def prepare_data(path):\n",
    "    if path.exists():\n",
    "        return\n",
    "    url = \"http://opendata.cern.ch/record/328/files/atlas-higgs-challenge-2014-v2.csv.gz\"\n",
    "    path_prev_tutorial = Path(\"../05-validation-and-metrics\") / path\n",
    "    if path_prev_tutorial.exists():\n",
    "        path.symlink_to(path_prev_tutorial)\n",
    "    if not path.exists():\n",
    "        urllib.request.urlretrieve(url, path)\n",
    "\n",
    "prepare_data(path)\n",
    "\n",
    "df = pd.read_csv(path)"
   ]
  },
  {
   "cell_type": "code",
   "execution_count": 3,
   "id": "ff98d8b8-bbc2-4c0f-bbfc-98dced5c512f",
   "metadata": {
    "tags": []
   },
   "outputs": [],
   "source": [
    "n_sig_tot = df[\"Weight\"][df.Label == \"s\"].sum()\n",
    "n_bkg_tot = df[\"Weight\"][df.Label == \"b\"].sum()\n",
    "# comment this out if you want to run on the full dataset\n",
    "df = df.sample(frac=0.3)"
   ]
  },
  {
   "cell_type": "code",
   "execution_count": 4,
   "id": "245473ee-40d2-4c33-b630-61a1d68a528d",
   "metadata": {
    "tags": []
   },
   "outputs": [
    {
     "data": {
      "text/plain": [
       "Index(['EventId', 'DER_mass_MMC', 'DER_mass_transverse_met_lep',\n",
       "       'DER_mass_vis', 'DER_pt_h', 'DER_deltaeta_jet_jet', 'DER_mass_jet_jet',\n",
       "       'DER_prodeta_jet_jet', 'DER_deltar_tau_lep', 'DER_pt_tot', 'DER_sum_pt',\n",
       "       'DER_pt_ratio_lep_tau', 'DER_met_phi_centrality',\n",
       "       'DER_lep_eta_centrality', 'PRI_tau_pt', 'PRI_tau_eta', 'PRI_tau_phi',\n",
       "       'PRI_lep_pt', 'PRI_lep_eta', 'PRI_lep_phi', 'PRI_met', 'PRI_met_phi',\n",
       "       'PRI_met_sumet', 'PRI_jet_num', 'PRI_jet_leading_pt',\n",
       "       'PRI_jet_leading_eta', 'PRI_jet_leading_phi', 'PRI_jet_subleading_pt',\n",
       "       'PRI_jet_subleading_eta', 'PRI_jet_subleading_phi', 'PRI_jet_all_pt',\n",
       "       'Weight', 'Label', 'KaggleSet', 'KaggleWeight'],\n",
       "      dtype='object')"
      ]
     },
     "execution_count": 4,
     "metadata": {},
     "output_type": "execute_result"
    }
   ],
   "source": [
    "df.columns"
   ]
  },
  {
   "cell_type": "markdown",
   "id": "2f847742-6b7d-4c5c-8884-55bcd33f3810",
   "metadata": {},
   "source": [
    "First, we separate the jet features and other features:"
   ]
  },
  {
   "cell_type": "code",
   "execution_count": 5,
   "id": "0c2220d1-bf1a-4c08-8497-65b4904c8ee6",
   "metadata": {
    "tags": []
   },
   "outputs": [
    {
     "data": {
      "text/plain": [
       "['PRI_jet_leading_pt',\n",
       " 'PRI_jet_leading_eta',\n",
       " 'PRI_jet_leading_phi',\n",
       " 'PRI_jet_subleading_pt',\n",
       " 'PRI_jet_subleading_eta',\n",
       " 'PRI_jet_subleading_phi']"
      ]
     },
     "execution_count": 5,
     "metadata": {},
     "output_type": "execute_result"
    }
   ],
   "source": [
    "jet_cols = sum([[f\"PRI_{obj}_{field}\" for field in [\"pt\", \"eta\", \"phi\"]] for obj in [\"jet_leading\", \"jet_subleading\"]], [])\n",
    "jet_cols"
   ]
  },
  {
   "cell_type": "markdown",
   "id": "51009147-4bf2-4848-8662-a688f23f150c",
   "metadata": {},
   "source": [
    "We also exclude variables that are derived from the jets:"
   ]
  },
  {
   "cell_type": "code",
   "execution_count": 6,
   "id": "494d4758-7d2f-4e99-93a5-4c821f18ed31",
   "metadata": {
    "tags": []
   },
   "outputs": [],
   "source": [
    "excluded_cols = ['DER_deltaeta_jet_jet', 'DER_mass_jet_jet', 'DER_prodeta_jet_jet', 'DER_lep_eta_centrality']"
   ]
  },
  {
   "cell_type": "code",
   "execution_count": 7,
   "id": "da48e87a-94fc-4533-bf86-b46b456bfaa8",
   "metadata": {
    "tags": []
   },
   "outputs": [
    {
     "data": {
      "text/plain": [
       "['DER_mass_MMC',\n",
       " 'DER_mass_transverse_met_lep',\n",
       " 'DER_mass_vis',\n",
       " 'DER_pt_h',\n",
       " 'DER_deltar_tau_lep',\n",
       " 'DER_pt_tot',\n",
       " 'DER_sum_pt',\n",
       " 'DER_pt_ratio_lep_tau',\n",
       " 'DER_met_phi_centrality',\n",
       " 'PRI_tau_pt',\n",
       " 'PRI_tau_eta',\n",
       " 'PRI_tau_phi',\n",
       " 'PRI_lep_pt',\n",
       " 'PRI_lep_eta',\n",
       " 'PRI_lep_phi',\n",
       " 'PRI_met',\n",
       " 'PRI_met_phi',\n",
       " 'PRI_met_sumet',\n",
       " 'PRI_jet_num',\n",
       " 'PRI_jet_all_pt']"
      ]
     },
     "execution_count": 7,
     "metadata": {},
     "output_type": "execute_result"
    }
   ],
   "source": [
    "other_cols = [col for col in df.columns if (col.startswith(\"PRI\") or col.startswith(\"DER\")) and col not in jet_cols and not col in excluded_cols]\n",
    "other_cols"
   ]
  },
  {
   "cell_type": "markdown",
   "id": "5dcf5635-eee9-4310-9d76-73d7c9b312e4",
   "metadata": {},
   "source": [
    "We will make the jet features a 3-D array of shape `(nevents, max_njets, n_jet_features)`"
   ]
  },
  {
   "cell_type": "code",
   "execution_count": 9,
   "id": "293a7e61-d1de-4bdc-8615-18888bafe228",
   "metadata": {
    "tags": []
   },
   "outputs": [
    {
     "data": {
      "text/plain": [
       "(245471, 2, 3)"
      ]
     },
     "execution_count": 9,
     "metadata": {},
     "output_type": "execute_result"
    }
   ],
   "source": [
    "X_jet = df[jet_cols].to_numpy().reshape(-1, 2, 3)\n",
    "X_jet.shape"
   ]
  },
  {
   "cell_type": "markdown",
   "id": "74f36fca-4a81-4201-bb32-c3a33d213a48",
   "metadata": {},
   "source": [
    "The rest of the features just stays a 2-D array as usual:"
   ]
  },
  {
   "cell_type": "code",
   "execution_count": 10,
   "id": "df3fa2a0-ac99-4a65-898d-5b8186ecce89",
   "metadata": {
    "tags": []
   },
   "outputs": [
    {
     "data": {
      "text/plain": [
       "(245471, 20)"
      ]
     },
     "execution_count": 10,
     "metadata": {},
     "output_type": "execute_result"
    }
   ],
   "source": [
    "X_other = df[other_cols].to_numpy()\n",
    "X_other.shape"
   ]
  },
  {
   "cell_type": "markdown",
   "id": "6f8d79c2-9788-4ecc-b596-182edb3eea80",
   "metadata": {},
   "source": [
    "Still we need to replace missing values by 0 which can occur for the quantity `DER_mass_MMC`"
   ]
  },
  {
   "cell_type": "code",
   "execution_count": 11,
   "id": "6bf364f5-bc2e-47e8-8ddf-c34c250c9a04",
   "metadata": {
    "tags": []
   },
   "outputs": [],
   "source": [
    "X_other[X_other == -999] = 0"
   ]
  },
  {
   "cell_type": "code",
   "execution_count": 12,
   "id": "c5b17cb8-10cf-46de-88ff-da00c24f4c3a",
   "metadata": {
    "tags": []
   },
   "outputs": [],
   "source": [
    "y = (df.Label == \"s\").to_numpy()\n",
    "weight = df['Weight'].to_numpy()"
   ]
  },
  {
   "cell_type": "code",
   "execution_count": 13,
   "id": "36cfd999-fd16-4294-b540-83ff4a5dc4de",
   "metadata": {
    "tags": []
   },
   "outputs": [],
   "source": [
    "(\n",
    "    X_jet_train, X_jet_test,\n",
    "    X_other_train, X_other_test,\n",
    "    y_train, y_test,\n",
    "    weight_train, weight_test,\n",
    ") = train_test_split(X_jet, X_other, y, weight)"
   ]
  },
  {
   "cell_type": "markdown",
   "id": "7947b1c2-aec6-4b36-acc3-eeee6c3f261c",
   "metadata": {},
   "source": [
    "Now, let's scale the features. \n",
    "\n",
    "For the jets we have to be a bit careful only to consider non-missing values in the scaling. Also the scikit-learn scalers can only deal with 2D arrays - so we need to define a custom scaler:"
   ]
  },
  {
   "cell_type": "code",
   "execution_count": 14,
   "id": "f56e4d37-3a2f-481b-a94d-17da73b578b6",
   "metadata": {
    "tags": []
   },
   "outputs": [],
   "source": [
    "class JetScaler:\n",
    "    def __init__(self, mask_value=-999):\n",
    "        self.mask_value = mask_value\n",
    "        self.scaler = RobustScaler()\n",
    "    \n",
    "    def fill_nan(self, X):\n",
    "        \"replace missing values by nan\"\n",
    "        X[(X == self.mask_value).all(axis=-1)] = np.nan\n",
    "        \n",
    "    def fit(self, X):\n",
    "        X = np.array(X) # copy\n",
    "        self.fill_nan(X)\n",
    "        X = X.reshape(-1, X.shape[-1]) # make 2D\n",
    "        self.scaler.fit(X)\n",
    "        \n",
    "    def transform(self, X):\n",
    "        orig_shape = X.shape\n",
    "        X = np.array(X).reshape(-1, X.shape[-1])\n",
    "        self.fill_nan(X)\n",
    "        X = self.scaler.transform(X)\n",
    "        X = np.nan_to_num(X, 0) # replace missing values by 0\n",
    "        return X.reshape(*orig_shape) # turn back into 3D"
   ]
  },
  {
   "cell_type": "code",
   "execution_count": 15,
   "id": "13e47e0d-3bdb-4898-b04f-de4a1b47e125",
   "metadata": {
    "tags": []
   },
   "outputs": [],
   "source": [
    "jet_scaler = JetScaler()\n",
    "jet_scaler.fit(X_jet_train)"
   ]
  },
  {
   "cell_type": "code",
   "execution_count": 16,
   "id": "6f100494-e26b-40b3-8606-932277a5fb4f",
   "metadata": {
    "tags": []
   },
   "outputs": [],
   "source": [
    "X_jet_train_scaled = jet_scaler.transform(X_jet_train)"
   ]
  },
  {
   "cell_type": "code",
   "execution_count": 17,
   "id": "f8b57a3a-6c19-42ed-a0a7-f61a4dfcbbe7",
   "metadata": {
    "tags": []
   },
   "outputs": [
    {
     "data": {
      "text/html": [
       "<style>#sk-container-id-1 {\n",
       "  /* Definition of color scheme common for light and dark mode */\n",
       "  --sklearn-color-text: black;\n",
       "  --sklearn-color-line: gray;\n",
       "  /* Definition of color scheme for unfitted estimators */\n",
       "  --sklearn-color-unfitted-level-0: #fff5e6;\n",
       "  --sklearn-color-unfitted-level-1: #f6e4d2;\n",
       "  --sklearn-color-unfitted-level-2: #ffe0b3;\n",
       "  --sklearn-color-unfitted-level-3: chocolate;\n",
       "  /* Definition of color scheme for fitted estimators */\n",
       "  --sklearn-color-fitted-level-0: #f0f8ff;\n",
       "  --sklearn-color-fitted-level-1: #d4ebff;\n",
       "  --sklearn-color-fitted-level-2: #b3dbfd;\n",
       "  --sklearn-color-fitted-level-3: cornflowerblue;\n",
       "\n",
       "  /* Specific color for light theme */\n",
       "  --sklearn-color-text-on-default-background: var(--sg-text-color, var(--theme-code-foreground, var(--jp-content-font-color1, black)));\n",
       "  --sklearn-color-background: var(--sg-background-color, var(--theme-background, var(--jp-layout-color0, white)));\n",
       "  --sklearn-color-border-box: var(--sg-text-color, var(--theme-code-foreground, var(--jp-content-font-color1, black)));\n",
       "  --sklearn-color-icon: #696969;\n",
       "\n",
       "  @media (prefers-color-scheme: dark) {\n",
       "    /* Redefinition of color scheme for dark theme */\n",
       "    --sklearn-color-text-on-default-background: var(--sg-text-color, var(--theme-code-foreground, var(--jp-content-font-color1, white)));\n",
       "    --sklearn-color-background: var(--sg-background-color, var(--theme-background, var(--jp-layout-color0, #111)));\n",
       "    --sklearn-color-border-box: var(--sg-text-color, var(--theme-code-foreground, var(--jp-content-font-color1, white)));\n",
       "    --sklearn-color-icon: #878787;\n",
       "  }\n",
       "}\n",
       "\n",
       "#sk-container-id-1 {\n",
       "  color: var(--sklearn-color-text);\n",
       "}\n",
       "\n",
       "#sk-container-id-1 pre {\n",
       "  padding: 0;\n",
       "}\n",
       "\n",
       "#sk-container-id-1 input.sk-hidden--visually {\n",
       "  border: 0;\n",
       "  clip: rect(1px 1px 1px 1px);\n",
       "  clip: rect(1px, 1px, 1px, 1px);\n",
       "  height: 1px;\n",
       "  margin: -1px;\n",
       "  overflow: hidden;\n",
       "  padding: 0;\n",
       "  position: absolute;\n",
       "  width: 1px;\n",
       "}\n",
       "\n",
       "#sk-container-id-1 div.sk-dashed-wrapped {\n",
       "  border: 1px dashed var(--sklearn-color-line);\n",
       "  margin: 0 0.4em 0.5em 0.4em;\n",
       "  box-sizing: border-box;\n",
       "  padding-bottom: 0.4em;\n",
       "  background-color: var(--sklearn-color-background);\n",
       "}\n",
       "\n",
       "#sk-container-id-1 div.sk-container {\n",
       "  /* jupyter's `normalize.less` sets `[hidden] { display: none; }`\n",
       "     but bootstrap.min.css set `[hidden] { display: none !important; }`\n",
       "     so we also need the `!important` here to be able to override the\n",
       "     default hidden behavior on the sphinx rendered scikit-learn.org.\n",
       "     See: https://github.com/scikit-learn/scikit-learn/issues/21755 */\n",
       "  display: inline-block !important;\n",
       "  position: relative;\n",
       "}\n",
       "\n",
       "#sk-container-id-1 div.sk-text-repr-fallback {\n",
       "  display: none;\n",
       "}\n",
       "\n",
       "div.sk-parallel-item,\n",
       "div.sk-serial,\n",
       "div.sk-item {\n",
       "  /* draw centered vertical line to link estimators */\n",
       "  background-image: linear-gradient(var(--sklearn-color-text-on-default-background), var(--sklearn-color-text-on-default-background));\n",
       "  background-size: 2px 100%;\n",
       "  background-repeat: no-repeat;\n",
       "  background-position: center center;\n",
       "}\n",
       "\n",
       "/* Parallel-specific style estimator block */\n",
       "\n",
       "#sk-container-id-1 div.sk-parallel-item::after {\n",
       "  content: \"\";\n",
       "  width: 100%;\n",
       "  border-bottom: 2px solid var(--sklearn-color-text-on-default-background);\n",
       "  flex-grow: 1;\n",
       "}\n",
       "\n",
       "#sk-container-id-1 div.sk-parallel {\n",
       "  display: flex;\n",
       "  align-items: stretch;\n",
       "  justify-content: center;\n",
       "  background-color: var(--sklearn-color-background);\n",
       "  position: relative;\n",
       "}\n",
       "\n",
       "#sk-container-id-1 div.sk-parallel-item {\n",
       "  display: flex;\n",
       "  flex-direction: column;\n",
       "}\n",
       "\n",
       "#sk-container-id-1 div.sk-parallel-item:first-child::after {\n",
       "  align-self: flex-end;\n",
       "  width: 50%;\n",
       "}\n",
       "\n",
       "#sk-container-id-1 div.sk-parallel-item:last-child::after {\n",
       "  align-self: flex-start;\n",
       "  width: 50%;\n",
       "}\n",
       "\n",
       "#sk-container-id-1 div.sk-parallel-item:only-child::after {\n",
       "  width: 0;\n",
       "}\n",
       "\n",
       "/* Serial-specific style estimator block */\n",
       "\n",
       "#sk-container-id-1 div.sk-serial {\n",
       "  display: flex;\n",
       "  flex-direction: column;\n",
       "  align-items: center;\n",
       "  background-color: var(--sklearn-color-background);\n",
       "  padding-right: 1em;\n",
       "  padding-left: 1em;\n",
       "}\n",
       "\n",
       "\n",
       "/* Toggleable style: style used for estimator/Pipeline/ColumnTransformer box that is\n",
       "clickable and can be expanded/collapsed.\n",
       "- Pipeline and ColumnTransformer use this feature and define the default style\n",
       "- Estimators will overwrite some part of the style using the `sk-estimator` class\n",
       "*/\n",
       "\n",
       "/* Pipeline and ColumnTransformer style (default) */\n",
       "\n",
       "#sk-container-id-1 div.sk-toggleable {\n",
       "  /* Default theme specific background. It is overwritten whether we have a\n",
       "  specific estimator or a Pipeline/ColumnTransformer */\n",
       "  background-color: var(--sklearn-color-background);\n",
       "}\n",
       "\n",
       "/* Toggleable label */\n",
       "#sk-container-id-1 label.sk-toggleable__label {\n",
       "  cursor: pointer;\n",
       "  display: block;\n",
       "  width: 100%;\n",
       "  margin-bottom: 0;\n",
       "  padding: 0.5em;\n",
       "  box-sizing: border-box;\n",
       "  text-align: center;\n",
       "}\n",
       "\n",
       "#sk-container-id-1 label.sk-toggleable__label-arrow:before {\n",
       "  /* Arrow on the left of the label */\n",
       "  content: \"▸\";\n",
       "  float: left;\n",
       "  margin-right: 0.25em;\n",
       "  color: var(--sklearn-color-icon);\n",
       "}\n",
       "\n",
       "#sk-container-id-1 label.sk-toggleable__label-arrow:hover:before {\n",
       "  color: var(--sklearn-color-text);\n",
       "}\n",
       "\n",
       "/* Toggleable content - dropdown */\n",
       "\n",
       "#sk-container-id-1 div.sk-toggleable__content {\n",
       "  max-height: 0;\n",
       "  max-width: 0;\n",
       "  overflow: hidden;\n",
       "  text-align: left;\n",
       "  /* unfitted */\n",
       "  background-color: var(--sklearn-color-unfitted-level-0);\n",
       "}\n",
       "\n",
       "#sk-container-id-1 div.sk-toggleable__content.fitted {\n",
       "  /* fitted */\n",
       "  background-color: var(--sklearn-color-fitted-level-0);\n",
       "}\n",
       "\n",
       "#sk-container-id-1 div.sk-toggleable__content pre {\n",
       "  margin: 0.2em;\n",
       "  border-radius: 0.25em;\n",
       "  color: var(--sklearn-color-text);\n",
       "  /* unfitted */\n",
       "  background-color: var(--sklearn-color-unfitted-level-0);\n",
       "}\n",
       "\n",
       "#sk-container-id-1 div.sk-toggleable__content.fitted pre {\n",
       "  /* unfitted */\n",
       "  background-color: var(--sklearn-color-fitted-level-0);\n",
       "}\n",
       "\n",
       "#sk-container-id-1 input.sk-toggleable__control:checked~div.sk-toggleable__content {\n",
       "  /* Expand drop-down */\n",
       "  max-height: 200px;\n",
       "  max-width: 100%;\n",
       "  overflow: auto;\n",
       "}\n",
       "\n",
       "#sk-container-id-1 input.sk-toggleable__control:checked~label.sk-toggleable__label-arrow:before {\n",
       "  content: \"▾\";\n",
       "}\n",
       "\n",
       "/* Pipeline/ColumnTransformer-specific style */\n",
       "\n",
       "#sk-container-id-1 div.sk-label input.sk-toggleable__control:checked~label.sk-toggleable__label {\n",
       "  color: var(--sklearn-color-text);\n",
       "  background-color: var(--sklearn-color-unfitted-level-2);\n",
       "}\n",
       "\n",
       "#sk-container-id-1 div.sk-label.fitted input.sk-toggleable__control:checked~label.sk-toggleable__label {\n",
       "  background-color: var(--sklearn-color-fitted-level-2);\n",
       "}\n",
       "\n",
       "/* Estimator-specific style */\n",
       "\n",
       "/* Colorize estimator box */\n",
       "#sk-container-id-1 div.sk-estimator input.sk-toggleable__control:checked~label.sk-toggleable__label {\n",
       "  /* unfitted */\n",
       "  background-color: var(--sklearn-color-unfitted-level-2);\n",
       "}\n",
       "\n",
       "#sk-container-id-1 div.sk-estimator.fitted input.sk-toggleable__control:checked~label.sk-toggleable__label {\n",
       "  /* fitted */\n",
       "  background-color: var(--sklearn-color-fitted-level-2);\n",
       "}\n",
       "\n",
       "#sk-container-id-1 div.sk-label label.sk-toggleable__label,\n",
       "#sk-container-id-1 div.sk-label label {\n",
       "  /* The background is the default theme color */\n",
       "  color: var(--sklearn-color-text-on-default-background);\n",
       "}\n",
       "\n",
       "/* On hover, darken the color of the background */\n",
       "#sk-container-id-1 div.sk-label:hover label.sk-toggleable__label {\n",
       "  color: var(--sklearn-color-text);\n",
       "  background-color: var(--sklearn-color-unfitted-level-2);\n",
       "}\n",
       "\n",
       "/* Label box, darken color on hover, fitted */\n",
       "#sk-container-id-1 div.sk-label.fitted:hover label.sk-toggleable__label.fitted {\n",
       "  color: var(--sklearn-color-text);\n",
       "  background-color: var(--sklearn-color-fitted-level-2);\n",
       "}\n",
       "\n",
       "/* Estimator label */\n",
       "\n",
       "#sk-container-id-1 div.sk-label label {\n",
       "  font-family: monospace;\n",
       "  font-weight: bold;\n",
       "  display: inline-block;\n",
       "  line-height: 1.2em;\n",
       "}\n",
       "\n",
       "#sk-container-id-1 div.sk-label-container {\n",
       "  text-align: center;\n",
       "}\n",
       "\n",
       "/* Estimator-specific */\n",
       "#sk-container-id-1 div.sk-estimator {\n",
       "  font-family: monospace;\n",
       "  border: 1px dotted var(--sklearn-color-border-box);\n",
       "  border-radius: 0.25em;\n",
       "  box-sizing: border-box;\n",
       "  margin-bottom: 0.5em;\n",
       "  /* unfitted */\n",
       "  background-color: var(--sklearn-color-unfitted-level-0);\n",
       "}\n",
       "\n",
       "#sk-container-id-1 div.sk-estimator.fitted {\n",
       "  /* fitted */\n",
       "  background-color: var(--sklearn-color-fitted-level-0);\n",
       "}\n",
       "\n",
       "/* on hover */\n",
       "#sk-container-id-1 div.sk-estimator:hover {\n",
       "  /* unfitted */\n",
       "  background-color: var(--sklearn-color-unfitted-level-2);\n",
       "}\n",
       "\n",
       "#sk-container-id-1 div.sk-estimator.fitted:hover {\n",
       "  /* fitted */\n",
       "  background-color: var(--sklearn-color-fitted-level-2);\n",
       "}\n",
       "\n",
       "/* Specification for estimator info (e.g. \"i\" and \"?\") */\n",
       "\n",
       "/* Common style for \"i\" and \"?\" */\n",
       "\n",
       ".sk-estimator-doc-link,\n",
       "a:link.sk-estimator-doc-link,\n",
       "a:visited.sk-estimator-doc-link {\n",
       "  float: right;\n",
       "  font-size: smaller;\n",
       "  line-height: 1em;\n",
       "  font-family: monospace;\n",
       "  background-color: var(--sklearn-color-background);\n",
       "  border-radius: 1em;\n",
       "  height: 1em;\n",
       "  width: 1em;\n",
       "  text-decoration: none !important;\n",
       "  margin-left: 1ex;\n",
       "  /* unfitted */\n",
       "  border: var(--sklearn-color-unfitted-level-1) 1pt solid;\n",
       "  color: var(--sklearn-color-unfitted-level-1);\n",
       "}\n",
       "\n",
       ".sk-estimator-doc-link.fitted,\n",
       "a:link.sk-estimator-doc-link.fitted,\n",
       "a:visited.sk-estimator-doc-link.fitted {\n",
       "  /* fitted */\n",
       "  border: var(--sklearn-color-fitted-level-1) 1pt solid;\n",
       "  color: var(--sklearn-color-fitted-level-1);\n",
       "}\n",
       "\n",
       "/* On hover */\n",
       "div.sk-estimator:hover .sk-estimator-doc-link:hover,\n",
       ".sk-estimator-doc-link:hover,\n",
       "div.sk-label-container:hover .sk-estimator-doc-link:hover,\n",
       ".sk-estimator-doc-link:hover {\n",
       "  /* unfitted */\n",
       "  background-color: var(--sklearn-color-unfitted-level-3);\n",
       "  color: var(--sklearn-color-background);\n",
       "  text-decoration: none;\n",
       "}\n",
       "\n",
       "div.sk-estimator.fitted:hover .sk-estimator-doc-link.fitted:hover,\n",
       ".sk-estimator-doc-link.fitted:hover,\n",
       "div.sk-label-container:hover .sk-estimator-doc-link.fitted:hover,\n",
       ".sk-estimator-doc-link.fitted:hover {\n",
       "  /* fitted */\n",
       "  background-color: var(--sklearn-color-fitted-level-3);\n",
       "  color: var(--sklearn-color-background);\n",
       "  text-decoration: none;\n",
       "}\n",
       "\n",
       "/* Span, style for the box shown on hovering the info icon */\n",
       ".sk-estimator-doc-link span {\n",
       "  display: none;\n",
       "  z-index: 9999;\n",
       "  position: relative;\n",
       "  font-weight: normal;\n",
       "  right: .2ex;\n",
       "  padding: .5ex;\n",
       "  margin: .5ex;\n",
       "  width: min-content;\n",
       "  min-width: 20ex;\n",
       "  max-width: 50ex;\n",
       "  color: var(--sklearn-color-text);\n",
       "  box-shadow: 2pt 2pt 4pt #999;\n",
       "  /* unfitted */\n",
       "  background: var(--sklearn-color-unfitted-level-0);\n",
       "  border: .5pt solid var(--sklearn-color-unfitted-level-3);\n",
       "}\n",
       "\n",
       ".sk-estimator-doc-link.fitted span {\n",
       "  /* fitted */\n",
       "  background: var(--sklearn-color-fitted-level-0);\n",
       "  border: var(--sklearn-color-fitted-level-3);\n",
       "}\n",
       "\n",
       ".sk-estimator-doc-link:hover span {\n",
       "  display: block;\n",
       "}\n",
       "\n",
       "/* \"?\"-specific style due to the `<a>` HTML tag */\n",
       "\n",
       "#sk-container-id-1 a.estimator_doc_link {\n",
       "  float: right;\n",
       "  font-size: 1rem;\n",
       "  line-height: 1em;\n",
       "  font-family: monospace;\n",
       "  background-color: var(--sklearn-color-background);\n",
       "  border-radius: 1rem;\n",
       "  height: 1rem;\n",
       "  width: 1rem;\n",
       "  text-decoration: none;\n",
       "  /* unfitted */\n",
       "  color: var(--sklearn-color-unfitted-level-1);\n",
       "  border: var(--sklearn-color-unfitted-level-1) 1pt solid;\n",
       "}\n",
       "\n",
       "#sk-container-id-1 a.estimator_doc_link.fitted {\n",
       "  /* fitted */\n",
       "  border: var(--sklearn-color-fitted-level-1) 1pt solid;\n",
       "  color: var(--sklearn-color-fitted-level-1);\n",
       "}\n",
       "\n",
       "/* On hover */\n",
       "#sk-container-id-1 a.estimator_doc_link:hover {\n",
       "  /* unfitted */\n",
       "  background-color: var(--sklearn-color-unfitted-level-3);\n",
       "  color: var(--sklearn-color-background);\n",
       "  text-decoration: none;\n",
       "}\n",
       "\n",
       "#sk-container-id-1 a.estimator_doc_link.fitted:hover {\n",
       "  /* fitted */\n",
       "  background-color: var(--sklearn-color-fitted-level-3);\n",
       "}\n",
       "</style><div id=\"sk-container-id-1\" class=\"sk-top-container\"><div class=\"sk-text-repr-fallback\"><pre>RobustScaler()</pre><b>In a Jupyter environment, please rerun this cell to show the HTML representation or trust the notebook. <br />On GitHub, the HTML representation is unable to render, please try loading this page with nbviewer.org.</b></div><div class=\"sk-container\" hidden><div class=\"sk-item\"><div class=\"sk-estimator fitted sk-toggleable\"><input class=\"sk-toggleable__control sk-hidden--visually\" id=\"sk-estimator-id-1\" type=\"checkbox\" checked><label for=\"sk-estimator-id-1\" class=\"sk-toggleable__label fitted sk-toggleable__label-arrow fitted\">&nbsp;&nbsp;RobustScaler<a class=\"sk-estimator-doc-link fitted\" rel=\"noreferrer\" target=\"_blank\" href=\"https://scikit-learn.org/1.5/modules/generated/sklearn.preprocessing.RobustScaler.html\">?<span>Documentation for RobustScaler</span></a><span class=\"sk-estimator-doc-link fitted\">i<span>Fitted</span></span></label><div class=\"sk-toggleable__content fitted\"><pre>RobustScaler()</pre></div> </div></div></div></div>"
      ],
      "text/plain": [
       "RobustScaler()"
      ]
     },
     "execution_count": 17,
     "metadata": {},
     "output_type": "execute_result"
    }
   ],
   "source": [
    "other_scaler = RobustScaler()\n",
    "other_scaler.fit(X_other_train)"
   ]
  },
  {
   "cell_type": "code",
   "execution_count": 18,
   "id": "895bd55d-4841-4096-a013-f9b0043e1368",
   "metadata": {
    "tags": []
   },
   "outputs": [],
   "source": [
    "X_other_train_scaled = other_scaler.transform(X_other_train)"
   ]
  },
  {
   "cell_type": "markdown",
   "id": "79e3a649-033b-436b-8485-2e9bc79337dd",
   "metadata": {},
   "source": [
    "Also we again balance the weights to have the same sum of weights for signal and background and average weight 1"
   ]
  },
  {
   "cell_type": "code",
   "execution_count": 19,
   "id": "4c2f3265-fea2-43dd-99b7-874e433612d6",
   "metadata": {
    "tags": []
   },
   "outputs": [],
   "source": [
    "class_weight_signal = 1 / weight_train[y_train==1].sum()\n",
    "class_weight_background = 1 / weight_train[y_train==0].sum()"
   ]
  },
  {
   "cell_type": "code",
   "execution_count": 20,
   "id": "1edd0af4-648f-4ffb-bcee-fc706eaed809",
   "metadata": {
    "tags": []
   },
   "outputs": [],
   "source": [
    "def transform_weight(weight, y):\n",
    "    weight = np.array(weight)\n",
    "    weight[y==0] *= class_weight_background\n",
    "    weight[y==1] *= class_weight_signal\n",
    "    return weight / weight.mean()"
   ]
  },
  {
   "cell_type": "code",
   "execution_count": 21,
   "id": "9e9ab59e-37a1-4620-8d56-832824f92a52",
   "metadata": {
    "tags": []
   },
   "outputs": [],
   "source": [
    "weight_train_scaled = transform_weight(weight_train, y_train)"
   ]
  },
  {
   "cell_type": "markdown",
   "id": "87821988-4d9c-4b23-ae00-2c8574bbe6fa",
   "metadata": {},
   "source": [
    "Now the model - we use the [functional API of keras](https://keras.io/api/models/model/)\n",
    "\n",
    "**Note:** When applying the keras `Dense` layer to 3D arrays it is applied independently on each element along the second dimension This is precisely what we want for our per-point transformation $\\phi$."
   ]
  },
  {
   "cell_type": "code",
   "execution_count": 22,
   "id": "8f1a2cc2-7263-494e-adf3-d463641e1452",
   "metadata": {
    "tags": []
   },
   "outputs": [],
   "source": [
    "def make_model():\n",
    "    input_jets = Input(shape=(2, 3), name=\"jets\")\n",
    "    jets = input_jets\n",
    "    input_other = Input(shape=(X_other_train.shape[1],), name=\"other\")\n",
    "\n",
    "    # embed the jets using 3 hidden layers (shared per-jet)\n",
    "    jets = Dense(100, activation=\"relu\")(jets)\n",
    "    jets = Dense(100, activation=\"relu\")(jets)\n",
    "    jets = Dense(100, activation=\"relu\")(jets)\n",
    "    \n",
    "    # take the mean/average as a permutation invariant operation\n",
    "    # note: since we still process a sequence of fixed length 2 this could in priniciple receive contributions\n",
    "    # from non-existing jets if the NN encodes the 0s into a non-zero vector.\n",
    "    # We could use a Masking Layer, but that has problems (produces NaN) when the sequence is completely empty\n",
    "    # so we would need something custom which we don't do here (seems to still work reasonably well)\n",
    "    jets = tf.keras.layers.GlobalAveragePooling1D()(jets)\n",
    "    \n",
    "    # 3 hidden layers for the other features\n",
    "    other = input_other\n",
    "    other = Dense(100, activation=\"relu\")(other)\n",
    "    other = Dense(100, activation=\"relu\")(other)\n",
    "    other = Dense(100, activation=\"relu\")(other)\n",
    "    \n",
    "    # concatenate embedded jets and other features and add final hidden layer + output\n",
    "    out = tf.keras.layers.concatenate([jets, other])\n",
    "    out = Dense(100, activation=\"relu\")(out)\n",
    "    out = Dense(1, activation=\"sigmoid\")(out)\n",
    "\n",
    "    return tf.keras.Model(inputs=[input_jets, input_other], outputs=[out])\n",
    "\n",
    "model = make_model()"
   ]
  },
  {
   "cell_type": "code",
   "execution_count": 30,
   "id": "29829073-913e-47a0-bdd4-752b81ef1539",
   "metadata": {
    "tags": []
   },
   "outputs": [
    {
     "name": "stdout",
     "output_type": "stream",
     "text": [
      "You must install pydot (`pip install pydot`) for `plot_model` to work.\n"
     ]
    }
   ],
   "source": [
    "tf.keras.utils.plot_model(model, show_shapes=True)"
   ]
  },
  {
   "cell_type": "markdown",
   "id": "ebd5978f-298e-45e2-83a2-b784dc5c07ec",
   "metadata": {},
   "source": [
    "**Interactive plotting needs extra tools, here the resulting plot:**\n",
    "\n",
    "![](figures/model.png)"
   ]
  },
  {
   "cell_type": "code",
   "execution_count": 31,
   "id": "b6e4e457-3990-4a64-9a0e-f51016afaf39",
   "metadata": {
    "tags": []
   },
   "outputs": [],
   "source": [
    "model.compile(loss=\"binary_crossentropy\", optimizer=\"Adam\")"
   ]
  },
  {
   "cell_type": "code",
   "execution_count": 32,
   "id": "6f69f375-fd14-4817-b30d-5e1b9160844a",
   "metadata": {
    "tags": []
   },
   "outputs": [],
   "source": [
    "history = History()"
   ]
  },
  {
   "cell_type": "code",
   "execution_count": 33,
   "id": "9343cb08-22ff-4b32-8203-0fca305aebfe",
   "metadata": {
    "tags": []
   },
   "outputs": [
    {
     "name": "stdout",
     "output_type": "stream",
     "text": [
      "Epoch 1/10\n",
      "\u001b[1m2302/2302\u001b[0m \u001b[32m━━━━━━━━━━━━━━━━━━━━\u001b[0m\u001b[37m\u001b[0m \u001b[1m13s\u001b[0m 5ms/step - loss: 0.3745 - val_loss: 0.3377\n",
      "Epoch 2/10\n",
      "\u001b[1m2302/2302\u001b[0m \u001b[32m━━━━━━━━━━━━━━━━━━━━\u001b[0m\u001b[37m\u001b[0m \u001b[1m14s\u001b[0m 6ms/step - loss: 0.3326 - val_loss: 0.3322\n",
      "Epoch 3/10\n",
      "\u001b[1m2302/2302\u001b[0m \u001b[32m━━━━━━━━━━━━━━━━━━━━\u001b[0m\u001b[37m\u001b[0m \u001b[1m14s\u001b[0m 6ms/step - loss: 0.3296 - val_loss: 0.3312\n",
      "Epoch 4/10\n",
      "\u001b[1m2302/2302\u001b[0m \u001b[32m━━━━━━━━━━━━━━━━━━━━\u001b[0m\u001b[37m\u001b[0m \u001b[1m13s\u001b[0m 6ms/step - loss: 0.3264 - val_loss: 0.3287\n",
      "Epoch 5/10\n",
      "\u001b[1m2302/2302\u001b[0m \u001b[32m━━━━━━━━━━━━━━━━━━━━\u001b[0m\u001b[37m\u001b[0m \u001b[1m13s\u001b[0m 6ms/step - loss: 0.3246 - val_loss: 0.3285\n",
      "Epoch 6/10\n",
      "\u001b[1m2302/2302\u001b[0m \u001b[32m━━━━━━━━━━━━━━━━━━━━\u001b[0m\u001b[37m\u001b[0m \u001b[1m13s\u001b[0m 6ms/step - loss: 0.3208 - val_loss: 0.3342\n",
      "Epoch 7/10\n",
      "\u001b[1m2302/2302\u001b[0m \u001b[32m━━━━━━━━━━━━━━━━━━━━\u001b[0m\u001b[37m\u001b[0m \u001b[1m14s\u001b[0m 6ms/step - loss: 0.3197 - val_loss: 0.3318\n",
      "Epoch 8/10\n",
      "\u001b[1m2302/2302\u001b[0m \u001b[32m━━━━━━━━━━━━━━━━━━━━\u001b[0m\u001b[37m\u001b[0m \u001b[1m14s\u001b[0m 6ms/step - loss: 0.3146 - val_loss: 0.3324\n",
      "Epoch 9/10\n",
      "\u001b[1m2302/2302\u001b[0m \u001b[32m━━━━━━━━━━━━━━━━━━━━\u001b[0m\u001b[37m\u001b[0m \u001b[1m13s\u001b[0m 6ms/step - loss: 0.3152 - val_loss: 0.3297\n",
      "Epoch 10/10\n",
      "\u001b[1m2302/2302\u001b[0m \u001b[32m━━━━━━━━━━━━━━━━━━━━\u001b[0m\u001b[37m\u001b[0m \u001b[1m12s\u001b[0m 5ms/step - loss: 0.3169 - val_loss: 0.3294\n"
     ]
    },
    {
     "data": {
      "text/plain": [
       "<keras.src.callbacks.history.History at 0x18e78841210>"
      ]
     },
     "execution_count": 33,
     "metadata": {},
     "output_type": "execute_result"
    }
   ],
   "source": [
    "model.fit(\n",
    "    {\"jets\": X_jet_train_scaled, \"other\": X_other_train_scaled},\n",
    "    y_train,\n",
    "    sample_weight=weight_train_scaled,\n",
    "    epochs=10,\n",
    "    batch_size=64,\n",
    "    shuffle=True,\n",
    "    validation_split=0.2,\n",
    "    callbacks=[history],\n",
    ")"
   ]
  },
  {
   "cell_type": "code",
   "execution_count": 34,
   "id": "6a05e9f6-9304-4afa-b03b-9d941ee2aea0",
   "metadata": {
    "tags": []
   },
   "outputs": [
    {
     "data": {
      "text/plain": [
       "<Axes: >"
      ]
     },
     "execution_count": 34,
     "metadata": {},
     "output_type": "execute_result"
    },
    {
     "data": {
      "image/png": "[encoded data removed]",
      "text/plain": [
       "<Figure size 640x480 with 1 Axes>"
      ]
     },
     "metadata": {},
     "output_type": "display_data"
    }
   ],
   "source": [
    "pd.DataFrame(history.history).plot()"
   ]
  },
  {
   "cell_type": "code",
   "execution_count": 35,
   "id": "1e3c7644-6075-423f-8af5-8652f457df49",
   "metadata": {
    "tags": []
   },
   "outputs": [],
   "source": [
    "X_jet_test_scaled = jet_scaler.transform(X_jet_test)\n",
    "X_other_test_scaled = other_scaler.transform(X_other_test)\n",
    "weight_test_scaled = transform_weight(weight_test, y_test)"
   ]
  },
  {
   "cell_type": "code",
   "execution_count": 36,
   "id": "866dca49-d683-4153-932d-4f6e4523d625",
   "metadata": {
    "tags": []
   },
   "outputs": [
    {
     "name": "stdout",
     "output_type": "stream",
     "text": [
      "\u001b[1m5754/5754\u001b[0m \u001b[32m━━━━━━━━━━━━━━━━━━━━\u001b[0m\u001b[37m\u001b[0m \u001b[1m8s\u001b[0m 1ms/step\n",
      "\u001b[1m1918/1918\u001b[0m \u001b[32m━━━━━━━━━━━━━━━━━━━━\u001b[0m\u001b[37m\u001b[0m \u001b[1m3s\u001b[0m 1ms/step\n"
     ]
    }
   ],
   "source": [
    "y_pred_train = model.predict({\"jets\": X_jet_train_scaled, \"other\": X_other_train_scaled}, verbose=True)[:, 0]\n",
    "y_pred_test = model.predict({\"jets\": X_jet_test_scaled, \"other\": X_other_test_scaled}, verbose=True)[:, 0]"
   ]
  },
  {
   "cell_type": "code",
   "execution_count": 37,
   "id": "e660f40d-7931-4f29-b558-bf49a165d1db",
   "metadata": {
    "tags": []
   },
   "outputs": [],
   "source": [
    "from sklearn.metrics import roc_curve"
   ]
  },
  {
   "cell_type": "code",
   "execution_count": 38,
   "id": "2c5402d3-173d-4437-bc46-e20e359d3b13",
   "metadata": {
    "tags": []
   },
   "outputs": [],
   "source": [
    "from mltools import ams"
   ]
  },
  {
   "cell_type": "code",
   "execution_count": 39,
   "id": "d1546f9b-ac95-4b38-8dc9-5ee9596872c1",
   "metadata": {
    "tags": []
   },
   "outputs": [],
   "source": [
    "def ams_scan(y, y_prob, weights, label):\n",
    "    fpr, tpr, thr = roc_curve(y, y_prob, sample_weight=weights)\n",
    "    ams_vals = ams(tpr * n_sig_tot, fpr * n_bkg_tot)\n",
    "    print(\"{}: Maximum AMS {:.3f} for pcut {:.3f}\".format(label, ams_vals.max(), thr[np.argmax(ams_vals)]))\n",
    "    return thr, ams_vals"
   ]
  },
  {
   "cell_type": "code",
   "execution_count": 40,
   "id": "7a395510-66e0-4406-a687-2d0b97c17064",
   "metadata": {
    "tags": []
   },
   "outputs": [
    {
     "name": "stdout",
     "output_type": "stream",
     "text": [
      "Train: Maximum AMS 3.752 for pcut 0.947\n",
      "Test: Maximum AMS 3.690 for pcut 0.934\n"
     ]
    },
    {
     "data": {
      "text/plain": [
       "<matplotlib.legend.Legend at 0x18ec0ceadd0>"
      ]
     },
     "execution_count": 40,
     "metadata": {},
     "output_type": "execute_result"
    },
    {
     "data": {
      "image/png": "[encoded data removed]",
      "text/plain": [
       "<Figure size 640x480 with 1 Axes>"
      ]
     },
     "metadata": {},
     "output_type": "display_data"
    }
   ],
   "source": [
    "plt.plot(*ams_scan(y_train, y_pred_train, weight_train, \"Train\"), label=\"Train\")\n",
    "plt.plot(*ams_scan(y_test, y_pred_test, weight_test, \"Test\"), label=\"Test\")\n",
    "plt.xlim(0.8, 1.)\n",
    "plt.legend()"
   ]
  },
  {
   "cell_type": "markdown",
   "id": "5151f689-148b-4b19-9b4f-39901cc68ecd",
   "metadata": {},
   "source": [
    "<div class=\"alert alert-block alert-success\">\n",
    "    <h2>Exercise 1</h2>\n",
    "    Obviously in such a composed model there are many options to play with concerning the detailed structure of the network (number of hidden layers, number of neurons)\n",
    "</div>"
   ]
  },
  {
   "cell_type": "code",
   "execution_count": null,
   "id": "312ae563-be21-45d5-b9d5-010568b0395c",
   "metadata": {},
   "outputs": [],
   "source": []
  }
 ],
 "metadata": {
  "kernelspec": {
   "display_name": "Python 3 (ipykernel)",
   "language": "python",
   "name": "python3"
  },
  "language_info": {
   "codemirror_mode": {
    "name": "ipython",
    "version": 3
   },
   "file_extension": ".py",
   "mimetype": "text/x-python",
   "name": "python",
   "nbconvert_exporter": "python",
   "pygments_lexer": "ipython3",
   "version": "3.11.9"
  }
 },
 "nbformat": 4,
 "nbformat_minor": 5
}
