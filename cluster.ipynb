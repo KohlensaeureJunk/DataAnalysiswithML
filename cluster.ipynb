{
 "cells": [
  {
   "cell_type": "markdown",
   "id": "efe78612-4064-4b6c-b30a-87b98c2b766a",
   "metadata": {},
   "source": [
    "## k-Means Clustering\n",
    "\n",
    "example implementation of algorithm for interactive use"
   ]
  },
  {
   "cell_type": "code",
   "execution_count": null,
   "id": "22628196-0916-45cd-b8df-857239231ac2",
   "metadata": {
    "tags": []
   },
   "outputs": [],
   "source": [
    "import numpy as np\n",
    "import matplotlib.pyplot as plt\n",
    "\n",
    "def savedata(X, y, fname='nums.csv'):\n",
    "    n = y.shape[0]\n",
    "    y=y.reshape(n,1)\n",
    "    res = np.append(X, y, axis=1)\n",
    "    np.savetxt(fname,res,delimiter=\",\", header=\"x,y,label\", comments=\"\", fmt='%.5f')\n",
    "def readdata(fname='nums.csv'):\n",
    "    res = np.loadtxt(fname,skiprows=1,delimiter=',')\n",
    "    X = res[:,:2]\n",
    "    y = res[:,2]\n",
    "    return X,y"
   ]
  },
  {
   "cell_type": "code",
   "execution_count": null,
   "id": "13d2dcc2-cf15-4f34-a62b-152174b04810",
   "metadata": {
    "tags": []
   },
   "outputs": [],
   "source": [
    "X,y = readdata('nums_blob_3.csv')\n",
    "X.shape"
   ]
  },
  {
   "cell_type": "code",
   "execution_count": null,
   "id": "9e04c7ac-69c2-41cc-bd6c-4c1690f088e1",
   "metadata": {
    "tags": []
   },
   "outputs": [],
   "source": [
    "# initialize centers\n",
    "# take avg and randomly +- std-dev\n",
    "nc = 3\n",
    "xavg,xstd = X.mean(axis=0),X.std(axis=0)\n",
    "centers=(np.random.random((nc,2))*2-1)*xstd+xavg\n",
    "print(centers)"
   ]
  },
  {
   "cell_type": "code",
   "execution_count": null,
   "id": "6083aa9c-06c2-443b-8cbd-0331e599086f",
   "metadata": {
    "tags": []
   },
   "outputs": [],
   "source": [
    "# helper functions\n",
    "def findclosest( p, pl ):\n",
    "    \"\"\" \n",
    "    find closest point in list\n",
    "    args: p = 2D point, pl = list of 2D points\n",
    "    return: index of closest point in pl\n",
    "    \"\"\"\n",
    "    d = (p[0]-pl[:,0])**2 + (p[1]-pl[:,1])**2\n",
    "    i = np.argmin(d)\n",
    "    return i\n",
    "\n",
    "def mean_plist( pl, centroids ):\n",
    "    \"\"\" \n",
    "    determine first centroid-index list of points closest to respective centroid\n",
    "    and calculate then new mean centroid for for each centroid-index list of points\n",
    "    args: pl = list of 2D points, centroids = list of centroid 2D points\n",
    "    return: list of new centroids, index list with centroid association, loss per centroid\n",
    "    \"\"\"\n",
    "    ilist = np.array([findclosest(v,centroids) for v in pl])\n",
    "    centnew = np.array([pl[ilist==i].mean(axis=0) for i in range(len(centroids))])\n",
    "    loss = np.array([((pl[ilist==i]-centnew[i])**2).sum() for i in range(len(centroids))])\n",
    "    return centnew,ilist,loss"
   ]
  },
  {
   "cell_type": "code",
   "execution_count": null,
   "id": "45332b7a-4905-45fd-9c20-45a80645c93f",
   "metadata": {
    "tags": []
   },
   "outputs": [],
   "source": [
    "# plot initial positioning\n",
    "plt.scatter(X[:, 0], X[:, 1],s=10)#, c=y,cmap='rainbow');\n",
    "plt.scatter(*centers.T,s=30,color='k')"
   ]
  },
  {
   "cell_type": "code",
   "execution_count": null,
   "id": "ef529403-c47b-4bfc-bda4-01df547107ed",
   "metadata": {
    "tags": []
   },
   "outputs": [],
   "source": [
    "cnew = centers"
   ]
  },
  {
   "cell_type": "code",
   "execution_count": null,
   "id": "16c49791-e95a-41d2-bb8d-e9edbb196c7e",
   "metadata": {
    "tags": []
   },
   "outputs": [],
   "source": [
    "# repeatedly execute until convergence\n",
    "cnew,ilist,loss = mean_plist( X, cnew )\n",
    "cnew,loss,loss.sum()"
   ]
  },
  {
   "cell_type": "code",
   "execution_count": null,
   "id": "cf13aac5-b09f-48db-8d25-9d2bbd448c8f",
   "metadata": {
    "tags": []
   },
   "outputs": [],
   "source": [
    "# plot result\n",
    "plt.scatter(X[:, 0], X[:, 1],s=10, c=ilist,cmap='rainbow');\n",
    "plt.scatter(*cnew.T,s=30,color='k')"
   ]
  },
  {
   "cell_type": "markdown",
   "id": "6a91d7de-9a46-45dc-8283-ee14106ea61a",
   "metadata": {},
   "source": [
    "---\n",
    "\n",
    "## k-Means from sklearn"
   ]
  },
  {
   "cell_type": "code",
   "execution_count": null,
   "id": "cc5b26d2-6dd4-4413-92a2-dd123afabd55",
   "metadata": {
    "tags": []
   },
   "outputs": [],
   "source": [
    "from sklearn.cluster import KMeans\n"
   ]
  },
  {
   "cell_type": "code",
   "execution_count": null,
   "id": "f970d358-6b75-40c2-84c8-0e782972e9dc",
   "metadata": {},
   "outputs": [],
   "source": [
    "KMeans?"
   ]
  },
  {
   "cell_type": "code",
   "execution_count": null,
   "id": "3be59092-cd51-435d-ae89-30fca8bb04d0",
   "metadata": {
    "tags": []
   },
   "outputs": [],
   "source": [
    "\n",
    "kmeans = KMeans(n_clusters=3, n_init = 10, random_state=30) #predicts 0,1,2\n",
    "kmeans.fit(X)\n",
    "yb_kmeans = kmeans.predict(X)\n",
    "centersb = kmeans.cluster_centers_ # the resulting centers\n",
    "inertia = kmeans.inertia_  # the loss"
   ]
  },
  {
   "cell_type": "code",
   "execution_count": null,
   "id": "029ef6ed-77ca-486e-af46-a49784433212",
   "metadata": {
    "tags": []
   },
   "outputs": [],
   "source": [
    "centersb"
   ]
  },
  {
   "cell_type": "code",
   "execution_count": null,
   "id": "1b11aee4-674a-44de-9b0a-e6bf47f02a4c",
   "metadata": {
    "tags": []
   },
   "outputs": [],
   "source": [
    "kmeans.inertia_"
   ]
  },
  {
   "cell_type": "markdown",
   "id": "f88ee254-3281-49ad-b6eb-b0555d3ab775",
   "metadata": {},
   "source": [
    "#### Elbow plot"
   ]
  },
  {
   "cell_type": "code",
   "execution_count": null,
   "id": "13a07b07-f9f4-4b51-896e-54476af43721",
   "metadata": {
    "tags": []
   },
   "outputs": [],
   "source": [
    "inertias = []\n",
    "for k in range(2, 8):\n",
    "    kmeans = KMeans(n_clusters=k, n_init = 10)\n",
    "    kmeans.fit(X)\n",
    "    inertias.append(kmeans.inertia_)"
   ]
  },
  {
   "cell_type": "code",
   "execution_count": null,
   "id": "e42d1689-14c9-4b79-9fef-d65f55ca5fea",
   "metadata": {
    "tags": []
   },
   "outputs": [],
   "source": [
    "fig = plt.figure(figsize=(8, 6))\n",
    "plt.plot(range(2, 8), inertias)\n",
    "plt.title('Elbow curve');\n",
    "plt.xlabel('Number of clusters $k$', fontsize = 14);\n",
    "plt.ylabel('$k$-means cost function', fontsize = 14);\n"
   ]
  },
  {
   "cell_type": "markdown",
   "id": "97785b17-cf7c-4f21-b677-f5ddd8aec29a",
   "metadata": {},
   "source": [
    "### More complex case with overlapping blobs"
   ]
  },
  {
   "cell_type": "code",
   "execution_count": null,
   "id": "56bb2ad6-49dd-43c9-8371-f057e40c4ad4",
   "metadata": {
    "tags": []
   },
   "outputs": [],
   "source": [
    "from sklearn.datasets import make_blobs\n",
    "from sklearn.cluster import KMeans\n"
   ]
  },
  {
   "cell_type": "code",
   "execution_count": null,
   "id": "e34028cc-a62d-4c67-a12d-f85198e07535",
   "metadata": {
    "tags": []
   },
   "outputs": [],
   "source": [
    "# create 3 blobs\n",
    "X1b, y1b = make_blobs(n_samples=200, centers=[(1.25,1)],\n",
    "                       cluster_std=0.2, random_state=1)\n",
    "\n",
    "X2b, y2b = make_blobs(n_samples=400, centers=[(0,1)],\n",
    "                       cluster_std=0.5, random_state=2)\n",
    "\n",
    "X3b, y3b = make_blobs(n_samples=200, centers=[(-1.25,1)],\n",
    "                       cluster_std=0.2, random_state=3)"
   ]
  },
  {
   "cell_type": "code",
   "execution_count": null,
   "id": "4754bb8d-21d9-41e1-9479-ef897d257c06",
   "metadata": {
    "tags": []
   },
   "outputs": [],
   "source": [
    "# combine blobs\n",
    "Xb = np.vstack([X1b,X2b,X3b])\n",
    "yb = np.concatenate([y1b,y2b+1,y3b+2])\n",
    "Xb.shape, yb.shape"
   ]
  },
  {
   "cell_type": "code",
   "execution_count": null,
   "id": "d1b121dc-f790-437e-85c0-681352f6ce22",
   "metadata": {
    "tags": []
   },
   "outputs": [],
   "source": [
    "# plot result\n",
    "plt.scatter(Xb[:, 0], Xb[:, 1],s=10, c=yb,cmap='rainbow');"
   ]
  },
  {
   "cell_type": "code",
   "execution_count": null,
   "id": "9aa6830d-3def-4ff6-82d1-8dc17d56cdc2",
   "metadata": {
    "tags": []
   },
   "outputs": [],
   "source": [
    "from mltools import visualize_classifier\n",
    "nc = 3\n",
    "model = KMeans(n_clusters=nc, n_init = 10, random_state=30) #predicts 0,1,2\n",
    "model.fit(Xb)\n",
    "# trick to get color assiciation right\n",
    "clist = [ model.predict(Xb[yb==i]).mean().round() for i in range(nc)]\n",
    "yc = np.array([ clist[i] for i in yb ])\n",
    "\n",
    "# now visualize points and mode prediction\n",
    "visualize_classifier(model, Xb, yc, cmap='rainbow')"
   ]
  },
  {
   "cell_type": "markdown",
   "id": "3a9ec9ea-d284-4ce0-ae2c-dfeb46069457",
   "metadata": {},
   "source": [
    "#### and the elbow plot ..."
   ]
  },
  {
   "cell_type": "code",
   "execution_count": null,
   "id": "046f1134-94f0-431a-9c2d-8c4ffc15da2f",
   "metadata": {
    "tags": []
   },
   "outputs": [],
   "source": [
    "nmax = 10\n",
    "inertiasb = []\n",
    "for k in range(2, nmax):\n",
    "    kmeans = KMeans(n_clusters=k, n_init = 10)\n",
    "    kmeans.fit(Xb)\n",
    "    inertiasb.append(kmeans.inertia_)\n",
    "\n",
    "plt.plot(range(2, nmax), inertiasb)\n",
    "#plt.grid(True)\n",
    "plt.title('Elbow curve for blobs');\n",
    "plt.xlabel('Number of clusters $k$', fontsize = 14);\n",
    "plt.ylabel('$k$-means cost function', fontsize = 14);\n"
   ]
  },
  {
   "cell_type": "markdown",
   "id": "d073db25-db62-4c85-901e-32be8b9b1682",
   "metadata": {},
   "source": [
    "## Gaussian mixture model"
   ]
  },
  {
   "cell_type": "code",
   "execution_count": null,
   "id": "70d0757f-5b1e-4c2d-b2b9-2f07e4956461",
   "metadata": {
    "tags": []
   },
   "outputs": [],
   "source": [
    "from sklearn import mixture"
   ]
  },
  {
   "cell_type": "code",
   "execution_count": null,
   "id": "be1d4742-1824-4ad0-bd5a-d2bb2f3c4b5b",
   "metadata": {
    "tags": []
   },
   "outputs": [],
   "source": [
    "from mltools import visualize_classifier\n",
    "nc = 3\n",
    "model = mixture.GaussianMixture(n_components=3, covariance_type='full',random_state=41)\n",
    "model.fit(Xb)\n",
    "\n",
    "# trick to get color association right\n",
    "clist = [ model.predict(Xb[yb==i]).mean().round() for i in range(nc)]\n",
    "yc = np.array([ clist[i] for i in yb ])\n",
    "\n",
    "\n",
    "# now visualize points and mode prediction\n",
    "fig, ax = plt.subplots(1, 1, figsize=(5, 5))\n",
    "ax.set_xlim(-2.5, 2.5)\n",
    "ax.set_ylim(-0.5,2.5)\n",
    "visualize_classifier(model, Xb, yc, cmap='rainbow', ax=ax )\n"
   ]
  },
  {
   "cell_type": "markdown",
   "id": "e730e6c0-9e66-4192-8201-d9b097281cf3",
   "metadata": {},
   "source": [
    "#### GMM model selection\n",
    "\n",
    "The selection of the appropriate model is a bit more complicated for GMM\n",
    "- there are various options what type of Gaussians are used\n",
    "- and obviously the number of components\n",
    "\n",
    "A tradeoff must be made between complexity of model and the loss. \n",
    "Information theory provides the Bayes Information Criterion (BIC) as a quantitative\n",
    "estimator, see [**SKlearn documentation**](https://scikit-learn.org/stable/auto_examples/mixture/plot_gmm_selection.html#data-generation) for a detailed example and discussion. "
   ]
  },
  {
   "cell_type": "markdown",
   "id": "8171e8e3-48f0-44ce-8072-087e9a8f0739",
   "metadata": {},
   "source": [
    "<div class=\"alert alert-block alert-success\">\n",
    "    <h2>Exercise 1</h2>\n",
    "    Read the data from 'nums_blob_X.csv' .\n",
    "    Use k-Means clustering and elbow plot to determine number of clusters\n",
    "</div>    \n"
   ]
  },
  {
   "cell_type": "code",
   "execution_count": null,
   "id": "f9f895d6-031c-4ffe-95c9-d19194ac87f1",
   "metadata": {},
   "outputs": [],
   "source": [
    "X,y = readdata('nums_blob_X.csv')\n",
    "X.shape"
   ]
  },
  {
   "cell_type": "code",
   "execution_count": null,
   "id": "b024530d-1fd8-4780-b0ed-386f3204c17d",
   "metadata": {},
   "outputs": [],
   "source": []
  }
 ],
 "metadata": {
  "kernelspec": {
   "display_name": "Python 3 (ipykernel)",
   "language": "python",
   "name": "python3"
  },
  "language_info": {
   "codemirror_mode": {
    "name": "ipython",
    "version": 3
   },
   "file_extension": ".py",
   "mimetype": "text/x-python",
   "name": "python",
   "nbconvert_exporter": "python",
   "pygments_lexer": "ipython3",
   "version": "3.11.5"
  }
 },
 "nbformat": 4,
 "nbformat_minor": 5
}
