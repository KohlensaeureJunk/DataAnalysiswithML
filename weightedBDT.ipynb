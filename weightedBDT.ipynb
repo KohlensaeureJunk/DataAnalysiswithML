{
 "cells": [
  {
   "cell_type": "code",
   "execution_count": 1,
   "metadata": {},
   "outputs": [],
   "source": [
    "import os\n",
    "import urllib\n",
    "\n",
    "import pandas as pd\n",
    "import matplotlib.pyplot as plt\n",
    "import numpy as np\n",
    "from sklearn.model_selection import train_test_split\n",
    "from sklearn.ensemble import HistGradientBoostingClassifier\n",
    "from sklearn.metrics import roc_curve"
   ]
  },
  {
   "cell_type": "code",
   "execution_count": 2,
   "metadata": {},
   "outputs": [],
   "source": [
    "filename = \"atlas-higgs-challenge-2014-v2.csv.gz\"\n",
    "url = \"http://opendata.cern.ch/record/328/files/atlas-higgs-challenge-2014-v2.csv.gz\""
   ]
  },
  {
   "cell_type": "code",
   "execution_count": 3,
   "metadata": {},
   "outputs": [],
   "source": [
    "if not os.path.exists(filename):\n",
    "    urllib.request.urlretrieve(url, filename)\n",
    "df = pd.read_csv(filename)"
   ]
  },
  {
   "cell_type": "code",
   "execution_count": 4,
   "metadata": {},
   "outputs": [],
   "source": [
    "feat_columns = [col for col in df.columns if col[:3] in [\"DER\", \"PRI\"]]\n",
    "\n",
    "X = df.loc[:, feat_columns]\n",
    "y = df['Label']\n",
    "weight = df['Weight']\n",
    "(\n",
    "    X_train,\n",
    "    X_test,\n",
    "    y_train,\n",
    "    y_test,\n",
    "    weight_train,\n",
    "    weight_test,\n",
    ") = train_test_split(\n",
    "    X.to_numpy(),\n",
    "    (y == \"s\").to_numpy(),\n",
    "    weight.to_numpy(),\n",
    "    test_size=0.33,\n",
    "    random_state=42\n",
    ")"
   ]
  },
  {
   "cell_type": "code",
   "execution_count": 5,
   "metadata": {},
   "outputs": [],
   "source": [
    "def ams(s, b):\n",
    "    \"\"\"\n",
    "    Approximate median significance, as defined in Higgs Kaggle challenge\n",
    "\n",
    "    The number 10, added to the background yield, is a regularization term to decrease the variance of the AMS.\n",
    "    \"\"\"\n",
    "    return np.sqrt(2 * ((s + b + 10) * np.log(1 + s / (b + 10)) - s))"
   ]
  },
  {
   "cell_type": "code",
   "execution_count": 6,
   "metadata": {},
   "outputs": [],
   "source": [
    "sumw = df.groupby(\"Label\").Weight.sum()\n",
    "nsig_tot = sumw[\"s\"]\n",
    "nbkg_tot = sumw[\"b\"]"
   ]
  },
  {
   "cell_type": "code",
   "execution_count": 7,
   "metadata": {},
   "outputs": [],
   "source": [
    "class_weight = np.array([\n",
    "    len(y_train) / weight_train[y_train==0].sum(),\n",
    "    len(y_train) / weight_train[y_train==1].sum(),\n",
    "])\n"
   ]
  },
  {
   "cell_type": "code",
   "execution_count": 8,
   "metadata": {},
   "outputs": [
    {
     "data": {
      "text/plain": [
       "0.8372740002551992"
      ]
     },
     "execution_count": 8,
     "metadata": {},
     "output_type": "execute_result"
    }
   ],
   "source": [
    "model_gbc_weighted = HistGradientBoostingClassifier(class_weight={0.0:class_weight[0], 1.0:class_weight[1]})\n",
    "model_gbc_weighted.fit(X_train, y_train, sample_weight=weight_train)\n",
    "model_gbc_weighted.score(X_test, y_test, sample_weight=weight_test)"
   ]
  },
  {
   "cell_type": "code",
   "execution_count": 10,
   "metadata": {},
   "outputs": [
    {
     "name": "stdout",
     "output_type": "stream",
     "text": [
      "Maximum AMS of 3.579 at a threshold of 0.947.\n"
     ]
    }
   ],
   "source": [
    "p_test_weighted = model_gbc_weighted.predict_proba(X_test)[:,1]\n",
    "roc_gbc_weighted = roc_curve(y_test, p_test_weighted, sample_weight=weight_test)\n",
    "\n",
    "amsses = [ams(tpr*nsig_tot, fpr*nbkg_tot) for tpr, fpr in zip(roc_gbc_weighted[1], roc_gbc_weighted[0])]\n",
    "max_ams = max(amsses)\n",
    "max_thr = roc_gbc_weighted[2][amsses.index(max_ams)]\n",
    "print(f\"Maximum AMS of {max_ams:.3f} at a threshold of {max_thr:.3f}.\")"
   ]
  },
  {
   "cell_type": "code",
   "execution_count": null,
   "metadata": {},
   "outputs": [],
   "source": []
  }
 ],
 "metadata": {
  "kernelspec": {
   "display_name": "Python 3",
   "language": "python",
   "name": "python3"
  },
  "language_info": {
   "codemirror_mode": {
    "name": "ipython",
    "version": 3
   },
   "file_extension": ".py",
   "mimetype": "text/x-python",
   "name": "python",
   "nbconvert_exporter": "python",
   "pygments_lexer": "ipython3",
   "version": "3.11.9"
  }
 },
 "nbformat": 4,
 "nbformat_minor": 2
}
