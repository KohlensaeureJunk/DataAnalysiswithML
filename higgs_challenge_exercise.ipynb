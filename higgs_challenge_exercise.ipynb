{
 "cells": [
  {
   "cell_type": "markdown",
   "id": "cff0dd72-c532-4d7f-964b-5674c574e1e2",
   "metadata": {},
   "source": [
    "# Exercise\n",
    "\n",
    "Below you find the Dataset from the Higgs Kaggle challenge [you have already seen last week][1].\n",
    "\n",
    "* Fit a Boosted Decision Trees classifier based on [HistGradientBoostingClassifier][2] from scikit-learn\n",
    "* The default setting fits 100 trees. Can you get better performance by fitting more trees? Also have a look at `model.train_score_` and `model.validation_score_`\n",
    "* What are the most important features? Can you get similar accuracy by only fitting them?\n",
    "\n",
    "Tips:\n",
    "* [HistGradientBoostingClassifier][2] does not support showing feature importances, you need to use [GradientBoostingClassifier][3]\n",
    "* This one is a bit slower, you can speed up the training by utilizing the `subsample` option\n",
    "* In this case you can also plot `model.oob_scores_` as a replacement for the validation score.\n",
    "* Alternatively you can use `staged_predict_proba` like in [this tutorial][4]\n",
    "* [GradientBoostingClassifier][3] uses by default `max_depth=3` while [HistGradientBoostingClassifier][2] uses larger trees via `max_leaf_nodes=31`. You may want to adjust this.\n",
    "\n",
    "[1]: https://gitlab.physik.uni-muenchen.de/damlpartphys24/05-validation-and-metrics/-/blob/main/higgs_challenge.ipynb\n",
    "[2]: https://scikit-learn.org/stable/modules/generated/sklearn.ensemble.HistGradientBoostingClassifier.html\n",
    "[3]: https://scikit-learn.org/stable/modules/generated/sklearn.ensemble.GradientBoostingClassifier.html\n",
    "[4]: https://scikit-learn.org/stable/auto_examples/ensemble/plot_gradient_boosting_regularization.html"
   ]
  },
  {
   "cell_type": "code",
   "execution_count": null,
   "id": "78add400-5c3c-4ec1-8d34-b3c339208a36",
   "metadata": {},
   "outputs": [],
   "source": [
    "from pathlib import Path\n",
    "import urllib\n",
    "\n",
    "import pandas as pd\n",
    "import matplotlib.pyplot as plt\n",
    "import numpy as np\n",
    "from sklearn.model_selection import train_test_split\n",
    "from sklearn.metrics import roc_curve, roc_auc_score"
   ]
  },
  {
   "cell_type": "markdown",
   "id": "c03b6d8f-3a69-4f30-9525-170eea0a7336",
   "metadata": {},
   "source": [
    "## Prepare data"
   ]
  },
  {
   "cell_type": "code",
   "execution_count": null,
   "id": "5395a782-914e-42a8-abf0-20c2de673f19",
   "metadata": {},
   "outputs": [],
   "source": [
    "path = Path(\"atlas-higgs-challenge-2014-v2.csv.gz\")\n",
    "\n",
    "def prepare_data(path):\n",
    "    if path.exists():\n",
    "        return\n",
    "    url = \"http://opendata.cern.ch/record/328/files/atlas-higgs-challenge-2014-v2.csv.gz\"\n",
    "    path_prev_tutorial = Path(\"../05-overfitting-validation-metrics\") / path\n",
    "    if path_prev_tutorial.exists():\n",
    "        path.symlink_to(path_prev_tutorial)\n",
    "    if not path.exists():\n",
    "        urllib.request.urlretrieve(url, filename)\n",
    "\n",
    "prepare_data(path)\n",
    "\n",
    "df = pd.read_csv(path)"
   ]
  },
  {
   "cell_type": "code",
   "execution_count": null,
   "id": "e08a3aba-f47d-4409-8a96-b4cb12aab2c2",
   "metadata": {},
   "outputs": [],
   "source": [
    "feature_names = [col for col in df.columns if col.startswith(\"DER\") or col.startswith(\"PRI\")]\n",
    "feature_names"
   ]
  },
  {
   "cell_type": "code",
   "execution_count": null,
   "id": "953d079f-3048-4e7f-8238-b513e5090515",
   "metadata": {},
   "outputs": [],
   "source": [
    "df"
   ]
  },
  {
   "cell_type": "code",
   "execution_count": null,
   "id": "209ce5a2-bc58-49bf-96e1-755763f26d18",
   "metadata": {},
   "outputs": [],
   "source": [
    "X = df[feature_names]\n",
    "y = df['Label']\n",
    "weight = df['Weight']"
   ]
  },
  {
   "cell_type": "code",
   "execution_count": null,
   "id": "61a9458e-b78c-444c-8d28-8584a2a2f3a4",
   "metadata": {},
   "outputs": [],
   "source": [
    "(\n",
    "    X_train,\n",
    "    X_test,\n",
    "    y_train,\n",
    "    y_test,\n",
    "    weight_train,\n",
    "    weight_test,\n",
    ") = train_test_split(\n",
    "    X.to_numpy(),\n",
    "    (y == \"s\").to_numpy(),\n",
    "    weight.to_numpy(),\n",
    "    test_size=0.33,\n",
    "    random_state=42\n",
    ")\n",
    "\n",
    "# to balance weighted sum of signal and background\n",
    "class_weight = np.array([\n",
    "    len(y_train) / weight_train[y_train==0].sum(),\n",
    "    len(y_train) / weight_train[y_train==1].sum(),\n",
    "])\n",
    "\n",
    "# to have average weight = 1\n",
    "# use this weight in the fit\n",
    "weight_for_fit = weight_train * class_weight[y_train.astype(int)]\n",
    "weight_for_fit /= weight_for_fit.mean()"
   ]
  },
  {
   "cell_type": "markdown",
   "id": "2f7510a8-1bcf-469d-9c39-03474a878096",
   "metadata": {},
   "source": [
    "## Train models\n",
    "\n",
    "(your task)"
   ]
  },
  {
   "cell_type": "markdown",
   "id": "89b46cf0-3209-4700-8816-dff214b75012",
   "metadata": {},
   "source": [
    "## Evaluate performance"
   ]
  },
  {
   "cell_type": "code",
   "execution_count": null,
   "id": "e0bf28e1-a512-427a-980c-ba2c90dab14f",
   "metadata": {},
   "outputs": [],
   "source": [
    "def ams(s, b):\n",
    "    \"\"\"\n",
    "    Approximate median significance, as defined in Higgs Kaggle challenge\n",
    "\n",
    "    The number 10, added to the background yield, is a regularization term to decrease the variance of the AMS.\n",
    "    \"\"\"\n",
    "    return np.sqrt(2 * ((s + b + 10) * np.log(1 + s / (b + 10)) - s))\n",
    "\n",
    "sumw = df.groupby(\"Label\").Weight.sum()\n",
    "nsig_tot = sumw[\"s\"]\n",
    "nbkg_tot = sumw[\"b\"]"
   ]
  },
  {
   "cell_type": "code",
   "execution_count": null,
   "id": "40045419-c802-4172-818f-5c9ef398c749",
   "metadata": {},
   "outputs": [],
   "source": [
    "model.score(X_test, y_test, sample_weight=weight_test)"
   ]
  },
  {
   "cell_type": "code",
   "execution_count": null,
   "id": "31305897-0d47-47f3-a9ca-53102ff62959",
   "metadata": {},
   "outputs": [],
   "source": [
    "p_test = model.predict_proba(X_test)[:, 1]"
   ]
  },
  {
   "cell_type": "code",
   "execution_count": null,
   "id": "ca5ef0e1-6729-49bd-be6f-06af2a25799f",
   "metadata": {},
   "outputs": [],
   "source": [
    "roc_auc_score(y_test, p_test, sample_weight=weight_test)"
   ]
  },
  {
   "cell_type": "code",
   "execution_count": null,
   "id": "d122108d-66ed-4ed3-952f-020ee1be025a",
   "metadata": {},
   "outputs": [],
   "source": [
    "fpr, tpr, thr = roc_curve(y_test, p_test, sample_weight=weight_test)"
   ]
  },
  {
   "cell_type": "code",
   "execution_count": null,
   "id": "541e7fe4-0921-4b5a-b994-f6bd1b9e90be",
   "metadata": {},
   "outputs": [],
   "source": [
    "ams(tpr * nsig_tot, fpr * nbkg_tot).max()"
   ]
  }
 ],
 "metadata": {
  "kernelspec": {
   "display_name": "Python 3 (ipykernel)",
   "language": "python",
   "name": "python3"
  },
  "language_info": {
   "codemirror_mode": {
    "name": "ipython",
    "version": 3
   },
   "file_extension": ".py",
   "mimetype": "text/x-python",
   "name": "python",
   "nbconvert_exporter": "python",
   "pygments_lexer": "ipython3",
   "version": "3.12.3"
  }
 },
 "nbformat": 4,
 "nbformat_minor": 5
}
